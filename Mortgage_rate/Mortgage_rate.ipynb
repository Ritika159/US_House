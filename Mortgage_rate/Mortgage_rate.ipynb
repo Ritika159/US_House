{
 "cells": [
  {
   "cell_type": "code",
   "execution_count": 1,
   "id": "e04e2702-2b91-4436-b7bd-149e69a931b7",
   "metadata": {},
   "outputs": [],
   "source": [
    "# Pandas is a software library written for the Python programming language for data manipulation and analysis.\n",
    "import pandas as pd\n",
    "# NumPy is a library for the Python programming language, adding support for large, multi-dimensional arrays and matrices, along with a large collection  of high-level mathematical functions to operate on these arrays.\n",
    "import numpy as np\n",
    "# Matplotlib is a plotting library for python and pyplot gives us a MatLab like plotting framework. We will use this in our plotter function to plot data.\n",
    "import matplotlib.pyplot as plt\n",
    "%matplotlib inline\n",
    "#Plotly provides number of trace objects such as scatter, bar, pie, heatmap etc. and each is returned by respective functions in graph_objs functions.\n",
    "import plotly.graph_objs as go\n",
    "#To create subplots\n",
    "from plotly.subplots import make_subplots\n",
    "#The plotly.express module (usually imported as px) contains functions that can create entire figures at once, and is referred to as Plotly Express or PX.\n",
    "import plotly.express as px\n",
    "#Seaborn is a Python data visualization library based on matplotlib. It provides a high-level interface for drawing attractive and informative statistical graphics\n",
    "#This affects things like the color of the axes, whether a grid is enabled by default, and other aesthetic elements.\n",
    "import seaborn as sns;sns.set(style=\"ticks\", color_codes=True)\n",
    "#Requests is a HTTP library for the Python programming language. The goal of the project is to make HTTP requests simpler and more human-friendly.\n",
    "import requests\n",
    "# The io module provides Python’s main facilities for dealing with various types of I/O. There are three main types of I/O: text I/O, binary I/O and raw I/O.\n",
    "import io\n",
    "# To work with date time variables\n",
    "import datetime as dt"
   ]
  },
  {
   "cell_type": "code",
   "execution_count": 2,
   "id": "9570d9f5-f124-443f-9cff-6cadf7f4f6eb",
   "metadata": {},
   "outputs": [],
   "source": [
    "# Setting this option will print all collumns of a dataframe\n",
    "pd.set_option('display.max_columns', None)\n",
    "# Setting this option will print all of the data in a feature\n",
    "pd.set_option('display.max_colwidth', None)\n",
    "# Setting this option will print all of the data in a row\n",
    "pd.set_option('display.max_rows',None)"
   ]
  },
  {
   "cell_type": "code",
   "execution_count": 8,
   "id": "7123a02d-038f-45c1-b333-1475905626e7",
   "metadata": {},
   "outputs": [
    {
     "data": {
      "text/html": [
       "<div>\n",
       "<style scoped>\n",
       "    .dataframe tbody tr th:only-of-type {\n",
       "        vertical-align: middle;\n",
       "    }\n",
       "\n",
       "    .dataframe tbody tr th {\n",
       "        vertical-align: top;\n",
       "    }\n",
       "\n",
       "    .dataframe thead th {\n",
       "        text-align: right;\n",
       "    }\n",
       "</style>\n",
       "<table border=\"1\" class=\"dataframe\">\n",
       "  <thead>\n",
       "    <tr style=\"text-align: right;\">\n",
       "      <th></th>\n",
       "      <th>Date</th>\n",
       "      <th>Mortgage_rate</th>\n",
       "    </tr>\n",
       "  </thead>\n",
       "  <tbody>\n",
       "    <tr>\n",
       "      <th>0</th>\n",
       "      <td>1971-04-01</td>\n",
       "      <td>7.41</td>\n",
       "    </tr>\n",
       "    <tr>\n",
       "      <th>1</th>\n",
       "      <td>1971-07-01</td>\n",
       "      <td>7.66</td>\n",
       "    </tr>\n",
       "    <tr>\n",
       "      <th>2</th>\n",
       "      <td>1971-10-01</td>\n",
       "      <td>7.55</td>\n",
       "    </tr>\n",
       "    <tr>\n",
       "      <th>3</th>\n",
       "      <td>1972-01-01</td>\n",
       "      <td>7.35</td>\n",
       "    </tr>\n",
       "    <tr>\n",
       "      <th>4</th>\n",
       "      <td>1972-04-01</td>\n",
       "      <td>7.35</td>\n",
       "    </tr>\n",
       "  </tbody>\n",
       "</table>\n",
       "</div>"
      ],
      "text/plain": [
       "         Date  Mortgage_rate\n",
       "0  1971-04-01           7.41\n",
       "1  1971-07-01           7.66\n",
       "2  1971-10-01           7.55\n",
       "3  1972-01-01           7.35\n",
       "4  1972-04-01           7.35"
      ]
     },
     "execution_count": 8,
     "metadata": {},
     "output_type": "execute_result"
    }
   ],
   "source": [
    "Mortgage_rate_quaterly = pd.read_csv(\"G:\\My Drive\\Data Science and Machine Learning\\ML and DS Projects\\Projects\\Hoom\\Mortgage_rate\\Mortgage_quaterly.csv\")\n",
    "Mortgage_rate_quaterly.head()"
   ]
  },
  {
   "cell_type": "code",
   "execution_count": 9,
   "id": "a49ac674-b497-4a47-a1b4-af0faef39f5a",
   "metadata": {},
   "outputs": [
    {
     "data": {
      "text/plain": [
       "Date              object\n",
       "Mortgage_rate    float64\n",
       "dtype: object"
      ]
     },
     "execution_count": 9,
     "metadata": {},
     "output_type": "execute_result"
    }
   ],
   "source": [
    "Mortgage_rate_quaterly.dtypes"
   ]
  },
  {
   "cell_type": "code",
   "execution_count": 10,
   "id": "46c55a45-8806-4955-9f0a-fa8612a9ec65",
   "metadata": {},
   "outputs": [
    {
     "data": {
      "application/vnd.plotly.v1+json": {
       "config": {
        "plotlyServerURL": "https://plot.ly"
       },
       "data": [
        {
         "hovertemplate": "Date=%{x}<br>Mortgage_rate=%{y}<extra></extra>",
         "legendgroup": "",
         "line": {
          "color": "#636efa",
          "dash": "solid"
         },
         "marker": {
          "symbol": "circle"
         },
         "mode": "lines",
         "name": "",
         "orientation": "v",
         "showlegend": false,
         "type": "scatter",
         "x": [
          "1971-04-01",
          "1971-07-01",
          "1971-10-01",
          "1972-01-01",
          "1972-04-01",
          "1972-07-01",
          "1972-10-01",
          "1973-01-01",
          "1973-04-01",
          "1973-07-01",
          "1973-10-01",
          "1974-01-01",
          "1974-04-01",
          "1974-07-01",
          "1974-10-01",
          "1975-01-01",
          "1975-04-01",
          "1975-07-01",
          "1975-10-01",
          "1976-01-01",
          "1976-04-01",
          "1976-07-01",
          "1976-10-01",
          "1977-01-01",
          "1977-04-01",
          "1977-07-01",
          "1977-10-01",
          "1978-01-01",
          "1978-04-01",
          "1978-07-01",
          "1978-10-01",
          "1979-01-01",
          "1979-04-01",
          "1979-07-01",
          "1979-10-01",
          "1980-01-01",
          "1980-04-01",
          "1980-07-01",
          "1980-10-01",
          "1981-01-01",
          "1981-04-01",
          "1981-07-01",
          "1981-10-01",
          "1982-01-01",
          "1982-04-01",
          "1982-07-01",
          "1982-10-01",
          "1983-01-01",
          "1983-04-01",
          "1983-07-01",
          "1983-10-01",
          "1984-01-01",
          "1984-04-01",
          "1984-07-01",
          "1984-10-01",
          "1985-01-01",
          "1985-04-01",
          "1985-07-01",
          "1985-10-01",
          "1986-01-01",
          "1986-04-01",
          "1986-07-01",
          "1986-10-01",
          "1987-01-01",
          "1987-04-01",
          "1987-07-01",
          "1987-10-01",
          "1988-01-01",
          "1988-04-01",
          "1988-07-01",
          "1988-10-01",
          "1989-01-01",
          "1989-04-01",
          "1989-07-01",
          "1989-10-01",
          "1990-01-01",
          "1990-04-01",
          "1990-07-01",
          "1990-10-01",
          "1991-01-01",
          "1991-04-01",
          "1991-07-01",
          "1991-10-01",
          "1992-01-01",
          "1992-04-01",
          "1992-07-01",
          "1992-10-01",
          "1993-01-01",
          "1993-04-01",
          "1993-07-01",
          "1993-10-01",
          "1994-01-01",
          "1994-04-01",
          "1994-07-01",
          "1994-10-01",
          "1995-01-01",
          "1995-04-01",
          "1995-07-01",
          "1995-10-01",
          "1996-01-01",
          "1996-04-01",
          "1996-07-01",
          "1996-10-01",
          "1997-01-01",
          "1997-04-01",
          "1997-07-01",
          "1997-10-01",
          "1998-01-01",
          "1998-04-01",
          "1998-07-01",
          "1998-10-01",
          "1999-01-01",
          "1999-04-01",
          "1999-07-01",
          "1999-10-01",
          "2000-01-01",
          "2000-04-01",
          "2000-07-01",
          "2000-10-01",
          "2001-01-01",
          "2001-04-01",
          "2001-07-01",
          "2001-10-01",
          "2002-01-01",
          "2002-04-01",
          "2002-07-01",
          "2002-10-01",
          "2003-01-01",
          "2003-04-01",
          "2003-07-01",
          "2003-10-01",
          "2004-01-01",
          "2004-04-01",
          "2004-07-01",
          "2004-10-01",
          "2005-01-01",
          "2005-04-01",
          "2005-07-01",
          "2005-10-01",
          "2006-01-01",
          "2006-04-01",
          "2006-07-01",
          "2006-10-01",
          "2007-01-01",
          "2007-04-01",
          "2007-07-01",
          "2007-10-01",
          "2008-01-01",
          "2008-04-01",
          "2008-07-01",
          "2008-10-01",
          "2009-01-01",
          "2009-04-01",
          "2009-07-01",
          "2009-10-01",
          "2010-01-01",
          "2010-04-01",
          "2010-07-01",
          "2010-10-01",
          "2011-01-01",
          "2011-04-01",
          "2011-07-01",
          "2011-10-01",
          "2012-01-01",
          "2012-04-01",
          "2012-07-01",
          "2012-10-01",
          "2013-01-01",
          "2013-04-01",
          "2013-07-01",
          "2013-10-01",
          "2014-01-01",
          "2014-04-01",
          "2014-07-01",
          "2014-10-01",
          "2015-01-01",
          "2015-04-01",
          "2015-07-01",
          "2015-10-01",
          "2016-01-01",
          "2016-04-01",
          "2016-07-01",
          "2016-10-01",
          "2017-01-01",
          "2017-04-01",
          "2017-07-01",
          "2017-10-01",
          "2018-01-01",
          "2018-04-01",
          "2018-07-01",
          "2018-10-01",
          "2019-01-01",
          "2019-04-01",
          "2019-07-01",
          "2019-10-01",
          "2020-01-01",
          "2020-04-01",
          "2020-07-01",
          "2020-10-01",
          "2021-01-01",
          "2021-04-01",
          "2021-07-01",
          "2021-10-01",
          "2022-01-01",
          "2022-04-01",
          "2022-07-01"
         ],
         "xaxis": "x",
         "y": [
          7.41,
          7.66,
          7.55,
          7.35,
          7.35,
          7.41,
          7.43,
          7.45,
          7.65,
          8.46,
          8.63,
          8.46,
          8.89,
          9.61,
          9.79,
          9.17,
          8.88,
          8.98,
          9.16,
          8.87,
          8.78,
          8.97,
          8.85,
          8.69,
          8.81,
          8.93,
          8.94,
          9.13,
          9.56,
          9.76,
          10.12,
          10.41,
          10.76,
          11.16,
          12.48,
          13.68,
          14.42,
          12.64,
          14.23,
          15.13,
          16.24,
          17.38,
          17.74,
          17.41,
          16.77,
          16.22,
          14.03,
          13.03,
          12.76,
          13.64,
          13.46,
          13.33,
          14.04,
          14.49,
          13.65,
          13.06,
          12.79,
          12.14,
          11.73,
          10.58,
          10.25,
          10.24,
          9.68,
          9.11,
          10.34,
          10.48,
          10.86,
          10.07,
          10.36,
          10.5,
          10.41,
          10.82,
          10.64,
          10.01,
          9.81,
          10.13,
          10.32,
          10.1,
          9.96,
          9.5,
          9.52,
          9.27,
          8.69,
          8.69,
          8.68,
          8.02,
          8.19,
          7.72,
          7.45,
          7.09,
          7.05,
          7.3,
          8.43,
          8.59,
          9.11,
          8.79,
          7.92,
          7.7,
          7.34,
          7.27,
          8.1,
          8.15,
          7.7,
          7.79,
          7.93,
          7.47,
          7.21,
          7.05,
          7.1,
          6.87,
          6.76,
          6.88,
          7.18,
          7.79,
          7.84,
          8.26,
          8.32,
          8.02,
          7.62,
          7.01,
          7.13,
          6.96,
          6.77,
          6.97,
          6.81,
          6.29,
          6.08,
          5.84,
          5.51,
          6.03,
          5.92,
          5.6,
          6.11,
          5.89,
          5.74,
          5.77,
          5.71,
          5.76,
          6.23,
          6.25,
          6.6,
          6.56,
          6.24,
          6.21,
          6.36,
          6.55,
          6.22,
          5.87,
          6.09,
          6.32,
          5.84,
          5.06,
          5.01,
          5.16,
          4.92,
          5,
          4.92,
          4.45,
          4.44,
          4.85,
          4.65,
          4.29,
          4,
          3.92,
          3.79,
          3.55,
          3.36,
          3.5,
          3.67,
          4.44,
          4.29,
          4.36,
          4.23,
          4.14,
          3.96,
          3.72,
          3.82,
          3.95,
          3.9,
          3.74,
          3.59,
          3.45,
          3.84,
          4.17,
          3.98,
          3.88,
          3.92,
          4.28,
          4.54,
          4.57,
          4.78,
          4.37,
          4.01,
          3.66,
          3.7,
          3.52,
          3.24,
          2.95,
          2.76,
          2.88,
          3,
          2.87,
          3.08,
          3.82,
          5.27,
          null
         ],
         "yaxis": "y"
        }
       ],
       "layout": {
        "autosize": true,
        "legend": {
         "tracegroupgap": 0
        },
        "template": {
         "data": {
          "bar": [
           {
            "error_x": {
             "color": "#2a3f5f"
            },
            "error_y": {
             "color": "#2a3f5f"
            },
            "marker": {
             "line": {
              "color": "#E5ECF6",
              "width": 0.5
             },
             "pattern": {
              "fillmode": "overlay",
              "size": 10,
              "solidity": 0.2
             }
            },
            "type": "bar"
           }
          ],
          "barpolar": [
           {
            "marker": {
             "line": {
              "color": "#E5ECF6",
              "width": 0.5
             },
             "pattern": {
              "fillmode": "overlay",
              "size": 10,
              "solidity": 0.2
             }
            },
            "type": "barpolar"
           }
          ],
          "carpet": [
           {
            "aaxis": {
             "endlinecolor": "#2a3f5f",
             "gridcolor": "white",
             "linecolor": "white",
             "minorgridcolor": "white",
             "startlinecolor": "#2a3f5f"
            },
            "baxis": {
             "endlinecolor": "#2a3f5f",
             "gridcolor": "white",
             "linecolor": "white",
             "minorgridcolor": "white",
             "startlinecolor": "#2a3f5f"
            },
            "type": "carpet"
           }
          ],
          "choropleth": [
           {
            "colorbar": {
             "outlinewidth": 0,
             "ticks": ""
            },
            "type": "choropleth"
           }
          ],
          "contour": [
           {
            "colorbar": {
             "outlinewidth": 0,
             "ticks": ""
            },
            "colorscale": [
             [
              0,
              "#0d0887"
             ],
             [
              0.1111111111111111,
              "#46039f"
             ],
             [
              0.2222222222222222,
              "#7201a8"
             ],
             [
              0.3333333333333333,
              "#9c179e"
             ],
             [
              0.4444444444444444,
              "#bd3786"
             ],
             [
              0.5555555555555556,
              "#d8576b"
             ],
             [
              0.6666666666666666,
              "#ed7953"
             ],
             [
              0.7777777777777778,
              "#fb9f3a"
             ],
             [
              0.8888888888888888,
              "#fdca26"
             ],
             [
              1,
              "#f0f921"
             ]
            ],
            "type": "contour"
           }
          ],
          "contourcarpet": [
           {
            "colorbar": {
             "outlinewidth": 0,
             "ticks": ""
            },
            "type": "contourcarpet"
           }
          ],
          "heatmap": [
           {
            "colorbar": {
             "outlinewidth": 0,
             "ticks": ""
            },
            "colorscale": [
             [
              0,
              "#0d0887"
             ],
             [
              0.1111111111111111,
              "#46039f"
             ],
             [
              0.2222222222222222,
              "#7201a8"
             ],
             [
              0.3333333333333333,
              "#9c179e"
             ],
             [
              0.4444444444444444,
              "#bd3786"
             ],
             [
              0.5555555555555556,
              "#d8576b"
             ],
             [
              0.6666666666666666,
              "#ed7953"
             ],
             [
              0.7777777777777778,
              "#fb9f3a"
             ],
             [
              0.8888888888888888,
              "#fdca26"
             ],
             [
              1,
              "#f0f921"
             ]
            ],
            "type": "heatmap"
           }
          ],
          "heatmapgl": [
           {
            "colorbar": {
             "outlinewidth": 0,
             "ticks": ""
            },
            "colorscale": [
             [
              0,
              "#0d0887"
             ],
             [
              0.1111111111111111,
              "#46039f"
             ],
             [
              0.2222222222222222,
              "#7201a8"
             ],
             [
              0.3333333333333333,
              "#9c179e"
             ],
             [
              0.4444444444444444,
              "#bd3786"
             ],
             [
              0.5555555555555556,
              "#d8576b"
             ],
             [
              0.6666666666666666,
              "#ed7953"
             ],
             [
              0.7777777777777778,
              "#fb9f3a"
             ],
             [
              0.8888888888888888,
              "#fdca26"
             ],
             [
              1,
              "#f0f921"
             ]
            ],
            "type": "heatmapgl"
           }
          ],
          "histogram": [
           {
            "marker": {
             "pattern": {
              "fillmode": "overlay",
              "size": 10,
              "solidity": 0.2
             }
            },
            "type": "histogram"
           }
          ],
          "histogram2d": [
           {
            "colorbar": {
             "outlinewidth": 0,
             "ticks": ""
            },
            "colorscale": [
             [
              0,
              "#0d0887"
             ],
             [
              0.1111111111111111,
              "#46039f"
             ],
             [
              0.2222222222222222,
              "#7201a8"
             ],
             [
              0.3333333333333333,
              "#9c179e"
             ],
             [
              0.4444444444444444,
              "#bd3786"
             ],
             [
              0.5555555555555556,
              "#d8576b"
             ],
             [
              0.6666666666666666,
              "#ed7953"
             ],
             [
              0.7777777777777778,
              "#fb9f3a"
             ],
             [
              0.8888888888888888,
              "#fdca26"
             ],
             [
              1,
              "#f0f921"
             ]
            ],
            "type": "histogram2d"
           }
          ],
          "histogram2dcontour": [
           {
            "colorbar": {
             "outlinewidth": 0,
             "ticks": ""
            },
            "colorscale": [
             [
              0,
              "#0d0887"
             ],
             [
              0.1111111111111111,
              "#46039f"
             ],
             [
              0.2222222222222222,
              "#7201a8"
             ],
             [
              0.3333333333333333,
              "#9c179e"
             ],
             [
              0.4444444444444444,
              "#bd3786"
             ],
             [
              0.5555555555555556,
              "#d8576b"
             ],
             [
              0.6666666666666666,
              "#ed7953"
             ],
             [
              0.7777777777777778,
              "#fb9f3a"
             ],
             [
              0.8888888888888888,
              "#fdca26"
             ],
             [
              1,
              "#f0f921"
             ]
            ],
            "type": "histogram2dcontour"
           }
          ],
          "mesh3d": [
           {
            "colorbar": {
             "outlinewidth": 0,
             "ticks": ""
            },
            "type": "mesh3d"
           }
          ],
          "parcoords": [
           {
            "line": {
             "colorbar": {
              "outlinewidth": 0,
              "ticks": ""
             }
            },
            "type": "parcoords"
           }
          ],
          "pie": [
           {
            "automargin": true,
            "type": "pie"
           }
          ],
          "scatter": [
           {
            "marker": {
             "colorbar": {
              "outlinewidth": 0,
              "ticks": ""
             }
            },
            "type": "scatter"
           }
          ],
          "scatter3d": [
           {
            "line": {
             "colorbar": {
              "outlinewidth": 0,
              "ticks": ""
             }
            },
            "marker": {
             "colorbar": {
              "outlinewidth": 0,
              "ticks": ""
             }
            },
            "type": "scatter3d"
           }
          ],
          "scattercarpet": [
           {
            "marker": {
             "colorbar": {
              "outlinewidth": 0,
              "ticks": ""
             }
            },
            "type": "scattercarpet"
           }
          ],
          "scattergeo": [
           {
            "marker": {
             "colorbar": {
              "outlinewidth": 0,
              "ticks": ""
             }
            },
            "type": "scattergeo"
           }
          ],
          "scattergl": [
           {
            "marker": {
             "colorbar": {
              "outlinewidth": 0,
              "ticks": ""
             }
            },
            "type": "scattergl"
           }
          ],
          "scattermapbox": [
           {
            "marker": {
             "colorbar": {
              "outlinewidth": 0,
              "ticks": ""
             }
            },
            "type": "scattermapbox"
           }
          ],
          "scatterpolar": [
           {
            "marker": {
             "colorbar": {
              "outlinewidth": 0,
              "ticks": ""
             }
            },
            "type": "scatterpolar"
           }
          ],
          "scatterpolargl": [
           {
            "marker": {
             "colorbar": {
              "outlinewidth": 0,
              "ticks": ""
             }
            },
            "type": "scatterpolargl"
           }
          ],
          "scatterternary": [
           {
            "marker": {
             "colorbar": {
              "outlinewidth": 0,
              "ticks": ""
             }
            },
            "type": "scatterternary"
           }
          ],
          "surface": [
           {
            "colorbar": {
             "outlinewidth": 0,
             "ticks": ""
            },
            "colorscale": [
             [
              0,
              "#0d0887"
             ],
             [
              0.1111111111111111,
              "#46039f"
             ],
             [
              0.2222222222222222,
              "#7201a8"
             ],
             [
              0.3333333333333333,
              "#9c179e"
             ],
             [
              0.4444444444444444,
              "#bd3786"
             ],
             [
              0.5555555555555556,
              "#d8576b"
             ],
             [
              0.6666666666666666,
              "#ed7953"
             ],
             [
              0.7777777777777778,
              "#fb9f3a"
             ],
             [
              0.8888888888888888,
              "#fdca26"
             ],
             [
              1,
              "#f0f921"
             ]
            ],
            "type": "surface"
           }
          ],
          "table": [
           {
            "cells": {
             "fill": {
              "color": "#EBF0F8"
             },
             "line": {
              "color": "white"
             }
            },
            "header": {
             "fill": {
              "color": "#C8D4E3"
             },
             "line": {
              "color": "white"
             }
            },
            "type": "table"
           }
          ]
         },
         "layout": {
          "annotationdefaults": {
           "arrowcolor": "#2a3f5f",
           "arrowhead": 0,
           "arrowwidth": 1
          },
          "autotypenumbers": "strict",
          "coloraxis": {
           "colorbar": {
            "outlinewidth": 0,
            "ticks": ""
           }
          },
          "colorscale": {
           "diverging": [
            [
             0,
             "#8e0152"
            ],
            [
             0.1,
             "#c51b7d"
            ],
            [
             0.2,
             "#de77ae"
            ],
            [
             0.3,
             "#f1b6da"
            ],
            [
             0.4,
             "#fde0ef"
            ],
            [
             0.5,
             "#f7f7f7"
            ],
            [
             0.6,
             "#e6f5d0"
            ],
            [
             0.7,
             "#b8e186"
            ],
            [
             0.8,
             "#7fbc41"
            ],
            [
             0.9,
             "#4d9221"
            ],
            [
             1,
             "#276419"
            ]
           ],
           "sequential": [
            [
             0,
             "#0d0887"
            ],
            [
             0.1111111111111111,
             "#46039f"
            ],
            [
             0.2222222222222222,
             "#7201a8"
            ],
            [
             0.3333333333333333,
             "#9c179e"
            ],
            [
             0.4444444444444444,
             "#bd3786"
            ],
            [
             0.5555555555555556,
             "#d8576b"
            ],
            [
             0.6666666666666666,
             "#ed7953"
            ],
            [
             0.7777777777777778,
             "#fb9f3a"
            ],
            [
             0.8888888888888888,
             "#fdca26"
            ],
            [
             1,
             "#f0f921"
            ]
           ],
           "sequentialminus": [
            [
             0,
             "#0d0887"
            ],
            [
             0.1111111111111111,
             "#46039f"
            ],
            [
             0.2222222222222222,
             "#7201a8"
            ],
            [
             0.3333333333333333,
             "#9c179e"
            ],
            [
             0.4444444444444444,
             "#bd3786"
            ],
            [
             0.5555555555555556,
             "#d8576b"
            ],
            [
             0.6666666666666666,
             "#ed7953"
            ],
            [
             0.7777777777777778,
             "#fb9f3a"
            ],
            [
             0.8888888888888888,
             "#fdca26"
            ],
            [
             1,
             "#f0f921"
            ]
           ]
          },
          "colorway": [
           "#636efa",
           "#EF553B",
           "#00cc96",
           "#ab63fa",
           "#FFA15A",
           "#19d3f3",
           "#FF6692",
           "#B6E880",
           "#FF97FF",
           "#FECB52"
          ],
          "font": {
           "color": "#2a3f5f"
          },
          "geo": {
           "bgcolor": "white",
           "lakecolor": "white",
           "landcolor": "#E5ECF6",
           "showlakes": true,
           "showland": true,
           "subunitcolor": "white"
          },
          "hoverlabel": {
           "align": "left"
          },
          "hovermode": "closest",
          "mapbox": {
           "style": "light"
          },
          "paper_bgcolor": "white",
          "plot_bgcolor": "#E5ECF6",
          "polar": {
           "angularaxis": {
            "gridcolor": "white",
            "linecolor": "white",
            "ticks": ""
           },
           "bgcolor": "#E5ECF6",
           "radialaxis": {
            "gridcolor": "white",
            "linecolor": "white",
            "ticks": ""
           }
          },
          "scene": {
           "xaxis": {
            "backgroundcolor": "#E5ECF6",
            "gridcolor": "white",
            "gridwidth": 2,
            "linecolor": "white",
            "showbackground": true,
            "ticks": "",
            "zerolinecolor": "white"
           },
           "yaxis": {
            "backgroundcolor": "#E5ECF6",
            "gridcolor": "white",
            "gridwidth": 2,
            "linecolor": "white",
            "showbackground": true,
            "ticks": "",
            "zerolinecolor": "white"
           },
           "zaxis": {
            "backgroundcolor": "#E5ECF6",
            "gridcolor": "white",
            "gridwidth": 2,
            "linecolor": "white",
            "showbackground": true,
            "ticks": "",
            "zerolinecolor": "white"
           }
          },
          "shapedefaults": {
           "line": {
            "color": "#2a3f5f"
           }
          },
          "ternary": {
           "aaxis": {
            "gridcolor": "white",
            "linecolor": "white",
            "ticks": ""
           },
           "baxis": {
            "gridcolor": "white",
            "linecolor": "white",
            "ticks": ""
           },
           "bgcolor": "#E5ECF6",
           "caxis": {
            "gridcolor": "white",
            "linecolor": "white",
            "ticks": ""
           }
          },
          "title": {
           "x": 0.05
          },
          "xaxis": {
           "automargin": true,
           "gridcolor": "white",
           "linecolor": "white",
           "ticks": "",
           "title": {
            "standoff": 15
           },
           "zerolinecolor": "white",
           "zerolinewidth": 2
          },
          "yaxis": {
           "automargin": true,
           "gridcolor": "white",
           "linecolor": "white",
           "ticks": "",
           "title": {
            "standoff": 15
           },
           "zerolinecolor": "white",
           "zerolinewidth": 2
          }
         }
        },
        "title": {
         "text": "Mortgage Rate"
        },
        "xaxis": {
         "anchor": "y",
         "autorange": true,
         "domain": [
          0,
          1
         ],
         "range": [
          "1971-04-01",
          "2022-07-01"
         ],
         "title": {
          "text": "Date"
         },
         "type": "date"
        },
        "yaxis": {
         "anchor": "x",
         "autorange": true,
         "domain": [
          0,
          1
         ],
         "range": [
          1.9277777777777776,
          18.57222222222222
         ],
         "title": {
          "text": "Mortgage_rate"
         },
         "type": "linear"
        }
       }
      },
      "image/png": "[encoded data removed]",
      "text/html": [
       "<div>                            <div id=\"f73ff938-937b-4f45-b868-dc834a5d0059\" class=\"plotly-graph-div\" style=\"height:500px; width:100%;\"></div>            <script type=\"text/javascript\">                require([\"plotly\"], function(Plotly) {                    window.PLOTLYENV=window.PLOTLYENV || {};                                    if (document.getElementById(\"f73ff938-937b-4f45-b868-dc834a5d0059\")) {                    Plotly.newPlot(                        \"f73ff938-937b-4f45-b868-dc834a5d0059\",                        [{\"hovertemplate\":\"Date=%{x}<br>Mortgage_rate=%{y}<extra></extra>\",\"legendgroup\":\"\",\"line\":{\"color\":\"#636efa\",\"dash\":\"solid\"},\"marker\":{\"symbol\":\"circle\"},\"mode\":\"lines\",\"name\":\"\",\"orientation\":\"v\",\"showlegend\":false,\"x\":[\"1971-04-01\",\"1971-07-01\",\"1971-10-01\",\"1972-01-01\",\"1972-04-01\",\"1972-07-01\",\"1972-10-01\",\"1973-01-01\",\"1973-04-01\",\"1973-07-01\",\"1973-10-01\",\"1974-01-01\",\"1974-04-01\",\"1974-07-01\",\"1974-10-01\",\"1975-01-01\",\"1975-04-01\",\"1975-07-01\",\"1975-10-01\",\"1976-01-01\",\"1976-04-01\",\"1976-07-01\",\"1976-10-01\",\"1977-01-01\",\"1977-04-01\",\"1977-07-01\",\"1977-10-01\",\"1978-01-01\",\"1978-04-01\",\"1978-07-01\",\"1978-10-01\",\"1979-01-01\",\"1979-04-01\",\"1979-07-01\",\"1979-10-01\",\"1980-01-01\",\"1980-04-01\",\"1980-07-01\",\"1980-10-01\",\"1981-01-01\",\"1981-04-01\",\"1981-07-01\",\"1981-10-01\",\"1982-01-01\",\"1982-04-01\",\"1982-07-01\",\"1982-10-01\",\"1983-01-01\",\"1983-04-01\",\"1983-07-01\",\"1983-10-01\",\"1984-01-01\",\"1984-04-01\",\"1984-07-01\",\"1984-10-01\",\"1985-01-01\",\"1985-04-01\",\"1985-07-01\",\"1985-10-01\",\"1986-01-01\",\"1986-04-01\",\"1986-07-01\",\"1986-10-01\",\"1987-01-01\",\"1987-04-01\",\"1987-07-01\",\"1987-10-01\",\"1988-01-01\",\"1988-04-01\",\"1988-07-01\",\"1988-10-01\",\"1989-01-01\",\"1989-04-01\",\"1989-07-01\",\"1989-10-01\",\"1990-01-01\",\"1990-04-01\",\"1990-07-01\",\"1990-10-01\",\"1991-01-01\",\"1991-04-01\",\"1991-07-01\",\"1991-10-01\",\"1992-01-01\",\"1992-04-01\",\"1992-07-01\",\"1992-10-01\",\"1993-01-01\",\"1993-04-01\",\"1993-07-01\",\"1993-10-01\",\"1994-01-01\",\"1994-04-01\",\"1994-07-01\",\"1994-10-01\",\"1995-01-01\",\"1995-04-01\",\"1995-07-01\",\"1995-10-01\",\"1996-01-01\",\"1996-04-01\",\"1996-07-01\",\"1996-10-01\",\"1997-01-01\",\"1997-04-01\",\"1997-07-01\",\"1997-10-01\",\"1998-01-01\",\"1998-04-01\",\"1998-07-01\",\"1998-10-01\",\"1999-01-01\",\"1999-04-01\",\"1999-07-01\",\"1999-10-01\",\"2000-01-01\",\"2000-04-01\",\"2000-07-01\",\"2000-10-01\",\"2001-01-01\",\"2001-04-01\",\"2001-07-01\",\"2001-10-01\",\"2002-01-01\",\"2002-04-01\",\"2002-07-01\",\"2002-10-01\",\"2003-01-01\",\"2003-04-01\",\"2003-07-01\",\"2003-10-01\",\"2004-01-01\",\"2004-04-01\",\"2004-07-01\",\"2004-10-01\",\"2005-01-01\",\"2005-04-01\",\"2005-07-01\",\"2005-10-01\",\"2006-01-01\",\"2006-04-01\",\"2006-07-01\",\"2006-10-01\",\"2007-01-01\",\"2007-04-01\",\"2007-07-01\",\"2007-10-01\",\"2008-01-01\",\"2008-04-01\",\"2008-07-01\",\"2008-10-01\",\"2009-01-01\",\"2009-04-01\",\"2009-07-01\",\"2009-10-01\",\"2010-01-01\",\"2010-04-01\",\"2010-07-01\",\"2010-10-01\",\"2011-01-01\",\"2011-04-01\",\"2011-07-01\",\"2011-10-01\",\"2012-01-01\",\"2012-04-01\",\"2012-07-01\",\"2012-10-01\",\"2013-01-01\",\"2013-04-01\",\"2013-07-01\",\"2013-10-01\",\"2014-01-01\",\"2014-04-01\",\"2014-07-01\",\"2014-10-01\",\"2015-01-01\",\"2015-04-01\",\"2015-07-01\",\"2015-10-01\",\"2016-01-01\",\"2016-04-01\",\"2016-07-01\",\"2016-10-01\",\"2017-01-01\",\"2017-04-01\",\"2017-07-01\",\"2017-10-01\",\"2018-01-01\",\"2018-04-01\",\"2018-07-01\",\"2018-10-01\",\"2019-01-01\",\"2019-04-01\",\"2019-07-01\",\"2019-10-01\",\"2020-01-01\",\"2020-04-01\",\"2020-07-01\",\"2020-10-01\",\"2021-01-01\",\"2021-04-01\",\"2021-07-01\",\"2021-10-01\",\"2022-01-01\",\"2022-04-01\",\"2022-07-01\"],\"xaxis\":\"x\",\"y\":[7.41,7.66,7.55,7.35,7.35,7.41,7.43,7.45,7.65,8.46,8.63,8.46,8.89,9.61,9.79,9.17,8.88,8.98,9.16,8.87,8.78,8.97,8.85,8.69,8.81,8.93,8.94,9.13,9.56,9.76,10.12,10.41,10.76,11.16,12.48,13.68,14.42,12.64,14.23,15.13,16.24,17.38,17.74,17.41,16.77,16.22,14.03,13.03,12.76,13.64,13.46,13.33,14.04,14.49,13.65,13.06,12.79,12.14,11.73,10.58,10.25,10.24,9.68,9.11,10.34,10.48,10.86,10.07,10.36,10.5,10.41,10.82,10.64,10.01,9.81,10.13,10.32,10.1,9.96,9.5,9.52,9.27,8.69,8.69,8.68,8.02,8.19,7.72,7.45,7.09,7.05,7.3,8.43,8.59,9.11,8.79,7.92,7.7,7.34,7.27,8.1,8.15,7.7,7.79,7.93,7.47,7.21,7.05,7.1,6.87,6.76,6.88,7.18,7.79,7.84,8.26,8.32,8.02,7.62,7.01,7.13,6.96,6.77,6.97,6.81,6.29,6.08,5.84,5.51,6.03,5.92,5.6,6.11,5.89,5.74,5.77,5.71,5.76,6.23,6.25,6.6,6.56,6.24,6.21,6.36,6.55,6.22,5.87,6.09,6.32,5.84,5.06,5.01,5.16,4.92,5.0,4.92,4.45,4.44,4.85,4.65,4.29,4.0,3.92,3.79,3.55,3.36,3.5,3.67,4.44,4.29,4.36,4.23,4.14,3.96,3.72,3.82,3.95,3.9,3.74,3.59,3.45,3.84,4.17,3.98,3.88,3.92,4.28,4.54,4.57,4.78,4.37,4.01,3.66,3.7,3.52,3.24,2.95,2.76,2.88,3.0,2.87,3.08,3.82,5.27,null],\"yaxis\":\"y\",\"type\":\"scatter\"}],                        {\"template\":{\"data\":{\"bar\":[{\"error_x\":{\"color\":\"#2a3f5f\"},\"error_y\":{\"color\":\"#2a3f5f\"},\"marker\":{\"line\":{\"color\":\"#E5ECF6\",\"width\":0.5},\"pattern\":{\"fillmode\":\"overlay\",\"size\":10,\"solidity\":0.2}},\"type\":\"bar\"}],\"barpolar\":[{\"marker\":{\"line\":{\"color\":\"#E5ECF6\",\"width\":0.5},\"pattern\":{\"fillmode\":\"overlay\",\"size\":10,\"solidity\":0.2}},\"type\":\"barpolar\"}],\"carpet\":[{\"aaxis\":{\"endlinecolor\":\"#2a3f5f\",\"gridcolor\":\"white\",\"linecolor\":\"white\",\"minorgridcolor\":\"white\",\"startlinecolor\":\"#2a3f5f\"},\"baxis\":{\"endlinecolor\":\"#2a3f5f\",\"gridcolor\":\"white\",\"linecolor\":\"white\",\"minorgridcolor\":\"white\",\"startlinecolor\":\"#2a3f5f\"},\"type\":\"carpet\"}],\"choropleth\":[{\"colorbar\":{\"outlinewidth\":0,\"ticks\":\"\"},\"type\":\"choropleth\"}],\"contour\":[{\"colorbar\":{\"outlinewidth\":0,\"ticks\":\"\"},\"colorscale\":[[0.0,\"#0d0887\"],[0.1111111111111111,\"#46039f\"],[0.2222222222222222,\"#7201a8\"],[0.3333333333333333,\"#9c179e\"],[0.4444444444444444,\"#bd3786\"],[0.5555555555555556,\"#d8576b\"],[0.6666666666666666,\"#ed7953\"],[0.7777777777777778,\"#fb9f3a\"],[0.8888888888888888,\"#fdca26\"],[1.0,\"#f0f921\"]],\"type\":\"contour\"}],\"contourcarpet\":[{\"colorbar\":{\"outlinewidth\":0,\"ticks\":\"\"},\"type\":\"contourcarpet\"}],\"heatmap\":[{\"colorbar\":{\"outlinewidth\":0,\"ticks\":\"\"},\"colorscale\":[[0.0,\"#0d0887\"],[0.1111111111111111,\"#46039f\"],[0.2222222222222222,\"#7201a8\"],[0.3333333333333333,\"#9c179e\"],[0.4444444444444444,\"#bd3786\"],[0.5555555555555556,\"#d8576b\"],[0.6666666666666666,\"#ed7953\"],[0.7777777777777778,\"#fb9f3a\"],[0.8888888888888888,\"#fdca26\"],[1.0,\"#f0f921\"]],\"type\":\"heatmap\"}],\"heatmapgl\":[{\"colorbar\":{\"outlinewidth\":0,\"ticks\":\"\"},\"colorscale\":[[0.0,\"#0d0887\"],[0.1111111111111111,\"#46039f\"],[0.2222222222222222,\"#7201a8\"],[0.3333333333333333,\"#9c179e\"],[0.4444444444444444,\"#bd3786\"],[0.5555555555555556,\"#d8576b\"],[0.6666666666666666,\"#ed7953\"],[0.7777777777777778,\"#fb9f3a\"],[0.8888888888888888,\"#fdca26\"],[1.0,\"#f0f921\"]],\"type\":\"heatmapgl\"}],\"histogram\":[{\"marker\":{\"pattern\":{\"fillmode\":\"overlay\",\"size\":10,\"solidity\":0.2}},\"type\":\"histogram\"}],\"histogram2d\":[{\"colorbar\":{\"outlinewidth\":0,\"ticks\":\"\"},\"colorscale\":[[0.0,\"#0d0887\"],[0.1111111111111111,\"#46039f\"],[0.2222222222222222,\"#7201a8\"],[0.3333333333333333,\"#9c179e\"],[0.4444444444444444,\"#bd3786\"],[0.5555555555555556,\"#d8576b\"],[0.6666666666666666,\"#ed7953\"],[0.7777777777777778,\"#fb9f3a\"],[0.8888888888888888,\"#fdca26\"],[1.0,\"#f0f921\"]],\"type\":\"histogram2d\"}],\"histogram2dcontour\":[{\"colorbar\":{\"outlinewidth\":0,\"ticks\":\"\"},\"colorscale\":[[0.0,\"#0d0887\"],[0.1111111111111111,\"#46039f\"],[0.2222222222222222,\"#7201a8\"],[0.3333333333333333,\"#9c179e\"],[0.4444444444444444,\"#bd3786\"],[0.5555555555555556,\"#d8576b\"],[0.6666666666666666,\"#ed7953\"],[0.7777777777777778,\"#fb9f3a\"],[0.8888888888888888,\"#fdca26\"],[1.0,\"#f0f921\"]],\"type\":\"histogram2dcontour\"}],\"mesh3d\":[{\"colorbar\":{\"outlinewidth\":0,\"ticks\":\"\"},\"type\":\"mesh3d\"}],\"parcoords\":[{\"line\":{\"colorbar\":{\"outlinewidth\":0,\"ticks\":\"\"}},\"type\":\"parcoords\"}],\"pie\":[{\"automargin\":true,\"type\":\"pie\"}],\"scatter\":[{\"marker\":{\"colorbar\":{\"outlinewidth\":0,\"ticks\":\"\"}},\"type\":\"scatter\"}],\"scatter3d\":[{\"line\":{\"colorbar\":{\"outlinewidth\":0,\"ticks\":\"\"}},\"marker\":{\"colorbar\":{\"outlinewidth\":0,\"ticks\":\"\"}},\"type\":\"scatter3d\"}],\"scattercarpet\":[{\"marker\":{\"colorbar\":{\"outlinewidth\":0,\"ticks\":\"\"}},\"type\":\"scattercarpet\"}],\"scattergeo\":[{\"marker\":{\"colorbar\":{\"outlinewidth\":0,\"ticks\":\"\"}},\"type\":\"scattergeo\"}],\"scattergl\":[{\"marker\":{\"colorbar\":{\"outlinewidth\":0,\"ticks\":\"\"}},\"type\":\"scattergl\"}],\"scattermapbox\":[{\"marker\":{\"colorbar\":{\"outlinewidth\":0,\"ticks\":\"\"}},\"type\":\"scattermapbox\"}],\"scatterpolar\":[{\"marker\":{\"colorbar\":{\"outlinewidth\":0,\"ticks\":\"\"}},\"type\":\"scatterpolar\"}],\"scatterpolargl\":[{\"marker\":{\"colorbar\":{\"outlinewidth\":0,\"ticks\":\"\"}},\"type\":\"scatterpolargl\"}],\"scatterternary\":[{\"marker\":{\"colorbar\":{\"outlinewidth\":0,\"ticks\":\"\"}},\"type\":\"scatterternary\"}],\"surface\":[{\"colorbar\":{\"outlinewidth\":0,\"ticks\":\"\"},\"colorscale\":[[0.0,\"#0d0887\"],[0.1111111111111111,\"#46039f\"],[0.2222222222222222,\"#7201a8\"],[0.3333333333333333,\"#9c179e\"],[0.4444444444444444,\"#bd3786\"],[0.5555555555555556,\"#d8576b\"],[0.6666666666666666,\"#ed7953\"],[0.7777777777777778,\"#fb9f3a\"],[0.8888888888888888,\"#fdca26\"],[1.0,\"#f0f921\"]],\"type\":\"surface\"}],\"table\":[{\"cells\":{\"fill\":{\"color\":\"#EBF0F8\"},\"line\":{\"color\":\"white\"}},\"header\":{\"fill\":{\"color\":\"#C8D4E3\"},\"line\":{\"color\":\"white\"}},\"type\":\"table\"}]},\"layout\":{\"annotationdefaults\":{\"arrowcolor\":\"#2a3f5f\",\"arrowhead\":0,\"arrowwidth\":1},\"autotypenumbers\":\"strict\",\"coloraxis\":{\"colorbar\":{\"outlinewidth\":0,\"ticks\":\"\"}},\"colorscale\":{\"diverging\":[[0,\"#8e0152\"],[0.1,\"#c51b7d\"],[0.2,\"#de77ae\"],[0.3,\"#f1b6da\"],[0.4,\"#fde0ef\"],[0.5,\"#f7f7f7\"],[0.6,\"#e6f5d0\"],[0.7,\"#b8e186\"],[0.8,\"#7fbc41\"],[0.9,\"#4d9221\"],[1,\"#276419\"]],\"sequential\":[[0.0,\"#0d0887\"],[0.1111111111111111,\"#46039f\"],[0.2222222222222222,\"#7201a8\"],[0.3333333333333333,\"#9c179e\"],[0.4444444444444444,\"#bd3786\"],[0.5555555555555556,\"#d8576b\"],[0.6666666666666666,\"#ed7953\"],[0.7777777777777778,\"#fb9f3a\"],[0.8888888888888888,\"#fdca26\"],[1.0,\"#f0f921\"]],\"sequentialminus\":[[0.0,\"#0d0887\"],[0.1111111111111111,\"#46039f\"],[0.2222222222222222,\"#7201a8\"],[0.3333333333333333,\"#9c179e\"],[0.4444444444444444,\"#bd3786\"],[0.5555555555555556,\"#d8576b\"],[0.6666666666666666,\"#ed7953\"],[0.7777777777777778,\"#fb9f3a\"],[0.8888888888888888,\"#fdca26\"],[1.0,\"#f0f921\"]]},\"colorway\":[\"#636efa\",\"#EF553B\",\"#00cc96\",\"#ab63fa\",\"#FFA15A\",\"#19d3f3\",\"#FF6692\",\"#B6E880\",\"#FF97FF\",\"#FECB52\"],\"font\":{\"color\":\"#2a3f5f\"},\"geo\":{\"bgcolor\":\"white\",\"lakecolor\":\"white\",\"landcolor\":\"#E5ECF6\",\"showlakes\":true,\"showland\":true,\"subunitcolor\":\"white\"},\"hoverlabel\":{\"align\":\"left\"},\"hovermode\":\"closest\",\"mapbox\":{\"style\":\"light\"},\"paper_bgcolor\":\"white\",\"plot_bgcolor\":\"#E5ECF6\",\"polar\":{\"angularaxis\":{\"gridcolor\":\"white\",\"linecolor\":\"white\",\"ticks\":\"\"},\"bgcolor\":\"#E5ECF6\",\"radialaxis\":{\"gridcolor\":\"white\",\"linecolor\":\"white\",\"ticks\":\"\"}},\"scene\":{\"xaxis\":{\"backgroundcolor\":\"#E5ECF6\",\"gridcolor\":\"white\",\"gridwidth\":2,\"linecolor\":\"white\",\"showbackground\":true,\"ticks\":\"\",\"zerolinecolor\":\"white\"},\"yaxis\":{\"backgroundcolor\":\"#E5ECF6\",\"gridcolor\":\"white\",\"gridwidth\":2,\"linecolor\":\"white\",\"showbackground\":true,\"ticks\":\"\",\"zerolinecolor\":\"white\"},\"zaxis\":{\"backgroundcolor\":\"#E5ECF6\",\"gridcolor\":\"white\",\"gridwidth\":2,\"linecolor\":\"white\",\"showbackground\":true,\"ticks\":\"\",\"zerolinecolor\":\"white\"}},\"shapedefaults\":{\"line\":{\"color\":\"#2a3f5f\"}},\"ternary\":{\"aaxis\":{\"gridcolor\":\"white\",\"linecolor\":\"white\",\"ticks\":\"\"},\"baxis\":{\"gridcolor\":\"white\",\"linecolor\":\"white\",\"ticks\":\"\"},\"bgcolor\":\"#E5ECF6\",\"caxis\":{\"gridcolor\":\"white\",\"linecolor\":\"white\",\"ticks\":\"\"}},\"title\":{\"x\":0.05},\"xaxis\":{\"automargin\":true,\"gridcolor\":\"white\",\"linecolor\":\"white\",\"ticks\":\"\",\"title\":{\"standoff\":15},\"zerolinecolor\":\"white\",\"zerolinewidth\":2},\"yaxis\":{\"automargin\":true,\"gridcolor\":\"white\",\"linecolor\":\"white\",\"ticks\":\"\",\"title\":{\"standoff\":15},\"zerolinecolor\":\"white\",\"zerolinewidth\":2}}},\"xaxis\":{\"anchor\":\"y\",\"domain\":[0.0,1.0],\"title\":{\"text\":\"Date\"}},\"yaxis\":{\"anchor\":\"x\",\"domain\":[0.0,1.0],\"title\":{\"text\":\"Mortgage_rate\"}},\"legend\":{\"tracegroupgap\":0},\"title\":{\"text\":\"Mortgage Rate\"},\"height\":500},                        {\"responsive\": true}                    ).then(function(){\n",
       "                            \n",
       "var gd = document.getElementById('f73ff938-937b-4f45-b868-dc834a5d0059');\n",
       "var x = new MutationObserver(function (mutations, observer) {{\n",
       "        var display = window.getComputedStyle(gd).display;\n",
       "        if (!display || display === 'none') {{\n",
       "            console.log([gd, 'removed!']);\n",
       "            Plotly.purge(gd);\n",
       "            observer.disconnect();\n",
       "        }}\n",
       "}});\n",
       "\n",
       "// Listen for the removal of the full notebook cells\n",
       "var notebookContainer = gd.closest('#notebook-container');\n",
       "if (notebookContainer) {{\n",
       "    x.observe(notebookContainer, {childList: true});\n",
       "}}\n",
       "\n",
       "// Listen for the clearing of the current output cell\n",
       "var outputEl = gd.closest('.output');\n",
       "if (outputEl) {{\n",
       "    x.observe(outputEl, {childList: true});\n",
       "}}\n",
       "\n",
       "                        })                };                });            </script>        </div>"
      ]
     },
     "metadata": {},
     "output_type": "display_data"
    }
   ],
   "source": [
    "fig = px.line(Mortgage_rate_quaterly,x='Date',y='Mortgage_rate',height=500,title='Mortgage Rate')\n",
    "fig.show()"
   ]
  },
  {
   "cell_type": "markdown",
   "id": "e157d079-ffd6-4c37-bf1c-b471d8d7fe0a",
   "metadata": {},
   "source": [
    "Another factor that determines the effective demand for houses is the mortgage rates. Mortgage rates always go lower but you shouldn't expect them to. With inflation at 40-year highs and the Federal Reserve making aggressive rate hikes to combat it, mortgage rates seem likely to rise in the near future. Fed does not set mortgage rate rates, but these rates follow the same general trend as the overall market. When mortgage rates rise, home values fall. "
   ]
  },
  {
   "cell_type": "code",
   "execution_count": null,
   "id": "8b2f3d28-7126-4e8e-95cd-15c9353b32b0",
   "metadata": {},
   "outputs": [],
   "source": []
  }
 ],
 "metadata": {
  "kernelspec": {
   "display_name": "Python 3 (ipykernel)",
   "language": "python",
   "name": "python3"
  },
  "language_info": {
   "codemirror_mode": {
    "name": "ipython",
    "version": 3
   },
   "file_extension": ".py",
   "mimetype": "text/x-python",
   "name": "python",
   "nbconvert_exporter": "python",
   "pygments_lexer": "ipython3",
   "version": "3.9.12"
  }
 },
 "nbformat": 4,
 "nbformat_minor": 5
}
