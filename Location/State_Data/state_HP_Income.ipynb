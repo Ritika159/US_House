{
 "cells": [
  {
   "cell_type": "code",
   "execution_count": 1,
   "id": "a2e43073-0aff-48d0-b981-528cf9357ef9",
   "metadata": {},
   "outputs": [],
   "source": [
    "# Pandas is a software library written for the Python programming language for data manipulation and analysis.\n",
    "import pandas as pd\n",
    "# NumPy is a library for the Python programming language, adding support for large, multi-dimensional arrays and matrices, along with a large collection  of high-level mathematical functions to operate on these arrays.\n",
    "import numpy as np\n",
    "# Matplotlib is a plotting library for python and pyplot gives us a MatLab like plotting framework. We will use this in our plotter function to plot data.\n",
    "import matplotlib.pyplot as plt\n",
    "%matplotlib inline\n",
    "#Plotly provides number of trace objects such as scatter, bar, pie, heatmap etc. and each is returned by respective functions in graph_objs functions.\n",
    "import plotly.graph_objs as go\n",
    "#To create subplots\n",
    "from plotly.subplots import make_subplots\n",
    "#The plotly.express module (usually imported as px) contains functions that can create entire figures at once, and is referred to as Plotly Express or PX.\n",
    "import plotly.express as px\n",
    "#Seaborn is a Python data visualization library based on matplotlib. It provides a high-level interface for drawing attractive and informative statistical graphics\n",
    "#This affects things like the color of the axes, whether a grid is enabled by default, and other aesthetic elements.\n",
    "import seaborn as sns;sns.set(style=\"ticks\", color_codes=True)\n",
    "#Requests is a HTTP library for the Python programming language. The goal of the project is to make HTTP requests simpler and more human-friendly.\n",
    "import requests\n",
    "# The io module provides Python’s main facilities for dealing with various types of I/O. There are three main types of I/O: text I/O, binary I/O and raw I/O.\n",
    "import io\n",
    "# To work with date time variables\n",
    "import datetime as dt"
   ]
  },
  {
   "cell_type": "code",
   "execution_count": 2,
   "id": "35980caf-8dc9-4932-b602-fa441def3a8a",
   "metadata": {},
   "outputs": [],
   "source": [
    "# Setting this option will print all collumns of a dataframe\n",
    "pd.set_option('display.max_columns', None)\n",
    "# Setting this option will print all of the data in a feature\n",
    "pd.set_option('display.max_colwidth', None)\n",
    "# Setting this option will print all of the data in a row\n",
    "pd.set_option('display.max_rows',None)"
   ]
  },
  {
   "cell_type": "code",
   "execution_count": 4,
   "id": "8bd994e0-fee4-423e-a604-aefaedf038f5",
   "metadata": {},
   "outputs": [
    {
     "data": {
      "text/html": [
       "<div>\n",
       "<style scoped>\n",
       "    .dataframe tbody tr th:only-of-type {\n",
       "        vertical-align: middle;\n",
       "    }\n",
       "\n",
       "    .dataframe tbody tr th {\n",
       "        vertical-align: top;\n",
       "    }\n",
       "\n",
       "    .dataframe thead th {\n",
       "        text-align: right;\n",
       "    }\n",
       "</style>\n",
       "<table border=\"1\" class=\"dataframe\">\n",
       "  <thead>\n",
       "    <tr style=\"text-align: right;\">\n",
       "      <th></th>\n",
       "      <th>SizeRank</th>\n",
       "      <th>RegionName</th>\n",
       "      <th>StateName</th>\n",
       "      <th>Year</th>\n",
       "      <th>Average House Price</th>\n",
       "      <th>Median Income</th>\n",
       "      <th>Ratio</th>\n",
       "    </tr>\n",
       "  </thead>\n",
       "  <tbody>\n",
       "    <tr>\n",
       "      <th>0</th>\n",
       "      <td>22</td>\n",
       "      <td>Alabama</td>\n",
       "      <td>AL</td>\n",
       "      <td>2000</td>\n",
       "      <td>103148.75</td>\n",
       "      <td>35424</td>\n",
       "      <td>2.91</td>\n",
       "    </tr>\n",
       "    <tr>\n",
       "      <th>1</th>\n",
       "      <td>46</td>\n",
       "      <td>Alaska</td>\n",
       "      <td>AK</td>\n",
       "      <td>2000</td>\n",
       "      <td>131953.67</td>\n",
       "      <td>52847</td>\n",
       "      <td>2.50</td>\n",
       "    </tr>\n",
       "    <tr>\n",
       "      <th>2</th>\n",
       "      <td>15</td>\n",
       "      <td>Arizona</td>\n",
       "      <td>AZ</td>\n",
       "      <td>2000</td>\n",
       "      <td>140373.58</td>\n",
       "      <td>39783</td>\n",
       "      <td>3.53</td>\n",
       "    </tr>\n",
       "    <tr>\n",
       "      <th>3</th>\n",
       "      <td>31</td>\n",
       "      <td>Arkansas</td>\n",
       "      <td>AR</td>\n",
       "      <td>2000</td>\n",
       "      <td>80881.67</td>\n",
       "      <td>29697</td>\n",
       "      <td>2.72</td>\n",
       "    </tr>\n",
       "    <tr>\n",
       "      <th>4</th>\n",
       "      <td>0</td>\n",
       "      <td>California</td>\n",
       "      <td>CA</td>\n",
       "      <td>2000</td>\n",
       "      <td>213105.42</td>\n",
       "      <td>46816</td>\n",
       "      <td>4.55</td>\n",
       "    </tr>\n",
       "  </tbody>\n",
       "</table>\n",
       "</div>"
      ],
      "text/plain": [
       "   SizeRank  RegionName StateName  Year  Average House Price  Median Income  \\\n",
       "0        22     Alabama        AL  2000            103148.75          35424   \n",
       "1        46      Alaska        AK  2000            131953.67          52847   \n",
       "2        15     Arizona        AZ  2000            140373.58          39783   \n",
       "3        31    Arkansas        AR  2000             80881.67          29697   \n",
       "4         0  California        CA  2000            213105.42          46816   \n",
       "\n",
       "   Ratio  \n",
       "0   2.91  \n",
       "1   2.50  \n",
       "2   3.53  \n",
       "3   2.72  \n",
       "4   4.55  "
      ]
     },
     "execution_count": 4,
     "metadata": {},
     "output_type": "execute_result"
    }
   ],
   "source": [
    "df = pd.read_csv(\"G:\\My Drive\\Data Science and Machine Learning\\ML and DS Projects\\Projects\\Hoom\\Availability , Location\\State_Data\\cleaned_data_for_mapping.csv\")\n",
    "df.head()"
   ]
  },
  {
   "cell_type": "code",
   "execution_count": 14,
   "id": "f4094a45-eb28-415e-85ec-82cb8a274441",
   "metadata": {},
   "outputs": [
    {
     "data": {
      "application/vnd.plotly.v1+json": {
       "config": {
        "plotlyServerURL": "https://plot.ly"
       },
       "data": [
        {
         "coloraxis": "coloraxis",
         "customdata": [
          [
           138655.42,
           42212
          ],
          [
           235107.33,
           62993
          ],
          [
           272677.92,
           47215
          ],
          [
           112757.83,
           40795
          ],
          [
           498823.17,
           55734
          ],
          [
           253418.33,
           61141
          ],
          [
           325662.5,
           64141
          ],
          [
           283683.58,
           54589
          ],
          [
           463933.08,
           50783
          ],
          [
           262601.08,
           45794
          ],
          [
           178411,
           48641
          ],
          [
           549959.08,
           64022
          ],
          [
           204226.92,
           49184
          ],
          [
           238439.08,
           52506
          ],
          [
           125086.5,
           47453
          ],
          [
           126239.08,
           48908
          ],
          [
           126848,
           48497
          ],
          [
           118885.83,
           39452
          ],
          [
           155667.25,
           41313
          ],
          [
           219672.33,
           47894
          ],
          [
           366450.17,
           65630
          ],
          [
           372606.5,
           58463
          ],
          [
           148450.67,
           49370
          ],
          [
           227096.08,
           58058
          ],
          [
           118050.58,
           37279
          ],
          [
           146971.58,
           46005
          ],
          [
           216148,
           43655
          ],
          [
           135131.42,
           49174
          ],
          [
           334647.58,
           54058
          ],
          [
           266328.5,
           67576
          ],
          [
           394057.75,
           60508
          ],
          [
           197701.33,
           44356
          ],
          [
           276864.5,
           48944
          ],
          [
           176950.75,
           43513
          ],
          [
           null,
           47205
          ],
          [
           136271.25,
           49099
          ],
          [
           106851.33,
           43216
          ],
          [
           294814.58,
           50236
          ],
          [
           180936.42,
           48437
          ],
          [
           313092.42,
           54210
          ],
          [
           176731.33,
           44213
          ],
          [
           153511.17,
           46418
          ],
          [
           152629.67,
           41195
          ],
          [
           146515.58,
           46053
          ],
          [
           255252.5,
           53529
          ],
          [
           237486.67,
           47390
          ],
          [
           288529.92,
           59161
          ],
          [
           321395.75,
           58080
          ],
          [
           97233.67,
           42091
          ],
          [
           174956.08,
           51277
          ],
          [
           204358.92,
           48744
          ]
         ],
         "geo": "geo",
         "hovertemplate": "<b>%{hovertext}</b><br><br>Year=2007<br>StateName=%{location}<br>Average House Price=%{customdata[0]}<br>Median Income=%{customdata[1]}<br>Ratio=%{z}<extra></extra>",
         "hovertext": [
          "Alabama",
          "Alaska",
          "Arizona",
          "Arkansas",
          "California",
          "Colorado",
          "Connecticut",
          "Delaware",
          "District of Columbia",
          "Florida",
          "Georgia",
          "Hawaii",
          "Idaho",
          "Illinois",
          "Indiana",
          "Iowa",
          "Kansas",
          "Kentucky",
          "Louisiana",
          "Maine",
          "Maryland",
          "Massachusetts",
          "Michigan",
          "Minnesota",
          "Mississippi",
          "Missouri",
          "Montana",
          "Nebraska",
          "Nevada",
          "New Hampshire",
          "New Jersey",
          "New Mexico",
          "New York",
          "North Carolina",
          "North Dakota",
          "Ohio",
          "Oklahoma",
          "Oregon",
          "Pennsylvania",
          "Rhode Island",
          "South Carolina",
          "South Dakota",
          "Tennessee",
          "Texas",
          "Utah",
          "Vermont",
          "Virginia",
          "Washington",
          "West Virginia",
          "Wisconsin",
          "Wyoming"
         ],
         "locationmode": "USA-states",
         "locations": [
          "AL",
          "AK",
          "AZ",
          "AR",
          "CA",
          "CO",
          "CT",
          "DE",
          "DC",
          "FL",
          "GA",
          "HI",
          "ID",
          "IL",
          "IN",
          "IA",
          "KS",
          "KY",
          "LA",
          "ME",
          "MD",
          "MA",
          "MI",
          "MN",
          "MS",
          "MO",
          "MT",
          "NE",
          "NV",
          "NH",
          "NJ",
          "NM",
          "NY",
          "NC",
          "ND",
          "OH",
          "OK",
          "OR",
          "PA",
          "RI",
          "SC",
          "SD",
          "TN",
          "TX",
          "UT",
          "VT",
          "VA",
          "WA",
          "WV",
          "WI",
          "WY"
         ],
         "name": "",
         "type": "choropleth",
         "z": [
          3.28,
          3.73,
          5.78,
          2.76,
          8.95,
          4.14,
          5.08,
          5.2,
          9.14,
          5.73,
          3.67,
          8.59,
          4.15,
          4.54,
          2.64,
          2.58,
          2.62,
          3.01,
          3.77,
          4.59,
          5.58,
          6.37,
          3.01,
          3.91,
          3.17,
          3.19,
          4.95,
          2.75,
          6.19,
          3.94,
          6.51,
          4.46,
          5.66,
          4.07,
          null,
          2.78,
          2.47,
          5.87,
          3.74,
          5.78,
          4,
          3.31,
          3.71,
          3.18,
          4.77,
          5.01,
          4.88,
          5.53,
          2.31,
          3.41,
          4.19
         ]
        }
       ],
       "frames": [
        {
         "data": [
          {
           "coloraxis": "coloraxis",
           "customdata": [
            [
             103148.75,
             35424
            ],
            [
             131953.67,
             52847
            ],
            [
             140373.58,
             39783
            ],
            [
             80881.67,
             29697
            ],
            [
             213105.42,
             46816
            ],
            [
             195650.17,
             48240
            ],
            [
             180053,
             50172
            ],
            [
             156262,
             50365
            ],
            [
             201678.5,
             41222
            ],
            [
             119305.33,
             38856
            ],
            [
             135797.33,
             41901
            ],
            [
             228851.08,
             51546
            ],
            [
             126867.17,
             37611
            ],
            [
             152867.5,
             46064
            ],
            [
             103960.5,
             40865
            ],
            [
             96463.25,
             40991
            ],
            [
             95515.5,
             41059
            ],
            [
             93669.67,
             36265
            ],
            [
             107814.25,
             30718
            ],
            [
             120643.67,
             37266
            ],
            [
             166774,
             54535
            ],
            [
             219922.83,
             46753
            ],
            [
             126816.25,
             45512
            ],
            [
             142719.08,
             54251
            ],
            [
             85235.33,
             34299
            ],
            [
             103562.08,
             45097
            ],
            [
             null,
             32777
            ],
            [
             118929.25,
             41750
            ],
            [
             167406.08,
             45758
            ],
            [
             147343.17,
             50926
            ],
            [
             193474.17,
             50405
            ],
            [
             null,
             35093
            ],
            [
             155873.33,
             40744
            ],
            [
             137401.33,
             38317
            ],
            [
             null,
             35996
            ],
            [
             113323.08,
             42962
            ],
            [
             81179.08,
             32432
            ],
            [
             164983.25,
             42499
            ],
            [
             108924,
             42176
            ],
            [
             151552.33,
             42197
            ],
            [
             125804.25,
             37570
            ],
            [
             115283.42,
             36475
            ],
            [
             115592.42,
             34096
            ],
            [
             115486.5,
             38609
            ],
            [
             184213.08,
             47550
            ],
            [
             130625.08,
             39594
            ],
            [
             139729.92,
             47163
            ],
            [
             179606.08,
             42525
            ],
            [
             69740.17,
             29411
            ],
            [
             121000.92,
             45088
            ],
            [
             null,
             39629
            ]
           ],
           "geo": "geo",
           "hovertemplate": "<b>%{hovertext}</b><br><br>Year=2000<br>StateName=%{location}<br>Average House Price=%{customdata[0]}<br>Median Income=%{customdata[1]}<br>Ratio=%{z}<extra></extra>",
           "hovertext": [
            "Alabama",
            "Alaska",
            "Arizona",
            "Arkansas",
            "California",
            "Colorado",
            "Connecticut",
            "Delaware",
            "District of Columbia",
            "Florida",
            "Georgia",
            "Hawaii",
            "Idaho",
            "Illinois",
            "Indiana",
            "Iowa",
            "Kansas",
            "Kentucky",
            "Louisiana",
            "Maine",
            "Maryland",
            "Massachusetts",
            "Michigan",
            "Minnesota",
            "Mississippi",
            "Missouri",
            "Montana",
            "Nebraska",
            "Nevada",
            "New Hampshire",
            "New Jersey",
            "New Mexico",
            "New York",
            "North Carolina",
            "North Dakota",
            "Ohio",
            "Oklahoma",
            "Oregon",
            "Pennsylvania",
            "Rhode Island",
            "South Carolina",
            "South Dakota",
            "Tennessee",
            "Texas",
            "Utah",
            "Vermont",
            "Virginia",
            "Washington",
            "West Virginia",
            "Wisconsin",
            "Wyoming"
           ],
           "locationmode": "USA-states",
           "locations": [
            "AL",
            "AK",
            "AZ",
            "AR",
            "CA",
            "CO",
            "CT",
            "DE",
            "DC",
            "FL",
            "GA",
            "HI",
            "ID",
            "IL",
            "IN",
            "IA",
            "KS",
            "KY",
            "LA",
            "ME",
            "MD",
            "MA",
            "MI",
            "MN",
            "MS",
            "MO",
            "MT",
            "NE",
            "NV",
            "NH",
            "NJ",
            "NM",
            "NY",
            "NC",
            "ND",
            "OH",
            "OK",
            "OR",
            "PA",
            "RI",
            "SC",
            "SD",
            "TN",
            "TX",
            "UT",
            "VT",
            "VA",
            "WA",
            "WV",
            "WI",
            "WY"
           ],
           "name": "",
           "type": "choropleth",
           "z": [
            2.91,
            2.5,
            3.53,
            2.72,
            4.55,
            4.06,
            3.59,
            3.1,
            4.89,
            3.07,
            3.24,
            4.44,
            3.37,
            3.32,
            2.54,
            2.35,
            2.33,
            2.58,
            3.51,
            3.24,
            3.06,
            4.7,
            2.79,
            2.63,
            2.49,
            2.3,
            null,
            2.85,
            3.66,
            2.89,
            3.84,
            null,
            3.83,
            3.59,
            null,
            2.64,
            2.5,
            3.88,
            2.58,
            3.59,
            3.35,
            3.16,
            3.39,
            2.99,
            3.87,
            3.3,
            2.96,
            4.22,
            2.37,
            2.68,
            null
           ]
          }
         ],
         "name": "2000"
        },
        {
         "data": [
          {
           "coloraxis": "coloraxis",
           "customdata": [
            [
             107313.58,
             35160
            ],
            [
             152513.67,
             57363
            ],
            [
             148184.33,
             42704
            ],
            [
             84591.75,
             33339
            ],
            [
             243172,
             47262
            ],
            [
             218944,
             49397
            ],
            [
             195869.92,
             53347
            ],
            [
             165562.42,
             49602
            ],
            [
             220088.92,
             41169
            ],
            [
             129241,
             36421
            ],
            [
             145643.75,
             42576
            ],
            [
             242283.33,
             47439
            ],
            [
             131585.33,
             38241
            ],
            [
             164887.58,
             46171
            ],
            [
             107560.33,
             40379
            ],
            [
             100926.83,
             40976
            ],
            [
             101356.17,
             41415
            ],
            [
             98720,
             38437
            ],
            [
             113514.17,
             33322
            ],
            [
             133916.08,
             36612
            ],
            [
             177185,
             53530
            ],
            [
             253743.92,
             52253
            ],
            [
             135210.42,
             45047
            ],
            [
             161917.42,
             52681
            ],
            [
             89611.25,
             30161
            ],
            [
             110852.17,
             41339
            ],
            [
             null,
             32126
            ],
            [
             113272.83,
             43611
            ],
            [
             176802.25,
             45403
            ],
            [
             168828.17,
             51331
            ],
            [
             213905.75,
             51771
            ],
            [
             null,
             33124
            ],
            [
             168666,
             42114
            ],
            [
             142788.25,
             38162
            ],
            [
             null,
             35793
            ],
            [
             118341.83,
             41785
            ],
            [
             85268.75,
             35609
            ],
            [
             171096.92,
             41273
            ],
            [
             114737.42,
             43499
            ],
            [
             167871.25,
             45723
            ],
            [
             131546.17,
             37736
            ],
            [
             117191.17,
             39671
            ],
            [
             119505.58,
             35783
            ],
            [
             117017.5,
             40860
            ],
            [
             189955.08,
             47342
            ],
            [
             141208.5,
             40794
            ],
            [
             151469,
             50241
            ],
            [
             188802,
             42490
            ],
            [
             73644.42,
             29673
            ],
            [
             127737.25,
             45346
            ],
            [
             null,
             39719
            ]
           ],
           "geo": "geo",
           "hovertemplate": "<b>%{hovertext}</b><br><br>Year=2001<br>StateName=%{location}<br>Average House Price=%{customdata[0]}<br>Median Income=%{customdata[1]}<br>Ratio=%{z}<extra></extra>",
           "hovertext": [
            "Alabama",
            "Alaska",
            "Arizona",
            "Arkansas",
            "California",
            "Colorado",
            "Connecticut",
            "Delaware",
            "District of Columbia",
            "Florida",
            "Georgia",
            "Hawaii",
            "Idaho",
            "Illinois",
            "Indiana",
            "Iowa",
            "Kansas",
            "Kentucky",
            "Louisiana",
            "Maine",
            "Maryland",
            "Massachusetts",
            "Michigan",
            "Minnesota",
            "Mississippi",
            "Missouri",
            "Montana",
            "Nebraska",
            "Nevada",
            "New Hampshire",
            "New Jersey",
            "New Mexico",
            "New York",
            "North Carolina",
            "North Dakota",
            "Ohio",
            "Oklahoma",
            "Oregon",
            "Pennsylvania",
            "Rhode Island",
            "South Carolina",
            "South Dakota",
            "Tennessee",
            "Texas",
            "Utah",
            "Vermont",
            "Virginia",
            "Washington",
            "West Virginia",
            "Wisconsin",
            "Wyoming"
           ],
           "locationmode": "USA-states",
           "locations": [
            "AL",
            "AK",
            "AZ",
            "AR",
            "CA",
            "CO",
            "CT",
            "DE",
            "DC",
            "FL",
            "GA",
            "HI",
            "ID",
            "IL",
            "IN",
            "IA",
            "KS",
            "KY",
            "LA",
            "ME",
            "MD",
            "MA",
            "MI",
            "MN",
            "MS",
            "MO",
            "MT",
            "NE",
            "NV",
            "NH",
            "NJ",
            "NM",
            "NY",
            "NC",
            "ND",
            "OH",
            "OK",
            "OR",
            "PA",
            "RI",
            "SC",
            "SD",
            "TN",
            "TX",
            "UT",
            "VT",
            "VA",
            "WA",
            "WV",
            "WI",
            "WY"
           ],
           "name": "",
           "type": "choropleth",
           "z": [
            3.05,
            2.66,
            3.47,
            2.54,
            5.15,
            4.43,
            3.67,
            3.34,
            5.35,
            3.55,
            3.42,
            5.11,
            3.44,
            3.57,
            2.66,
            2.46,
            2.45,
            2.57,
            3.41,
            3.66,
            3.31,
            4.86,
            3,
            3.07,
            2.97,
            2.68,
            null,
            2.6,
            3.89,
            3.29,
            4.13,
            null,
            4,
            3.74,
            null,
            2.83,
            2.39,
            4.15,
            2.64,
            3.67,
            3.49,
            2.95,
            3.34,
            2.86,
            4.01,
            3.46,
            3.01,
            4.44,
            2.48,
            2.82,
            null
           ]
          }
         ],
         "name": "2001"
        },
        {
         "data": [
          {
           "coloraxis": "coloraxis",
           "customdata": [
            [
             110083,
             37603
            ],
            [
             165039,
             52774
            ],
            [
             155758.42,
             39734
            ],
            [
             87109,
             32387
            ],
            [
             273818.67,
             47437
            ],
            [
             230830.67,
             48294
            ],
            [
             216505.83,
             53387
            ],
            [
             176987.83,
             49650
            ],
            [
             252758.08,
             39070
            ],
            [
             142425,
             38024
            ],
            [
             152479,
             42939
            ],
            [
             261020.5,
             47303
            ],
            [
             135494.83,
             37715
            ],
            [
             177309,
             42710
            ],
            [
             109275.17,
             41047
            ],
            [
             105124.42,
             41049
            ],
            [
             105152.92,
             42619
            ],
            [
             102118.08,
             36762
            ],
            [
             118512.27,
             34008
            ],
            [
             149892.83,
             36853
            ],
            [
             195079.42,
             56407
            ],
            [
             288843.17,
             49855
            ],
            [
             141178.25,
             42715
            ],
            [
             178937.33,
             54622
            ],
            [
             92161.08,
             30882
            ],
            [
             118373.67,
             42776
            ],
            [
             null,
             34835
            ],
            [
             113904.5,
             42796
            ],
            [
             188103.42,
             44958
            ],
            [
             191303.5,
             55321
            ],
            [
             240954.08,
             54568
            ],
            [
             139290.89,
             35457
            ],
            [
             183997.33,
             41966
            ],
            [
             145845.42,
             36515
            ],
            [
             null,
             36200
            ],
            [
             122199.67,
             42684
            ],
            [
             88466.92,
             36458
            ],
            [
             178406.33,
             41802
            ],
            [
             121856.92,
             42498
            ],
            [
             195377.83,
             42417
            ],
            [
             135081.33,
             37812
            ],
            [
             120688.42,
             37873
            ],
            [
             122323.08,
             37030
            ],
            [
             119713,
             40149
            ],
            [
             191196.25,
             47861
            ],
            [
             153341.58,
             42999
            ],
            [
             165995.75,
             49631
            ],
            [
             196842.58,
             45183
            ],
            [
             76084.5,
             29359
            ],
            [
             134758.42,
             45903
            ],
            [
             144591.22,
             39763
            ]
           ],
           "geo": "geo",
           "hovertemplate": "<b>%{hovertext}</b><br><br>Year=2002<br>StateName=%{location}<br>Average House Price=%{customdata[0]}<br>Median Income=%{customdata[1]}<br>Ratio=%{z}<extra></extra>",
           "hovertext": [
            "Alabama",
            "Alaska",
            "Arizona",
            "Arkansas",
            "California",
            "Colorado",
            "Connecticut",
            "Delaware",
            "District of Columbia",
            "Florida",
            "Georgia",
            "Hawaii",
            "Idaho",
            "Illinois",
            "Indiana",
            "Iowa",
            "Kansas",
            "Kentucky",
            "Louisiana",
            "Maine",
            "Maryland",
            "Massachusetts",
            "Michigan",
            "Minnesota",
            "Mississippi",
            "Missouri",
            "Montana",
            "Nebraska",
            "Nevada",
            "New Hampshire",
            "New Jersey",
            "New Mexico",
            "New York",
            "North Carolina",
            "North Dakota",
            "Ohio",
            "Oklahoma",
            "Oregon",
            "Pennsylvania",
            "Rhode Island",
            "South Carolina",
            "South Dakota",
            "Tennessee",
            "Texas",
            "Utah",
            "Vermont",
            "Virginia",
            "Washington",
            "West Virginia",
            "Wisconsin",
            "Wyoming"
           ],
           "locationmode": "USA-states",
           "locations": [
            "AL",
            "AK",
            "AZ",
            "AR",
            "CA",
            "CO",
            "CT",
            "DE",
            "DC",
            "FL",
            "GA",
            "HI",
            "ID",
            "IL",
            "IN",
            "IA",
            "KS",
            "KY",
            "LA",
            "ME",
            "MD",
            "MA",
            "MI",
            "MN",
            "MS",
            "MO",
            "MT",
            "NE",
            "NV",
            "NH",
            "NJ",
            "NM",
            "NY",
            "NC",
            "ND",
            "OH",
            "OK",
            "OR",
            "PA",
            "RI",
            "SC",
            "SD",
            "TN",
            "TX",
            "UT",
            "VT",
            "VA",
            "WA",
            "WV",
            "WI",
            "WY"
           ],
           "name": "",
           "type": "choropleth",
           "z": [
            2.93,
            3.13,
            3.92,
            2.69,
            5.77,
            4.78,
            4.06,
            3.56,
            6.47,
            3.75,
            3.55,
            5.52,
            3.59,
            4.15,
            2.66,
            2.56,
            2.47,
            2.78,
            3.48,
            4.07,
            3.46,
            5.79,
            3.31,
            3.28,
            2.98,
            2.77,
            null,
            2.66,
            4.18,
            3.46,
            4.42,
            3.93,
            4.38,
            3.99,
            null,
            2.86,
            2.43,
            4.27,
            2.87,
            4.61,
            3.57,
            3.19,
            3.3,
            2.98,
            3.99,
            3.57,
            3.34,
            4.36,
            2.59,
            2.94,
            3.64
           ]
          }
         ],
         "name": "2002"
        },
        {
         "data": [
          {
           "coloraxis": "coloraxis",
           "customdata": [
            [
             113333.92,
             37255
            ],
            [
             173473.42,
             51837
            ],
            [
             164762.08,
             41166
            ],
            [
             90835.58,
             32002
            ],
            [
             319345.17,
             49300
            ],
            [
             235327.92,
             49940
            ],
            [
             242775.17,
             54965
            ],
            [
             193704.17,
             49019
            ],
            [
             295910.92,
             45044
            ],
            [
             158976.58,
             38972
            ],
            [
             157010.42,
             42438
            ],
            [
             298025,
             51834
            ],
            [
             138987.58,
             42372
            ],
            [
             190191.42,
             45153
            ],
            [
             111030.08,
             42425
            ],
            [
             109430.5,
             41384
            ],
            [
             107798.58,
             44232
            ],
            [
             105377.42,
             36936
            ],
            [
             122719.92,
             33507
            ],
            [
             167175.58,
             37113
            ],
            [
             221672.33,
             52314
            ],
            [
             327722.75,
             50955
            ],
            [
             145827.08,
             45022
            ],
            [
             194384.17,
             52823
            ],
            [
             94940.92,
             32728
            ],
            [
             125719.83,
             43762
            ],
            [
             null,
             34108
            ],
            [
             118823.42,
             43974
            ],
            [
             204747.25,
             45184
            ],
            [
             217110.42,
             55567
            ],
            [
             278151.75,
             56045
            ],
            [
             142932.75,
             35105
            ],
            [
             203462.83,
             42788
            ],
            [
             148639.25,
             37279
            ],
            [
             null,
             40410
            ],
            [
             126495.25,
             43520
            ],
            [
             91570.42,
             35902
            ],
            [
             187855.83,
             41638
            ],
            [
             131762.92,
             42933
            ],
            [
             234613.42,
             44711
            ],
            [
             139262.83,
             38479
            ],
            [
             125625.58,
             39522
            ],
            [
             125319.58,
             37523
            ],
            [
             123280.75,
             39271
            ],
            [
             191223.83,
             49275
            ],
            [
             165671.73,
             43261
            ],
            [
             184091.42,
             54783
            ],
            [
             206249.08,
             47508
            ],
            [
             79216.5,
             32763
            ],
            [
             143043.5,
             46269
            ],
            [
             149626.92,
             42555
            ]
           ],
           "geo": "geo",
           "hovertemplate": "<b>%{hovertext}</b><br><br>Year=2003<br>StateName=%{location}<br>Average House Price=%{customdata[0]}<br>Median Income=%{customdata[1]}<br>Ratio=%{z}<extra></extra>",
           "hovertext": [
            "Alabama",
            "Alaska",
            "Arizona",
            "Arkansas",
            "California",
            "Colorado",
            "Connecticut",
            "Delaware",
            "District of Columbia",
            "Florida",
            "Georgia",
            "Hawaii",
            "Idaho",
            "Illinois",
            "Indiana",
            "Iowa",
            "Kansas",
            "Kentucky",
            "Louisiana",
            "Maine",
            "Maryland",
            "Massachusetts",
            "Michigan",
            "Minnesota",
            "Mississippi",
            "Missouri",
            "Montana",
            "Nebraska",
            "Nevada",
            "New Hampshire",
            "New Jersey",
            "New Mexico",
            "New York",
            "North Carolina",
            "North Dakota",
            "Ohio",
            "Oklahoma",
            "Oregon",
            "Pennsylvania",
            "Rhode Island",
            "South Carolina",
            "South Dakota",
            "Tennessee",
            "Texas",
            "Utah",
            "Vermont",
            "Virginia",
            "Washington",
            "West Virginia",
            "Wisconsin",
            "Wyoming"
           ],
           "locationmode": "USA-states",
           "locations": [
            "AL",
            "AK",
            "AZ",
            "AR",
            "CA",
            "CO",
            "CT",
            "DE",
            "DC",
            "FL",
            "GA",
            "HI",
            "ID",
            "IL",
            "IN",
            "IA",
            "KS",
            "KY",
            "LA",
            "ME",
            "MD",
            "MA",
            "MI",
            "MN",
            "MS",
            "MO",
            "MT",
            "NE",
            "NV",
            "NH",
            "NJ",
            "NM",
            "NY",
            "NC",
            "ND",
            "OH",
            "OK",
            "OR",
            "PA",
            "RI",
            "SC",
            "SD",
            "TN",
            "TX",
            "UT",
            "VT",
            "VA",
            "WA",
            "WV",
            "WI",
            "WY"
           ],
           "name": "",
           "type": "choropleth",
           "z": [
            3.04,
            3.35,
            4,
            2.84,
            6.48,
            4.71,
            4.42,
            3.95,
            6.57,
            4.08,
            3.7,
            5.75,
            3.28,
            4.21,
            2.62,
            2.64,
            2.44,
            2.85,
            3.66,
            4.5,
            4.24,
            6.43,
            3.24,
            3.68,
            2.9,
            2.87,
            null,
            2.7,
            4.53,
            3.91,
            4.96,
            4.07,
            4.76,
            3.99,
            null,
            2.91,
            2.55,
            4.51,
            3.07,
            5.25,
            3.62,
            3.18,
            3.34,
            3.14,
            3.88,
            3.83,
            3.36,
            4.34,
            2.42,
            3.09,
            3.52
           ]
          }
         ],
         "name": "2003"
        },
        {
         "data": [
          {
           "coloraxis": "coloraxis",
           "customdata": [
            [
             117334.08,
             36629
            ],
            [
             186998.58,
             55063
            ],
            [
             179821.3,
             43846
            ],
            [
             95861.33,
             34984
            ],
            [
             388737.75,
             49222
            ],
            [
             240208.08,
             50886
            ],
            [
             271638.17,
             55100
            ],
            [
             216564.42,
             48049
            ],
            [
             347268.08,
             43451
            ],
            [
             182024.42,
             40535
            ],
            [
             161659.67,
             40984
            ],
            [
             363216.33,
             56242
            ],
            [
             145110.5,
             44358
            ],
            [
             204729.75,
             46077
            ],
            [
             113999,
             42329
            ],
            [
             113858.75,
             43391
            ],
            [
             112930.58,
             41066
            ],
            [
             108727.08,
             35610
            ],
            [
             128536.08,
             36429
            ],
            [
             190437.25,
             41329
            ],
            [
             259075.17,
             57103
            ],
            [
             360629.83,
             52019
            ],
            [
             151207.08,
             42256
            ],
            [
             209862.67,
             56104
            ],
            [
             98112.33,
             34755
            ],
            [
             132588.08,
             42137
            ],
            [
             null,
             33956
            ],
            [
             124865.75,
             43786
            ],
            [
             263106.45,
             47204
            ],
            [
             241538.08,
             56815
            ],
            [
             316605.75,
             55275
            ],
            [
             150704.08,
             39562
            ],
            [
             225102.25,
             44649
            ],
            [
             152554,
             40238
            ],
            [
             null,
             39220
            ],
            [
             131054.17,
             43055
            ],
            [
             94853.83,
             39614
            ],
            [
             203150.17,
             40994
            ],
            [
             144327.5,
             44106
            ],
            [
             276505.75,
             47935
            ],
            [
             145668.08,
             38691
            ],
            [
             132892.42,
             41107
            ],
            [
             129685.75,
             38072
            ],
            [
             130863,
             41397
            ],
            [
             194052.58,
             50871
            ],
            [
             184663.58,
             47329
            ],
            [
             213888.08,
             51141
            ],
            [
             224387.33,
             49922
            ],
            [
             84158.25,
             33373
            ],
            [
             154837.42,
             45732
            ],
            [
             159879.5,
             45397
            ]
           ],
           "geo": "geo",
           "hovertemplate": "<b>%{hovertext}</b><br><br>Year=2004<br>StateName=%{location}<br>Average House Price=%{customdata[0]}<br>Median Income=%{customdata[1]}<br>Ratio=%{z}<extra></extra>",
           "hovertext": [
            "Alabama",
            "Alaska",
            "Arizona",
            "Arkansas",
            "California",
            "Colorado",
            "Connecticut",
            "Delaware",
            "District of Columbia",
            "Florida",
            "Georgia",
            "Hawaii",
            "Idaho",
            "Illinois",
            "Indiana",
            "Iowa",
            "Kansas",
            "Kentucky",
            "Louisiana",
            "Maine",
            "Maryland",
            "Massachusetts",
            "Michigan",
            "Minnesota",
            "Mississippi",
            "Missouri",
            "Montana",
            "Nebraska",
            "Nevada",
            "New Hampshire",
            "New Jersey",
            "New Mexico",
            "New York",
            "North Carolina",
            "North Dakota",
            "Ohio",
            "Oklahoma",
            "Oregon",
            "Pennsylvania",
            "Rhode Island",
            "South Carolina",
            "South Dakota",
            "Tennessee",
            "Texas",
            "Utah",
            "Vermont",
            "Virginia",
            "Washington",
            "West Virginia",
            "Wisconsin",
            "Wyoming"
           ],
           "locationmode": "USA-states",
           "locations": [
            "AL",
            "AK",
            "AZ",
            "AR",
            "CA",
            "CO",
            "CT",
            "DE",
            "DC",
            "FL",
            "GA",
            "HI",
            "ID",
            "IL",
            "IN",
            "IA",
            "KS",
            "KY",
            "LA",
            "ME",
            "MD",
            "MA",
            "MI",
            "MN",
            "MS",
            "MO",
            "MT",
            "NE",
            "NV",
            "NH",
            "NJ",
            "NM",
            "NY",
            "NC",
            "ND",
            "OH",
            "OK",
            "OR",
            "PA",
            "RI",
            "SC",
            "SD",
            "TN",
            "TX",
            "UT",
            "VT",
            "VA",
            "WA",
            "WV",
            "WI",
            "WY"
           ],
           "name": "",
           "type": "choropleth",
           "z": [
            3.2,
            3.4,
            4.1,
            2.74,
            7.9,
            4.72,
            4.93,
            4.51,
            7.99,
            4.49,
            3.94,
            6.46,
            3.27,
            4.44,
            2.69,
            2.62,
            2.75,
            3.05,
            3.53,
            4.61,
            4.54,
            6.93,
            3.58,
            3.74,
            2.82,
            3.15,
            null,
            2.85,
            5.57,
            4.25,
            5.73,
            3.81,
            5.04,
            3.79,
            null,
            3.04,
            2.39,
            4.96,
            3.27,
            5.77,
            3.76,
            3.23,
            3.41,
            3.16,
            3.81,
            3.9,
            4.18,
            4.49,
            2.52,
            3.39,
            3.52
           ]
          }
         ],
         "name": "2004"
        },
        {
         "data": [
          {
           "coloraxis": "coloraxis",
           "customdata": [
            [
             123117.75,
             37150
            ],
            [
             204210.42,
             55891
            ],
            [
             233848.83,
             45245
            ],
            [
             102936.75,
             36658
            ],
            [
             473192.08,
             51755
            ],
            [
             247158.33,
             50449
            ],
            [
             305325.92,
             56835
            ],
            [
             250274,
             51235
            ],
            [
             419007.5,
             44993
            ],
            [
             225158.83,
             42990
            ],
            [
             167669.75,
             45926
            ],
            [
             456680.58,
             59586
            ],
            [
             158592.89,
             44176
            ],
            [
             221655.17,
             48398
            ],
            [
             120271.83,
             42437
            ],
            [
             119143.08,
             46500
            ],
            [
             119324.5,
             42027
            ],
            [
             113148.67,
             36699
            ],
            [
             135818.83,
             37236
            ],
            [
             213073.58,
             43923
            ],
            [
             314597.83,
             60512
            ],
            [
             390991.58,
             56017
            ],
            [
             155357.92,
             45933
            ],
            [
             224472.25,
             54215
            ],
            [
             103601.33,
             32875
            ],
            [
             139135.08,
             42986
            ],
            [
             187845.27,
             37313
            ],
            [
             130034.92,
             47923
            ],
            [
             333338.83,
             48209
            ],
            [
             265181.25,
             56984
            ],
            [
             363194.17,
             63368
            ],
            [
             161819.75,
             38947
            ],
            [
             250789.17,
             47176
            ],
            [
             158877.25,
             42056
            ],
            [
             null,
             42192
            ],
            [
             135157.5,
             44203
            ],
            [
             98887.08,
             37645
            ],
            [
             232804.33,
             44159
            ],
            [
             160592.83,
             46300
            ],
            [
             314090.75,
             49484
            ],
            [
             156392.33,
             40230
            ],
            [
             142214.67,
             43151
            ],
            [
             137122.92,
             39406
            ],
            [
             136393.42,
             41422
            ],
            [
             199129.92,
             54813
            ],
            [
             207235.5,
             50704
            ],
            [
             259482.83,
             51914
            ],
            [
             257862.67,
             50646
            ],
            [
             90870.58,
             36445
            ],
            [
             166423,
             44650
            ],
            [
             173462,
             44718
            ]
           ],
           "geo": "geo",
           "hovertemplate": "<b>%{hovertext}</b><br><br>Year=2005<br>StateName=%{location}<br>Average House Price=%{customdata[0]}<br>Median Income=%{customdata[1]}<br>Ratio=%{z}<extra></extra>",
           "hovertext": [
            "Alabama",
            "Alaska",
            "Arizona",
            "Arkansas",
            "California",
            "Colorado",
            "Connecticut",
            "Delaware",
            "District of Columbia",
            "Florida",
            "Georgia",
            "Hawaii",
            "Idaho",
            "Illinois",
            "Indiana",
            "Iowa",
            "Kansas",
            "Kentucky",
            "Louisiana",
            "Maine",
            "Maryland",
            "Massachusetts",
            "Michigan",
            "Minnesota",
            "Mississippi",
            "Missouri",
            "Montana",
            "Nebraska",
            "Nevada",
            "New Hampshire",
            "New Jersey",
            "New Mexico",
            "New York",
            "North Carolina",
            "North Dakota",
            "Ohio",
            "Oklahoma",
            "Oregon",
            "Pennsylvania",
            "Rhode Island",
            "South Carolina",
            "South Dakota",
            "Tennessee",
            "Texas",
            "Utah",
            "Vermont",
            "Virginia",
            "Washington",
            "West Virginia",
            "Wisconsin",
            "Wyoming"
           ],
           "locationmode": "USA-states",
           "locations": [
            "AL",
            "AK",
            "AZ",
            "AR",
            "CA",
            "CO",
            "CT",
            "DE",
            "DC",
            "FL",
            "GA",
            "HI",
            "ID",
            "IL",
            "IN",
            "IA",
            "KS",
            "KY",
            "LA",
            "ME",
            "MD",
            "MA",
            "MI",
            "MN",
            "MS",
            "MO",
            "MT",
            "NE",
            "NV",
            "NH",
            "NJ",
            "NM",
            "NY",
            "NC",
            "ND",
            "OH",
            "OK",
            "OR",
            "PA",
            "RI",
            "SC",
            "SD",
            "TN",
            "TX",
            "UT",
            "VT",
            "VA",
            "WA",
            "WV",
            "WI",
            "WY"
           ],
           "name": "",
           "type": "choropleth",
           "z": [
            3.31,
            3.65,
            5.17,
            2.81,
            9.14,
            4.9,
            5.37,
            4.88,
            9.31,
            5.24,
            3.65,
            7.66,
            3.59,
            4.58,
            2.83,
            2.56,
            2.84,
            3.08,
            3.65,
            4.85,
            5.2,
            6.98,
            3.38,
            4.14,
            3.15,
            3.24,
            5.03,
            2.71,
            6.91,
            4.65,
            5.73,
            4.15,
            5.32,
            3.78,
            null,
            3.06,
            2.63,
            5.27,
            3.47,
            6.35,
            3.89,
            3.3,
            3.48,
            3.29,
            3.63,
            4.09,
            5,
            5.09,
            2.49,
            3.73,
            3.88
           ]
          }
         ],
         "name": "2005"
        },
        {
         "data": [
          {
           "coloraxis": "coloraxis",
           "customdata": [
            [
             132692.92,
             37952
            ],
            [
             221970.25,
             56418
            ],
            [
             284848,
             46657
            ],
            [
             109915.17,
             37057
            ],
            [
             519554.25,
             55319
            ],
            [
             252850.5,
             55697
            ],
            [
             327796.75,
             62404
            ],
            [
             277211,
             52438
            ],
            [
             464395.92,
             48477
            ],
            [
             271346.08,
             45676
            ],
            [
             174462.67,
             49344
            ],
            [
             538959.5,
             60470
            ],
            [
             194257.25,
             46213
            ],
            [
             236094.75,
             48671
            ],
            [
             123293.42,
             45407
            ],
            [
             123651.5,
             48126
            ],
            [
             122874.92,
             45552
            ],
            [
             117020.25,
             39485
            ],
            [
             148819,
             36488
            ],
            [
             220516.17,
             45642
            ],
            [
             361657.08,
             63668
            ],
            [
             390820.42,
             55330
            ],
            [
             155937.92,
             48647
            ],
            [
             230919.67,
             56211
            ],
            [
             112064.5,
             34733
            ],
            [
             144899.75,
             44579
            ],
            [
             203764.75,
             41105
            ],
            [
             134062.42,
             48145
            ],
            [
             353784.42,
             52282
            ],
            [
             274325.08,
             61970
            ],
            [
             399062.83,
             68059
            ],
            [
             183561.08,
             40028
            ],
            [
             272224.58,
             48222
            ],
            [
             168553.58,
             39797
            ],
            [
             null,
             41047
            ],
            [
             137625.5,
             45900
            ],
            [
             103384.42,
             38838
            ],
            [
             276281.67,
             47091
            ],
            [
             175038.83,
             48477
            ],
            [
             327749.08,
             53736
            ],
            [
             170051.08,
             39617
            ],
            [
             148912.67,
             45427
            ],
            [
             146431.92,
             40693
            ],
            [
             141107.42,
             43307
            ],
            [
             220998,
             54628
            ],
            [
             227145.5,
             51981
            ],
            [
             290125.83,
             57119
            ],
            [
             301116.83,
             54723
            ],
            [
             95029.08,
             38419
            ],
            [
             173335.08,
             51692
            ],
            [
             189454.75,
             47041
            ]
           ],
           "geo": "geo",
           "hovertemplate": "<b>%{hovertext}</b><br><br>Year=2006<br>StateName=%{location}<br>Average House Price=%{customdata[0]}<br>Median Income=%{customdata[1]}<br>Ratio=%{z}<extra></extra>",
           "hovertext": [
            "Alabama",
            "Alaska",
            "Arizona",
            "Arkansas",
            "California",
            "Colorado",
            "Connecticut",
            "Delaware",
            "District of Columbia",
            "Florida",
            "Georgia",
            "Hawaii",
            "Idaho",
            "Illinois",
            "Indiana",
            "Iowa",
            "Kansas",
            "Kentucky",
            "Louisiana",
            "Maine",
            "Maryland",
            "Massachusetts",
            "Michigan",
            "Minnesota",
            "Mississippi",
            "Missouri",
            "Montana",
            "Nebraska",
            "Nevada",
            "New Hampshire",
            "New Jersey",
            "New Mexico",
            "New York",
            "North Carolina",
            "North Dakota",
            "Ohio",
            "Oklahoma",
            "Oregon",
            "Pennsylvania",
            "Rhode Island",
            "South Carolina",
            "South Dakota",
            "Tennessee",
            "Texas",
            "Utah",
            "Vermont",
            "Virginia",
            "Washington",
            "West Virginia",
            "Wisconsin",
            "Wyoming"
           ],
           "locationmode": "USA-states",
           "locations": [
            "AL",
            "AK",
            "AZ",
            "AR",
            "CA",
            "CO",
            "CT",
            "DE",
            "DC",
            "FL",
            "GA",
            "HI",
            "ID",
            "IL",
            "IN",
            "IA",
            "KS",
            "KY",
            "LA",
            "ME",
            "MD",
            "MA",
            "MI",
            "MN",
            "MS",
            "MO",
            "MT",
            "NE",
            "NV",
            "NH",
            "NJ",
            "NM",
            "NY",
            "NC",
            "ND",
            "OH",
            "OK",
            "OR",
            "PA",
            "RI",
            "SC",
            "SD",
            "TN",
            "TX",
            "UT",
            "VT",
            "VA",
            "WA",
            "WV",
            "WI",
            "WY"
           ],
           "name": "",
           "type": "choropleth",
           "z": [
            3.5,
            3.93,
            6.11,
            2.97,
            9.39,
            4.54,
            5.25,
            5.29,
            9.58,
            5.94,
            3.54,
            8.91,
            4.2,
            4.85,
            2.72,
            2.57,
            2.7,
            2.96,
            4.08,
            4.83,
            5.68,
            7.06,
            3.21,
            4.11,
            3.23,
            3.25,
            4.96,
            2.78,
            6.77,
            4.43,
            5.86,
            4.59,
            5.65,
            4.24,
            null,
            3,
            2.66,
            5.87,
            3.61,
            6.1,
            4.29,
            3.28,
            3.6,
            3.26,
            4.05,
            4.37,
            5.08,
            5.5,
            2.47,
            3.35,
            4.03
           ]
          }
         ],
         "name": "2006"
        },
        {
         "data": [
          {
           "coloraxis": "coloraxis",
           "customdata": [
            [
             138655.42,
             42212
            ],
            [
             235107.33,
             62993
            ],
            [
             272677.92,
             47215
            ],
            [
             112757.83,
             40795
            ],
            [
             498823.17,
             55734
            ],
            [
             253418.33,
             61141
            ],
            [
             325662.5,
             64141
            ],
            [
             283683.58,
             54589
            ],
            [
             463933.08,
             50783
            ],
            [
             262601.08,
             45794
            ],
            [
             178411,
             48641
            ],
            [
             549959.08,
             64022
            ],
            [
             204226.92,
             49184
            ],
            [
             238439.08,
             52506
            ],
            [
             125086.5,
             47453
            ],
            [
             126239.08,
             48908
            ],
            [
             126848,
             48497
            ],
            [
             118885.83,
             39452
            ],
            [
             155667.25,
             41313
            ],
            [
             219672.33,
             47894
            ],
            [
             366450.17,
             65630
            ],
            [
             372606.5,
             58463
            ],
            [
             148450.67,
             49370
            ],
            [
             227096.08,
             58058
            ],
            [
             118050.58,
             37279
            ],
            [
             146971.58,
             46005
            ],
            [
             216148,
             43655
            ],
            [
             135131.42,
             49174
            ],
            [
             334647.58,
             54058
            ],
            [
             266328.5,
             67576
            ],
            [
             394057.75,
             60508
            ],
            [
             197701.33,
             44356
            ],
            [
             276864.5,
             48944
            ],
            [
             176950.75,
             43513
            ],
            [
             null,
             47205
            ],
            [
             136271.25,
             49099
            ],
            [
             106851.33,
             43216
            ],
            [
             294814.58,
             50236
            ],
            [
             180936.42,
             48437
            ],
            [
             313092.42,
             54210
            ],
            [
             176731.33,
             44213
            ],
            [
             153511.17,
             46418
            ],
            [
             152629.67,
             41195
            ],
            [
             146515.58,
             46053
            ],
            [
             255252.5,
             53529
            ],
            [
             237486.67,
             47390
            ],
            [
             288529.92,
             59161
            ],
            [
             321395.75,
             58080
            ],
            [
             97233.67,
             42091
            ],
            [
             174956.08,
             51277
            ],
            [
             204358.92,
             48744
            ]
           ],
           "geo": "geo",
           "hovertemplate": "<b>%{hovertext}</b><br><br>Year=2007<br>StateName=%{location}<br>Average House Price=%{customdata[0]}<br>Median Income=%{customdata[1]}<br>Ratio=%{z}<extra></extra>",
           "hovertext": [
            "Alabama",
            "Alaska",
            "Arizona",
            "Arkansas",
            "California",
            "Colorado",
            "Connecticut",
            "Delaware",
            "District of Columbia",
            "Florida",
            "Georgia",
            "Hawaii",
            "Idaho",
            "Illinois",
            "Indiana",
            "Iowa",
            "Kansas",
            "Kentucky",
            "Louisiana",
            "Maine",
            "Maryland",
            "Massachusetts",
            "Michigan",
            "Minnesota",
            "Mississippi",
            "Missouri",
            "Montana",
            "Nebraska",
            "Nevada",
            "New Hampshire",
            "New Jersey",
            "New Mexico",
            "New York",
            "North Carolina",
            "North Dakota",
            "Ohio",
            "Oklahoma",
            "Oregon",
            "Pennsylvania",
            "Rhode Island",
            "South Carolina",
            "South Dakota",
            "Tennessee",
            "Texas",
            "Utah",
            "Vermont",
            "Virginia",
            "Washington",
            "West Virginia",
            "Wisconsin",
            "Wyoming"
           ],
           "locationmode": "USA-states",
           "locations": [
            "AL",
            "AK",
            "AZ",
            "AR",
            "CA",
            "CO",
            "CT",
            "DE",
            "DC",
            "FL",
            "GA",
            "HI",
            "ID",
            "IL",
            "IN",
            "IA",
            "KS",
            "KY",
            "LA",
            "ME",
            "MD",
            "MA",
            "MI",
            "MN",
            "MS",
            "MO",
            "MT",
            "NE",
            "NV",
            "NH",
            "NJ",
            "NM",
            "NY",
            "NC",
            "ND",
            "OH",
            "OK",
            "OR",
            "PA",
            "RI",
            "SC",
            "SD",
            "TN",
            "TX",
            "UT",
            "VT",
            "VA",
            "WA",
            "WV",
            "WI",
            "WY"
           ],
           "name": "",
           "type": "choropleth",
           "z": [
            3.28,
            3.73,
            5.78,
            2.76,
            8.95,
            4.14,
            5.08,
            5.2,
            9.14,
            5.73,
            3.67,
            8.59,
            4.15,
            4.54,
            2.64,
            2.58,
            2.62,
            3.01,
            3.77,
            4.59,
            5.58,
            6.37,
            3.01,
            3.91,
            3.17,
            3.19,
            4.95,
            2.75,
            6.19,
            3.94,
            6.51,
            4.46,
            5.66,
            4.07,
            null,
            2.78,
            2.47,
            5.87,
            3.74,
            5.78,
            4,
            3.31,
            3.71,
            3.18,
            4.77,
            5.01,
            4.88,
            5.53,
            2.31,
            3.41,
            4.19
           ]
          }
         ],
         "name": "2007"
        },
        {
         "data": [
          {
           "coloraxis": "coloraxis",
           "customdata": [
            [
             137758.92,
             44476
            ],
            [
             239729.83,
             63989
            ],
            [
             226473.83,
             46914
            ],
            [
             112393.25,
             39586
            ],
            [
             408819.42,
             57014
            ],
            [
             245439.92,
             60943
            ],
            [
             306444.67,
             64682
            ],
            [
             272809.92,
             50702
            ],
            [
             451857.33,
             55590
            ],
            [
             217620.25,
             44857
            ],
            [
             171488.75,
             46227
            ],
            [
             537777.08,
             61521
            ],
            [
             202128.42,
             47420
            ],
            [
             222402.11,
             53254
            ],
            [
             124678.92,
             46520
            ],
            [
             126531.75,
             50142
            ],
            [
             128092.5,
             47877
            ],
            [
             118531.67,
             41148
            ],
            [
             156621.92,
             39563
            ],
            [
             214052.08,
             47228
            ],
            [
             336595.33,
             63711
            ],
            [
             349953.25,
             60320
            ],
            [
             133160.92,
             49788
            ],
            [
             210599.33,
             54925
            ],
            [
             116635,
             36446
            ],
            [
             143741.75,
             46038
            ],
            [
             220297.33,
             42900
            ],
            [
             131684.25,
             50728
            ],
            [
             259145.17,
             54744
            ],
            [
             250725.67,
             66176
            ],
            [
             369847.75,
             65306
            ],
            [
             195850.75,
             42102
            ],
            [
             273134.75,
             50461
            ],
            [
             178163,
             42930
            ],
            [
             null,
             49631
            ],
            [
             131794.5,
             46934
            ],
            [
             108215.83,
             46111
            ],
            [
             282115.67,
             51727
            ],
            [
             179743.17,
             51402
            ],
            [
             289741,
             53241
            ],
            [
             174206,
             42155
            ],
            [
             157588.25,
             51600
            ],
            [
             150550,
             39702
            ],
            [
             146113.83,
             46490
            ],
            [
             258210.58,
             62537
            ],
            [
             238284.08,
             50706
            ],
            [
             268095.67,
             61985
            ],
            [
             306075.75,
             56631
            ],
            [
             97989.5,
             37994
            ],
            [
             170799,
             51200
            ],
            [
             207966,
             53337
            ]
           ],
           "geo": "geo",
           "hovertemplate": "<b>%{hovertext}</b><br><br>Year=2008<br>StateName=%{location}<br>Average House Price=%{customdata[0]}<br>Median Income=%{customdata[1]}<br>Ratio=%{z}<extra></extra>",
           "hovertext": [
            "Alabama",
            "Alaska",
            "Arizona",
            "Arkansas",
            "California",
            "Colorado",
            "Connecticut",
            "Delaware",
            "District of Columbia",
            "Florida",
            "Georgia",
            "Hawaii",
            "Idaho",
            "Illinois",
            "Indiana",
            "Iowa",
            "Kansas",
            "Kentucky",
            "Louisiana",
            "Maine",
            "Maryland",
            "Massachusetts",
            "Michigan",
            "Minnesota",
            "Mississippi",
            "Missouri",
            "Montana",
            "Nebraska",
            "Nevada",
            "New Hampshire",
            "New Jersey",
            "New Mexico",
            "New York",
            "North Carolina",
            "North Dakota",
            "Ohio",
            "Oklahoma",
            "Oregon",
            "Pennsylvania",
            "Rhode Island",
            "South Carolina",
            "South Dakota",
            "Tennessee",
            "Texas",
            "Utah",
            "Vermont",
            "Virginia",
            "Washington",
            "West Virginia",
            "Wisconsin",
            "Wyoming"
           ],
           "locationmode": "USA-states",
           "locations": [
            "AL",
            "AK",
            "AZ",
            "AR",
            "CA",
            "CO",
            "CT",
            "DE",
            "DC",
            "FL",
            "GA",
            "HI",
            "ID",
            "IL",
            "IN",
            "IA",
            "KS",
            "KY",
            "LA",
            "ME",
            "MD",
            "MA",
            "MI",
            "MN",
            "MS",
            "MO",
            "MT",
            "NE",
            "NV",
            "NH",
            "NJ",
            "NM",
            "NY",
            "NC",
            "ND",
            "OH",
            "OK",
            "OR",
            "PA",
            "RI",
            "SC",
            "SD",
            "TN",
            "TX",
            "UT",
            "VT",
            "VA",
            "WA",
            "WV",
            "WI",
            "WY"
           ],
           "name": "",
           "type": "choropleth",
           "z": [
            3.1,
            3.75,
            4.83,
            2.84,
            7.17,
            4.03,
            4.74,
            5.38,
            8.13,
            4.85,
            3.71,
            8.74,
            4.26,
            4.18,
            2.68,
            2.52,
            2.68,
            2.88,
            3.96,
            4.53,
            5.28,
            5.8,
            2.67,
            3.83,
            3.2,
            3.12,
            5.14,
            2.6,
            4.73,
            3.79,
            5.66,
            4.65,
            5.41,
            4.15,
            null,
            2.81,
            2.35,
            5.45,
            3.5,
            5.44,
            4.13,
            3.05,
            3.79,
            3.14,
            4.13,
            4.7,
            4.33,
            5.4,
            2.58,
            3.34,
            3.9
           ]
          }
         ],
         "name": "2008"
        },
        {
         "data": [
          {
           "coloraxis": "coloraxis",
           "customdata": [
            [
             132370.33,
             39980
            ],
            [
             239287.67,
             61604
            ],
            [
             175837.08,
             45739
            ],
            [
             108670.17,
             36538
            ],
            [
             333510.25,
             56134
            ],
            [
             238108.25,
             55930
            ],
            [
             282713.42,
             64851
            ],
            [
             254126.25,
             52114
            ],
            [
             428320.67,
             53141
            ],
            [
             173159,
             45631
            ],
            [
             153815,
             43340
            ],
            [
             491091.75,
             55649
            ],
            [
             180232.5,
             46778
            ],
            [
             198749.92,
             52870
            ],
            [
             121290.08,
             44305
            ],
            [
             124936.08,
             50721
            ],
            [
             127441.25,
             44717
            ],
            [
             117244.92,
             42664
            ],
            [
             155211,
             45433
            ],
            [
             199502.17,
             47502
            ],
            [
             294867.67,
             64186
            ],
            [
             327105.75,
             59373
            ],
            [
             112816.08,
             45994
            ],
            [
             191948.08,
             56090
            ],
            [
             112711.08,
             35078
            ],
            [
             137901.5,
             48769
            ],
            [
             216098.83,
             40437
            ],
            [
             129900.83,
             49595
            ],
            [
             183827.08,
             51434
            ],
            [
             232624.25,
             64131
            ],
            [
             338827.42,
             64777
            ],
            [
             185889.75,
             43542
            ],
            [
             258844.25,
             50216
            ],
            [
             170846.92,
             41906
            ],
            [
             167975.5,
             50075
            ],
            [
             125184,
             45879
            ],
            [
             107951.58,
             45878
            ],
            [
             253967.67,
             49098
            ],
            [
             173547.42,
             48172
            ],
            [
             255127.92,
             51634
            ],
            [
             164262.5,
             41101
            ],
            [
             157106.58,
             45826
            ],
            [
             144528.67,
             40517
            ],
            [
             142695.33,
             47475
            ],
            [
             233774.08,
             58491
            ],
            [
             232469.67,
             52318
            ],
            [
             246992.75,
             60501
            ],
            [
             273602.42,
             60392
            ],
            [
             95376.17,
             40490
            ],
            [
             161311.67,
             51237
            ],
            [
             204223.17,
             52470
            ]
           ],
           "geo": "geo",
           "hovertemplate": "<b>%{hovertext}</b><br><br>Year=2009<br>StateName=%{location}<br>Average House Price=%{customdata[0]}<br>Median Income=%{customdata[1]}<br>Ratio=%{z}<extra></extra>",
           "hovertext": [
            "Alabama",
            "Alaska",
            "Arizona",
            "Arkansas",
            "California",
            "Colorado",
            "Connecticut",
            "Delaware",
            "District of Columbia",
            "Florida",
            "Georgia",
            "Hawaii",
            "Idaho",
            "Illinois",
            "Indiana",
            "Iowa",
            "Kansas",
            "Kentucky",
            "Louisiana",
            "Maine",
            "Maryland",
            "Massachusetts",
            "Michigan",
            "Minnesota",
            "Mississippi",
            "Missouri",
            "Montana",
            "Nebraska",
            "Nevada",
            "New Hampshire",
            "New Jersey",
            "New Mexico",
            "New York",
            "North Carolina",
            "North Dakota",
            "Ohio",
            "Oklahoma",
            "Oregon",
            "Pennsylvania",
            "Rhode Island",
            "South Carolina",
            "South Dakota",
            "Tennessee",
            "Texas",
            "Utah",
            "Vermont",
            "Virginia",
            "Washington",
            "West Virginia",
            "Wisconsin",
            "Wyoming"
           ],
           "locationmode": "USA-states",
           "locations": [
            "AL",
            "AK",
            "AZ",
            "AR",
            "CA",
            "CO",
            "CT",
            "DE",
            "DC",
            "FL",
            "GA",
            "HI",
            "ID",
            "IL",
            "IN",
            "IA",
            "KS",
            "KY",
            "LA",
            "ME",
            "MD",
            "MA",
            "MI",
            "MN",
            "MS",
            "MO",
            "MT",
            "NE",
            "NV",
            "NH",
            "NJ",
            "NM",
            "NY",
            "NC",
            "ND",
            "OH",
            "OK",
            "OR",
            "PA",
            "RI",
            "SC",
            "SD",
            "TN",
            "TX",
            "UT",
            "VT",
            "VA",
            "WA",
            "WV",
            "WI",
            "WY"
           ],
           "name": "",
           "type": "choropleth",
           "z": [
            3.31,
            3.88,
            3.84,
            2.97,
            5.94,
            4.26,
            4.36,
            4.88,
            8.06,
            3.79,
            3.55,
            8.82,
            3.85,
            3.76,
            2.74,
            2.46,
            2.85,
            2.75,
            3.42,
            4.2,
            4.59,
            5.51,
            2.45,
            3.42,
            3.21,
            2.83,
            5.34,
            2.62,
            3.57,
            3.63,
            5.23,
            4.27,
            5.15,
            4.08,
            3.35,
            2.73,
            2.35,
            5.17,
            3.6,
            4.94,
            4,
            3.43,
            3.57,
            3.01,
            4,
            4.44,
            4.08,
            4.53,
            2.36,
            3.15,
            3.89
           ]
          }
         ],
         "name": "2009"
        },
        {
         "data": [
          {
           "coloraxis": "coloraxis",
           "customdata": [
            [
             126989.75,
             40933
            ],
            [
             240032.83,
             57848
            ],
            [
             158891.58,
             46896
            ],
            [
             107048.33,
             38587
            ],
            [
             330661.92,
             54283
            ],
            [
             236130.67,
             60233
            ],
            [
             271251.33,
             65998
            ],
            [
             245521.25,
             55214
            ],
            [
             427800.83,
             56928
            ],
            [
             156990.25,
             44066
            ],
            [
             143086.92,
             44117
            ],
            [
             483500.75,
             59539
            ],
            [
             163501.75,
             47050
            ],
            [
             185622.58,
             50728
            ],
            [
             119746,
             46139
            ],
            [
             124349.25,
             49016
            ],
            [
             126855.5,
             46054
            ],
            [
             116313.83,
             41104
            ],
            [
             154509.58,
             39300
            ],
            [
             193897.5,
             47931
            ],
            [
             278846.42,
             64201
            ],
            [
             328520.08,
             60934
            ],
            [
             104353.83,
             46276
            ],
            [
             186363.33,
             52321
            ],
            [
             109721.83,
             38160
            ],
            [
             134729.42,
             45817
            ],
            [
             209666.75,
             41280
            ],
            [
             131288.67,
             52504
            ],
            [
             157244.33,
             51200
            ],
            [
             225753.83,
             66633
            ],
            [
             326745.83,
             62968
            ],
            [
             179679.42,
             45134
            ],
            [
             254776.92,
             49781
            ],
            [
             164942.75,
             43830
            ],
            [
             168544.92,
             51006
            ],
            [
             121995,
             45886
            ],
            [
             108858.5,
             43103
            ],
            [
             239057.83,
             50602
            ],
            [
             172663.25,
             48314
            ],
            [
             251173.33,
             51623
            ],
            [
             158645.33,
             41698
            ],
            [
             155983.42,
             45352
            ],
            [
             141423.83,
             38591
            ],
            [
             141916.67,
             47266
            ],
            [
             219522.08,
             56701
            ],
            [
             229221.75,
             55928
            ],
            [
             242445.92,
             60367
            ],
            [
             257982.08,
             56163
            ],
            [
             93407.25,
             42777
            ],
            [
             157191.75,
             50351
            ],
            [
             201025.58,
             52201
            ]
           ],
           "geo": "geo",
           "hovertemplate": "<b>%{hovertext}</b><br><br>Year=2010<br>StateName=%{location}<br>Average House Price=%{customdata[0]}<br>Median Income=%{customdata[1]}<br>Ratio=%{z}<extra></extra>",
           "hovertext": [
            "Alabama",
            "Alaska",
            "Arizona",
            "Arkansas",
            "California",
            "Colorado",
            "Connecticut",
            "Delaware",
            "District of Columbia",
            "Florida",
            "Georgia",
            "Hawaii",
            "Idaho",
            "Illinois",
            "Indiana",
            "Iowa",
            "Kansas",
            "Kentucky",
            "Louisiana",
            "Maine",
            "Maryland",
            "Massachusetts",
            "Michigan",
            "Minnesota",
            "Mississippi",
            "Missouri",
            "Montana",
            "Nebraska",
            "Nevada",
            "New Hampshire",
            "New Jersey",
            "New Mexico",
            "New York",
            "North Carolina",
            "North Dakota",
            "Ohio",
            "Oklahoma",
            "Oregon",
            "Pennsylvania",
            "Rhode Island",
            "South Carolina",
            "South Dakota",
            "Tennessee",
            "Texas",
            "Utah",
            "Vermont",
            "Virginia",
            "Washington",
            "West Virginia",
            "Wisconsin",
            "Wyoming"
           ],
           "locationmode": "USA-states",
           "locations": [
            "AL",
            "AK",
            "AZ",
            "AR",
            "CA",
            "CO",
            "CT",
            "DE",
            "DC",
            "FL",
            "GA",
            "HI",
            "ID",
            "IL",
            "IN",
            "IA",
            "KS",
            "KY",
            "LA",
            "ME",
            "MD",
            "MA",
            "MI",
            "MN",
            "MS",
            "MO",
            "MT",
            "NE",
            "NV",
            "NH",
            "NJ",
            "NM",
            "NY",
            "NC",
            "ND",
            "OH",
            "OK",
            "OR",
            "PA",
            "RI",
            "SC",
            "SD",
            "TN",
            "TX",
            "UT",
            "VT",
            "VA",
            "WA",
            "WV",
            "WI",
            "WY"
           ],
           "name": "",
           "type": "choropleth",
           "z": [
            3.1,
            4.15,
            3.39,
            2.77,
            6.09,
            3.92,
            4.11,
            4.45,
            7.51,
            3.56,
            3.24,
            8.12,
            3.48,
            3.66,
            2.6,
            2.54,
            2.75,
            2.83,
            3.93,
            4.05,
            4.34,
            5.39,
            2.26,
            3.56,
            2.88,
            2.94,
            5.08,
            2.5,
            3.07,
            3.39,
            5.19,
            3.98,
            5.12,
            3.76,
            3.3,
            2.66,
            2.53,
            4.72,
            3.57,
            4.87,
            3.8,
            3.44,
            3.66,
            3,
            3.87,
            4.1,
            4.02,
            4.59,
            2.18,
            3.12,
            3.85
           ]
          }
         ],
         "name": "2010"
        },
        {
         "data": [
          {
           "coloraxis": "coloraxis",
           "customdata": [
            [
             121019.25,
             42590
            ],
            [
             237051.08,
             57431
            ],
            [
             140843.25,
             48621
            ],
            [
             104010.5,
             41302
            ],
            [
             312302.42,
             53367
            ],
            [
             227008.75,
             58629
            ],
            [
             255717.67,
             65415
            ],
            [
             229646.92,
             54660
            ],
            [
             423699.42,
             55251
            ],
            [
             142541.75,
             45105
            ],
            [
             129445.75,
             45973
            ],
            [
             482555.75,
             59047
            ],
            [
             147370.5,
             47459
            ],
            [
             169315.42,
             50637
            ],
            [
             116256.92,
             44445
            ],
            [
             121388.33,
             50219
            ],
            [
             122733.75,
             46147
            ],
            [
             112732.25,
             39856
            ],
            [
             150027.42,
             40658
            ],
            [
             189687.83,
             49693
            ],
            [
             262651,
             68876
            ],
            [
             316036.25,
             63313
            ],
            [
             97816.75,
             48879
            ],
            [
             170751.42,
             57820
            ],
            [
             107349.75,
             41090
            ],
            [
             126809,
             45774
            ],
            [
             202895.83,
             40277
            ],
            [
             127302.58,
             55616
            ],
            [
             141608.17,
             47043
            ],
            [
             218613.75,
             65880
            ],
            [
             305741.75,
             62338
            ],
            [
             169593.67,
             41982
            ],
            [
             248178.17,
             50636
            ],
            [
             157296.58,
             45206
            ],
            [
             170622.17,
             56361
            ],
            [
             115976.5,
             44648
            ],
            [
             106100.33,
             48455
            ],
            [
             219014.17,
             51526
            ],
            [
             165300.25,
             49910
            ],
            [
             238065.33,
             49033
            ],
            [
             150072.67,
             40084
            ],
            [
             155326.17,
             47223
            ],
            [
             136410.33,
             42279
            ],
            [
             137394.5,
             49047
            ],
            [
             203002.83,
             55493
            ],
            [
             228836.08,
             51862
            ],
            [
             234321.17,
             62616
            ],
            [
             234233.25,
             56850
            ],
            [
             92060.75,
             41821
            ],
            [
             146517.83,
             52058
            ],
            [
             199124.5,
             54509
            ]
           ],
           "geo": "geo",
           "hovertemplate": "<b>%{hovertext}</b><br><br>Year=2011<br>StateName=%{location}<br>Average House Price=%{customdata[0]}<br>Median Income=%{customdata[1]}<br>Ratio=%{z}<extra></extra>",
           "hovertext": [
            "Alabama",
            "Alaska",
            "Arizona",
            "Arkansas",
            "California",
            "Colorado",
            "Connecticut",
            "Delaware",
            "District of Columbia",
            "Florida",
            "Georgia",
            "Hawaii",
            "Idaho",
            "Illinois",
            "Indiana",
            "Iowa",
            "Kansas",
            "Kentucky",
            "Louisiana",
            "Maine",
            "Maryland",
            "Massachusetts",
            "Michigan",
            "Minnesota",
            "Mississippi",
            "Missouri",
            "Montana",
            "Nebraska",
            "Nevada",
            "New Hampshire",
            "New Jersey",
            "New Mexico",
            "New York",
            "North Carolina",
            "North Dakota",
            "Ohio",
            "Oklahoma",
            "Oregon",
            "Pennsylvania",
            "Rhode Island",
            "South Carolina",
            "South Dakota",
            "Tennessee",
            "Texas",
            "Utah",
            "Vermont",
            "Virginia",
            "Washington",
            "West Virginia",
            "Wisconsin",
            "Wyoming"
           ],
           "locationmode": "USA-states",
           "locations": [
            "AL",
            "AK",
            "AZ",
            "AR",
            "CA",
            "CO",
            "CT",
            "DE",
            "DC",
            "FL",
            "GA",
            "HI",
            "ID",
            "IL",
            "IN",
            "IA",
            "KS",
            "KY",
            "LA",
            "ME",
            "MD",
            "MA",
            "MI",
            "MN",
            "MS",
            "MO",
            "MT",
            "NE",
            "NV",
            "NH",
            "NJ",
            "NM",
            "NY",
            "NC",
            "ND",
            "OH",
            "OK",
            "OR",
            "PA",
            "RI",
            "SC",
            "SD",
            "TN",
            "TX",
            "UT",
            "VT",
            "VA",
            "WA",
            "WV",
            "WI",
            "WY"
           ],
           "name": "",
           "type": "choropleth",
           "z": [
            2.84,
            4.13,
            2.9,
            2.52,
            5.85,
            3.87,
            3.91,
            4.2,
            7.67,
            3.16,
            2.82,
            8.17,
            3.11,
            3.34,
            2.62,
            2.42,
            2.66,
            2.83,
            3.69,
            3.82,
            3.81,
            4.99,
            2,
            2.95,
            2.61,
            2.77,
            5.04,
            2.29,
            3.01,
            3.32,
            4.9,
            4.04,
            4.9,
            3.48,
            3.03,
            2.6,
            2.19,
            4.25,
            3.31,
            4.86,
            3.74,
            3.29,
            3.23,
            2.8,
            3.66,
            4.41,
            3.74,
            4.12,
            2.2,
            2.81,
            3.65
           ]
          }
         ],
         "name": "2011"
        },
        {
         "data": [
          {
           "coloraxis": "coloraxis",
           "customdata": [
            [
             118921.67,
             43464
            ],
            [
             240389.42,
             63648
            ],
            [
             150278.5,
             47044
            ],
            [
             104882.92,
             39018
            ],
            [
             310043.5,
             57020
            ],
            [
             231041.5,
             57255
            ],
            [
             240683.5,
             64247
            ],
            [
             217454.58,
             48972
            ],
            [
             433393.92,
             65246
            ],
            [
             142134.92,
             46071
            ],
            [
             125422.67,
             48121
            ],
            [
             480758.58,
             56263
            ],
            [
             152180.67,
             47922
            ],
            [
             158638.17,
             51738
            ],
            [
             115587.25,
             46158
            ],
            [
             121741.58,
             53442
            ],
            [
             121742.33,
             50003
            ],
            [
             112036.08,
             41086
            ],
            [
             149259.42,
             39085
            ],
            [
             186799.08,
             49158
            ],
            [
             256455.5,
             71836
            ],
            [
             308652.42,
             63656
            ],
            [
             98776.17,
             50015
            ],
            [
             167876,
             61795
            ],
            [
             106158.42,
             36641
            ],
            [
             123931.58,
             49764
            ],
            [
             205341.75,
             45088
            ],
            [
             127598.42,
             52196
            ],
            [
             139204.5,
             47333
            ],
            [
             213424.67,
             67819
            ],
            [
             289680.58,
             66692
            ],
            [
             165923.17,
             43424
            ],
            [
             243598.92,
             47680
            ],
            [
             153133.67,
             41553
            ],
            [
             176634.17,
             55766
            ],
            [
             112818.92,
             44375
            ],
            [
             106129.08,
             48407
            ],
            [
             215687.25,
             51775
            ],
            [
             161605.5,
             51904
            ],
            [
             225003.42,
             56065
            ],
            [
             147229.42,
             44401
            ],
            [
             156524.92,
             49415
            ],
            [
             134757.08,
             42995
            ],
            [
             138078.33,
             51926
            ],
            [
             204713.92,
             58341
            ],
            [
             228057,
             55582
            ],
            [
             233170.17,
             64632
            ],
            [
             225901.83,
             62187
            ],
            [
             92224,
             43553
            ],
            [
             142350.25,
             53079
            ],
            [
             202674.58,
             57512
            ]
           ],
           "geo": "geo",
           "hovertemplate": "<b>%{hovertext}</b><br><br>Year=2012<br>StateName=%{location}<br>Average House Price=%{customdata[0]}<br>Median Income=%{customdata[1]}<br>Ratio=%{z}<extra></extra>",
           "hovertext": [
            "Alabama",
            "Alaska",
            "Arizona",
            "Arkansas",
            "California",
            "Colorado",
            "Connecticut",
            "Delaware",
            "District of Columbia",
            "Florida",
            "Georgia",
            "Hawaii",
            "Idaho",
            "Illinois",
            "Indiana",
            "Iowa",
            "Kansas",
            "Kentucky",
            "Louisiana",
            "Maine",
            "Maryland",
            "Massachusetts",
            "Michigan",
            "Minnesota",
            "Mississippi",
            "Missouri",
            "Montana",
            "Nebraska",
            "Nevada",
            "New Hampshire",
            "New Jersey",
            "New Mexico",
            "New York",
            "North Carolina",
            "North Dakota",
            "Ohio",
            "Oklahoma",
            "Oregon",
            "Pennsylvania",
            "Rhode Island",
            "South Carolina",
            "South Dakota",
            "Tennessee",
            "Texas",
            "Utah",
            "Vermont",
            "Virginia",
            "Washington",
            "West Virginia",
            "Wisconsin",
            "Wyoming"
           ],
           "locationmode": "USA-states",
           "locations": [
            "AL",
            "AK",
            "AZ",
            "AR",
            "CA",
            "CO",
            "CT",
            "DE",
            "DC",
            "FL",
            "GA",
            "HI",
            "ID",
            "IL",
            "IN",
            "IA",
            "KS",
            "KY",
            "LA",
            "ME",
            "MD",
            "MA",
            "MI",
            "MN",
            "MS",
            "MO",
            "MT",
            "NE",
            "NV",
            "NH",
            "NJ",
            "NM",
            "NY",
            "NC",
            "ND",
            "OH",
            "OK",
            "OR",
            "PA",
            "RI",
            "SC",
            "SD",
            "TN",
            "TX",
            "UT",
            "VT",
            "VA",
            "WA",
            "WV",
            "WI",
            "WY"
           ],
           "name": "",
           "type": "choropleth",
           "z": [
            2.74,
            3.78,
            3.19,
            2.69,
            5.44,
            4.04,
            3.75,
            4.44,
            6.64,
            3.09,
            2.61,
            8.54,
            3.18,
            3.07,
            2.5,
            2.28,
            2.43,
            2.73,
            3.82,
            3.8,
            3.57,
            4.85,
            1.97,
            2.72,
            2.9,
            2.49,
            4.55,
            2.44,
            2.94,
            3.15,
            4.34,
            3.82,
            5.11,
            3.69,
            3.17,
            2.54,
            2.19,
            4.17,
            3.11,
            4.01,
            3.32,
            3.17,
            3.13,
            2.66,
            3.51,
            4.1,
            3.61,
            3.63,
            2.12,
            2.68,
            3.52
           ]
          }
         ],
         "name": "2012"
        },
        {
         "data": [
          {
           "coloraxis": "coloraxis",
           "customdata": [
            [
             120395.5,
             41381
            ],
            [
             246822.5,
             61137
            ],
            [
             177180.75,
             50602
            ],
            [
             107292.25,
             39919
            ],
            [
             368782.08,
             57528
            ],
            [
             249773.67,
             63371
            ],
            [
             244972.92,
             67781
            ],
            [
             216818.42,
             52219
            ],
            [
             479473.83,
             60675
            ],
            [
             158766.92,
             47886
            ],
            [
             135215.08,
             47439
            ],
            [
             506550.08,
             61408
            ],
            [
             170849.33,
             51767
            ],
            [
             164188.33,
             57196
            ],
            [
             117248.67,
             50553
            ],
            [
             125125.92,
             54855
            ],
            [
             123461.67,
             51485
            ],
            [
             113559.67,
             42158
            ],
            [
             151269.08,
             39622
            ],
            [
             190324.33,
             50121
            ],
            [
             269005.58,
             65262
            ],
            [
             327257.42,
             62963
            ],
            [
             109666.25,
             48801
            ],
            [
             182580.75,
             60907
            ],
            [
             105386.33,
             40850
            ],
            [
             126695.17,
             50311
            ],
            [
             214591.92,
             44132
            ],
            [
             133072.33,
             53774
            ],
            [
             172059,
             45369
            ],
            [
             220932.17,
             71322
            ],
            [
             293956.17,
             61782
            ],
            [
             168139.25,
             42127
            ],
            [
             248124.92,
             53843
            ],
            [
             155602.33,
             41208
            ],
            [
             194011.5,
             52888
            ],
            [
             114566.33,
             46398
            ],
            [
             108519.08,
             43777
            ],
            [
             236969.42,
             56307
            ],
            [
             163286.92,
             53952
            ],
            [
             232438,
             57812
            ],
            [
             149641.75,
             43749
            ],
            [
             161847.92,
             54453
            ],
            [
             138018.5,
             42499
            ],
            [
             145782.83,
             53027
            ],
            [
             227338.17,
             62967
            ],
            [
             228138.58,
             54842
            ],
            [
             241964.42,
             67620
            ],
            [
             246829.33,
             60106
            ],
            [
             93926.33,
             40241
            ],
            [
             145022.25,
             55258
            ],
            [
             209674.25,
             55700
            ]
           ],
           "geo": "geo",
           "hovertemplate": "<b>%{hovertext}</b><br><br>Year=2013<br>StateName=%{location}<br>Average House Price=%{customdata[0]}<br>Median Income=%{customdata[1]}<br>Ratio=%{z}<extra></extra>",
           "hovertext": [
            "Alabama",
            "Alaska",
            "Arizona",
            "Arkansas",
            "California",
            "Colorado",
            "Connecticut",
            "Delaware",
            "District of Columbia",
            "Florida",
            "Georgia",
            "Hawaii",
            "Idaho",
            "Illinois",
            "Indiana",
            "Iowa",
            "Kansas",
            "Kentucky",
            "Louisiana",
            "Maine",
            "Maryland",
            "Massachusetts",
            "Michigan",
            "Minnesota",
            "Mississippi",
            "Missouri",
            "Montana",
            "Nebraska",
            "Nevada",
            "New Hampshire",
            "New Jersey",
            "New Mexico",
            "New York",
            "North Carolina",
            "North Dakota",
            "Ohio",
            "Oklahoma",
            "Oregon",
            "Pennsylvania",
            "Rhode Island",
            "South Carolina",
            "South Dakota",
            "Tennessee",
            "Texas",
            "Utah",
            "Vermont",
            "Virginia",
            "Washington",
            "West Virginia",
            "Wisconsin",
            "Wyoming"
           ],
           "locationmode": "USA-states",
           "locations": [
            "AL",
            "AK",
            "AZ",
            "AR",
            "CA",
            "CO",
            "CT",
            "DE",
            "DC",
            "FL",
            "GA",
            "HI",
            "ID",
            "IL",
            "IN",
            "IA",
            "KS",
            "KY",
            "LA",
            "ME",
            "MD",
            "MA",
            "MI",
            "MN",
            "MS",
            "MO",
            "MT",
            "NE",
            "NV",
            "NH",
            "NJ",
            "NM",
            "NY",
            "NC",
            "ND",
            "OH",
            "OK",
            "OR",
            "PA",
            "RI",
            "SC",
            "SD",
            "TN",
            "TX",
            "UT",
            "VT",
            "VA",
            "WA",
            "WV",
            "WI",
            "WY"
           ],
           "name": "",
           "type": "choropleth",
           "z": [
            2.91,
            4.04,
            3.5,
            2.69,
            6.41,
            3.94,
            3.61,
            4.15,
            7.9,
            3.32,
            2.85,
            8.25,
            3.3,
            2.87,
            2.32,
            2.28,
            2.4,
            2.69,
            3.82,
            3.8,
            4.12,
            5.2,
            2.25,
            3,
            2.58,
            2.52,
            4.86,
            2.47,
            3.79,
            3.1,
            4.76,
            3.99,
            4.61,
            3.78,
            3.67,
            2.47,
            2.48,
            4.21,
            3.03,
            4.02,
            3.42,
            2.97,
            3.25,
            2.75,
            3.61,
            4.16,
            3.58,
            4.11,
            2.33,
            2.62,
            3.76
           ]
          }
         ],
         "name": "2013"
        },
        {
         "data": [
          {
           "coloraxis": "coloraxis",
           "customdata": [
            [
             122718.5,
             42278
            ],
            [
             254359.25,
             67629
            ],
            [
             192510.67,
             49254
            ],
            [
             108914.42,
             44922
            ],
            [
             416937.33,
             60487
            ],
            [
             269449.33,
             60940
            ],
            [
             247212.33,
             70161
            ],
            [
             226379.83,
             57522
            ],
            [
             528392.17,
             68277
            ],
            [
             177283.33,
             46140
            ],
            [
             148376.75,
             49555
            ],
            [
             546862.92,
             71223
            ],
            [
             180629.58,
             53438
            ],
            [
             174398,
             54916
            ],
            [
             121254.67,
             48060
            ],
            [
             128559.25,
             57810
            ],
            [
             125785,
             53444
            ],
            [
             116183.17,
             42786
            ],
            [
             154641.58,
             42406
            ],
            [
             191780.42,
             51710
            ],
            [
             281132.58,
             76165
            ],
            [
             345016.42,
             63151
            ],
            [
             122477.75,
             52005
            ],
            [
             196782.75,
             67244
            ],
            [
             106407.42,
             35521
            ],
            [
             130582.17,
             56630
            ],
            [
             225155.25,
             51102
            ],
            [
             137189.25,
             56870
            ],
            [
             199759.83,
             49875
            ],
            [
             229723.42,
             73397
            ],
            [
             305611.33,
             65243
            ],
            [
             172554.92,
             46686
            ],
            [
             255865.58,
             54310
            ],
            [
             160501.33,
             46784
            ],
            [
             208682.33,
             60730
            ],
            [
             117160.17,
             49644
            ],
            [
             111665.25,
             47199
            ],
            [
             257670,
             58875
            ],
            [
             166190.5,
             55173
            ],
            [
             242730,
             58633
            ],
            [
             155123,
             44929
            ],
            [
             167396.42,
             53053
            ],
            [
             143614.92,
             43716
            ],
            [
             157042.42,
             53875
            ],
            [
             241173.17,
             63383
            ],
            [
             228344.92,
             60708
            ],
            [
             249371.42,
             66155
            ],
            [
             265904.25,
             59068
            ],
            [
             96202.5,
             39552
            ],
            [
             151256.33,
             58080
            ],
            [
             216853.08,
             55690
            ]
           ],
           "geo": "geo",
           "hovertemplate": "<b>%{hovertext}</b><br><br>Year=2014<br>StateName=%{location}<br>Average House Price=%{customdata[0]}<br>Median Income=%{customdata[1]}<br>Ratio=%{z}<extra></extra>",
           "hovertext": [
            "Alabama",
            "Alaska",
            "Arizona",
            "Arkansas",
            "California",
            "Colorado",
            "Connecticut",
            "Delaware",
            "District of Columbia",
            "Florida",
            "Georgia",
            "Hawaii",
            "Idaho",
            "Illinois",
            "Indiana",
            "Iowa",
            "Kansas",
            "Kentucky",
            "Louisiana",
            "Maine",
            "Maryland",
            "Massachusetts",
            "Michigan",
            "Minnesota",
            "Mississippi",
            "Missouri",
            "Montana",
            "Nebraska",
            "Nevada",
            "New Hampshire",
            "New Jersey",
            "New Mexico",
            "New York",
            "North Carolina",
            "North Dakota",
            "Ohio",
            "Oklahoma",
            "Oregon",
            "Pennsylvania",
            "Rhode Island",
            "South Carolina",
            "South Dakota",
            "Tennessee",
            "Texas",
            "Utah",
            "Vermont",
            "Virginia",
            "Washington",
            "West Virginia",
            "Wisconsin",
            "Wyoming"
           ],
           "locationmode": "USA-states",
           "locations": [
            "AL",
            "AK",
            "AZ",
            "AR",
            "CA",
            "CO",
            "CT",
            "DE",
            "DC",
            "FL",
            "GA",
            "HI",
            "ID",
            "IL",
            "IN",
            "IA",
            "KS",
            "KY",
            "LA",
            "ME",
            "MD",
            "MA",
            "MI",
            "MN",
            "MS",
            "MO",
            "MT",
            "NE",
            "NV",
            "NH",
            "NJ",
            "NM",
            "NY",
            "NC",
            "ND",
            "OH",
            "OK",
            "OR",
            "PA",
            "RI",
            "SC",
            "SD",
            "TN",
            "TX",
            "UT",
            "VT",
            "VA",
            "WA",
            "WV",
            "WI",
            "WY"
           ],
           "name": "",
           "type": "choropleth",
           "z": [
            2.9,
            3.76,
            3.91,
            2.42,
            6.89,
            4.42,
            3.52,
            3.94,
            7.74,
            3.84,
            2.99,
            7.68,
            3.38,
            3.18,
            2.52,
            2.22,
            2.35,
            2.72,
            3.65,
            3.71,
            3.69,
            5.46,
            2.36,
            2.93,
            3,
            2.31,
            4.41,
            2.41,
            4.01,
            3.13,
            4.68,
            3.7,
            4.71,
            3.43,
            3.44,
            2.36,
            2.37,
            4.38,
            3.01,
            4.14,
            3.45,
            3.16,
            3.29,
            2.91,
            3.81,
            3.76,
            3.77,
            4.5,
            2.43,
            2.6,
            3.89
           ]
          }
         ],
         "name": "2014"
        },
        {
         "data": [
          {
           "coloraxis": "coloraxis",
           "customdata": [
            [
             125482.33,
             44509
            ],
            [
             262664.67,
             75112
            ],
            [
             201532.25,
             52248
            ],
            [
             111501.67,
             42798
            ],
            [
             439917.58,
             63636
            ],
            [
             298142.67,
             66596
            ],
            [
             245333.42,
             72889
            ],
            [
             233140.75,
             57756
            ],
            [
             536182.42,
             70071
            ],
            [
             189781.83,
             48825
            ],
            [
             157256.33,
             50768
            ],
            [
             567588,
             64514
            ],
            [
             189291.83,
             51624
            ],
            [
             179720.42,
             60413
            ],
            [
             124929.25,
             51983
            ],
            [
             132385.5,
             60855
            ],
            [
             130222.25,
             54865
            ],
            [
             119952.17,
             42387
            ],
            [
             158273.83,
             45922
            ],
            [
             196285.42,
             50756
            ],
            [
             282484.92,
             73594
            ],
            [
             357485.42,
             67861
            ],
            [
             129525.42,
             54203
            ],
            [
             203690.42,
             68730
            ],
            [
             110859.67,
             40037
            ],
            [
             134944.75,
             59196
            ],
            [
             234738.17,
             51395
            ],
            [
             143610.5,
             60474
            ],
            [
             214371.33,
             52008
            ],
            [
             238270.75,
             75675
            ],
            [
             307914.33,
             68357
            ],
            [
             174087.33,
             45119
            ],
            [
             261299.5,
             58005
            ],
            [
             165376.33,
             50797
            ],
            [
             222575.67,
             57415
            ],
            [
             121491.67,
             53301
            ],
            [
             115688.83,
             47077
            ],
            [
             277686,
             60834
            ],
            [
             168720.17,
             60389
            ],
            [
             246830.67,
             55701
            ],
            [
             160409.75,
             46360
            ],
            [
             174426.92,
             55065
            ],
            [
             149165,
             47330
            ],
            [
             169239.5,
             56473
            ],
            [
             253595.75,
             66258
            ],
            [
             230268.83,
             59494
            ],
            [
             252191.42,
             61486
            ],
            [
             286327.83,
             67243
            ],
            [
             98644.08,
             42824
            ],
            [
             155267.17,
             55425
            ],
            [
             225163.17,
             60925
            ]
           ],
           "geo": "geo",
           "hovertemplate": "<b>%{hovertext}</b><br><br>Year=2015<br>StateName=%{location}<br>Average House Price=%{customdata[0]}<br>Median Income=%{customdata[1]}<br>Ratio=%{z}<extra></extra>",
           "hovertext": [
            "Alabama",
            "Alaska",
            "Arizona",
            "Arkansas",
            "California",
            "Colorado",
            "Connecticut",
            "Delaware",
            "District of Columbia",
            "Florida",
            "Georgia",
            "Hawaii",
            "Idaho",
            "Illinois",
            "Indiana",
            "Iowa",
            "Kansas",
            "Kentucky",
            "Louisiana",
            "Maine",
            "Maryland",
            "Massachusetts",
            "Michigan",
            "Minnesota",
            "Mississippi",
            "Missouri",
            "Montana",
            "Nebraska",
            "Nevada",
            "New Hampshire",
            "New Jersey",
            "New Mexico",
            "New York",
            "North Carolina",
            "North Dakota",
            "Ohio",
            "Oklahoma",
            "Oregon",
            "Pennsylvania",
            "Rhode Island",
            "South Carolina",
            "South Dakota",
            "Tennessee",
            "Texas",
            "Utah",
            "Vermont",
            "Virginia",
            "Washington",
            "West Virginia",
            "Wisconsin",
            "Wyoming"
           ],
           "locationmode": "USA-states",
           "locations": [
            "AL",
            "AK",
            "AZ",
            "AR",
            "CA",
            "CO",
            "CT",
            "DE",
            "DC",
            "FL",
            "GA",
            "HI",
            "ID",
            "IL",
            "IN",
            "IA",
            "KS",
            "KY",
            "LA",
            "ME",
            "MD",
            "MA",
            "MI",
            "MN",
            "MS",
            "MO",
            "MT",
            "NE",
            "NV",
            "NH",
            "NJ",
            "NM",
            "NY",
            "NC",
            "ND",
            "OH",
            "OK",
            "OR",
            "PA",
            "RI",
            "SC",
            "SD",
            "TN",
            "TX",
            "UT",
            "VT",
            "VA",
            "WA",
            "WV",
            "WI",
            "WY"
           ],
           "name": "",
           "type": "choropleth",
           "z": [
            2.82,
            3.5,
            3.86,
            2.61,
            6.91,
            4.48,
            3.37,
            4.04,
            7.65,
            3.89,
            3.1,
            8.8,
            3.67,
            2.97,
            2.4,
            2.18,
            2.37,
            2.83,
            3.45,
            3.87,
            3.84,
            5.27,
            2.39,
            2.96,
            2.77,
            2.28,
            4.57,
            2.37,
            4.12,
            3.15,
            4.5,
            3.86,
            4.5,
            3.26,
            3.88,
            2.28,
            2.46,
            4.56,
            2.79,
            4.43,
            3.46,
            3.17,
            3.15,
            3,
            3.83,
            3.87,
            4.1,
            4.26,
            2.3,
            2.8,
            3.7
           ]
          }
         ],
         "name": "2015"
        },
        {
         "data": [
          {
           "coloraxis": "coloraxis",
           "customdata": [
            [
             128569.42,
             47221
            ],
            [
             267407.92,
             75723
            ],
            [
             214525.25,
             57100
            ],
            [
             115201.67,
             45907
            ],
            [
             470662.92,
             66637
            ],
            [
             330176.75,
             70566
            ],
            [
             245276.33,
             75923
            ],
            [
             240982.17,
             58046
            ],
            [
             559512.17,
             70982
            ],
            [
             205088.25,
             51176
            ],
            [
             166632.67,
             53527
            ],
            [
             590813.92,
             72133
            ],
            [
             204469.92,
             56564
            ],
            [
             186358.58,
             61386
            ],
            [
             129598.75,
             56094
            ],
            [
             137352.75,
             59094
            ],
            [
             135390,
             56810
            ],
            [
             125226.67,
             45369
            ],
            [
             162215.67,
             42196
            ],
            [
             205459.58,
             50856
            ],
            [
             287715.58,
             73760
            ],
            [
             374454.5,
             72266
            ],
            [
             137770.08,
             57091
            ],
            [
             215400.33,
             70218
            ],
            [
             113634.08,
             41099
            ],
            [
             141375.17,
             55016
            ],
            [
             242321.17,
             57075
            ],
            [
             150250.17,
             59374
            ],
            [
             230417.42,
             55431
            ],
            [
             247305.58,
             76260
            ],
            [
             310401.17,
             68468
            ],
            [
             178259.67,
             48451
            ],
            [
             268919,
             61437
            ],
            [
             172381.92,
             53764
            ],
            [
             229435.67,
             60184
            ],
            [
             126831.17,
             53985
            ],
            [
             118851.5,
             50943
            ],
            [
             307654.25,
             59135
            ],
            [
             172854.08,
             60979
            ],
            [
             259252.08,
             61528
            ],
            [
             167487.92,
             54336
            ],
            [
             183273.33,
             57450
            ],
            [
             157779.75,
             51344
            ],
            [
             181008.83,
             58146
            ],
            [
             274004.08,
             67481
            ],
            [
             232349.67,
             60837
            ],
            [
             256546.42,
             66451
            ],
            [
             316218.08,
             70310
            ],
            [
             101045.17,
             44354
            ],
            [
             162098.67,
             59817
            ],
            [
             229972.83,
             57829
            ]
           ],
           "geo": "geo",
           "hovertemplate": "<b>%{hovertext}</b><br><br>Year=2016<br>StateName=%{location}<br>Average House Price=%{customdata[0]}<br>Median Income=%{customdata[1]}<br>Ratio=%{z}<extra></extra>",
           "hovertext": [
            "Alabama",
            "Alaska",
            "Arizona",
            "Arkansas",
            "California",
            "Colorado",
            "Connecticut",
            "Delaware",
            "District of Columbia",
            "Florida",
            "Georgia",
            "Hawaii",
            "Idaho",
            "Illinois",
            "Indiana",
            "Iowa",
            "Kansas",
            "Kentucky",
            "Louisiana",
            "Maine",
            "Maryland",
            "Massachusetts",
            "Michigan",
            "Minnesota",
            "Mississippi",
            "Missouri",
            "Montana",
            "Nebraska",
            "Nevada",
            "New Hampshire",
            "New Jersey",
            "New Mexico",
            "New York",
            "North Carolina",
            "North Dakota",
            "Ohio",
            "Oklahoma",
            "Oregon",
            "Pennsylvania",
            "Rhode Island",
            "South Carolina",
            "South Dakota",
            "Tennessee",
            "Texas",
            "Utah",
            "Vermont",
            "Virginia",
            "Washington",
            "West Virginia",
            "Wisconsin",
            "Wyoming"
           ],
           "locationmode": "USA-states",
           "locations": [
            "AL",
            "AK",
            "AZ",
            "AR",
            "CA",
            "CO",
            "CT",
            "DE",
            "DC",
            "FL",
            "GA",
            "HI",
            "ID",
            "IL",
            "IN",
            "IA",
            "KS",
            "KY",
            "LA",
            "ME",
            "MD",
            "MA",
            "MI",
            "MN",
            "MS",
            "MO",
            "MT",
            "NE",
            "NV",
            "NH",
            "NJ",
            "NM",
            "NY",
            "NC",
            "ND",
            "OH",
            "OK",
            "OR",
            "PA",
            "RI",
            "SC",
            "SD",
            "TN",
            "TX",
            "UT",
            "VT",
            "VA",
            "WA",
            "WV",
            "WI",
            "WY"
           ],
           "name": "",
           "type": "choropleth",
           "z": [
            2.72,
            3.53,
            3.76,
            2.51,
            7.06,
            4.68,
            3.23,
            4.15,
            7.88,
            4.01,
            3.11,
            8.19,
            3.61,
            3.04,
            2.31,
            2.32,
            2.38,
            2.76,
            3.84,
            4.04,
            3.9,
            5.18,
            2.41,
            3.07,
            2.76,
            2.57,
            4.25,
            2.53,
            4.16,
            3.24,
            4.53,
            3.68,
            4.38,
            3.21,
            3.81,
            2.35,
            2.33,
            5.2,
            2.83,
            4.21,
            3.08,
            3.19,
            3.07,
            3.11,
            4.06,
            3.82,
            3.86,
            4.5,
            2.28,
            2.71,
            3.98
           ]
          }
         ],
         "name": "2016"
        },
        {
         "data": [
          {
           "coloraxis": "coloraxis",
           "customdata": [
            [
             132678,
             51113
            ],
            [
             268502.5,
             72231
            ],
            [
             228748.75,
             61125
            ],
            [
             119884.08,
             48829
            ],
            [
             501841.92,
             69759
            ],
            [
             359251,
             74172
            ],
            [
             251242.33,
             72780
            ],
            [
             247470.92,
             62318
            ],
            [
             586267.17,
             83382
            ],
            [
             220356.67,
             53681
            ],
            [
             177260.33,
             57016
            ],
            [
             625122,
             73575
            ],
            [
             222564.75,
             60208
            ],
            [
             195813.67,
             64609
            ],
            [
             137043.75,
             58873
            ],
            [
             143215.67,
             63481
            ],
            [
             141772.33,
             57872
            ],
            [
             132466.83,
             51348
            ],
            [
             166403.67,
             43903
            ],
            [
             217891.17,
             51664
            ],
            [
             297915.75,
             81084
            ],
            [
             395852.42,
             73227
            ],
            [
             148964.75,
             57700
            ],
            [
             229685.75,
             71920
            ],
            [
             117099.42,
             43441
            ],
            [
             149654.42,
             56885
            ],
            [
             253757.5,
             59087
            ],
            [
             160456,
             59619
            ],
            [
             249321.67,
             56550
            ],
            [
             262376.92,
             74801
            ],
            [
             318810.42,
             72997
            ],
            [
             184282.08,
             47855
            ],
            [
             281231,
             62447
            ],
            [
             182703.92,
             50343
            ],
            [
             231290.83,
             59886
            ],
            [
             134556.67,
             59768
            ],
            [
             122949.58,
             55006
            ],
            [
             335245.92,
             64610
            ],
            [
             179466.83,
             63173
            ],
            [
             274961.58,
             66390
            ],
            [
             175827.83,
             54971
            ],
            [
             193987.08,
             56894
            ],
            [
             169021.42,
             55240
            ],
            [
             192894.83,
             59295
            ],
            [
             298568.33,
             71319
            ],
            [
             239348.25,
             63805
            ],
            [
             265470.08,
             71293
            ],
            [
             351542.33,
             75418
            ],
            [
             103094.67,
             45392
            ],
            [
             172845.42,
             63451
            ],
            [
             231480.92,
             57837
            ]
           ],
           "geo": "geo",
           "hovertemplate": "<b>%{hovertext}</b><br><br>Year=2017<br>StateName=%{location}<br>Average House Price=%{customdata[0]}<br>Median Income=%{customdata[1]}<br>Ratio=%{z}<extra></extra>",
           "hovertext": [
            "Alabama",
            "Alaska",
            "Arizona",
            "Arkansas",
            "California",
            "Colorado",
            "Connecticut",
            "Delaware",
            "District of Columbia",
            "Florida",
            "Georgia",
            "Hawaii",
            "Idaho",
            "Illinois",
            "Indiana",
            "Iowa",
            "Kansas",
            "Kentucky",
            "Louisiana",
            "Maine",
            "Maryland",
            "Massachusetts",
            "Michigan",
            "Minnesota",
            "Mississippi",
            "Missouri",
            "Montana",
            "Nebraska",
            "Nevada",
            "New Hampshire",
            "New Jersey",
            "New Mexico",
            "New York",
            "North Carolina",
            "North Dakota",
            "Ohio",
            "Oklahoma",
            "Oregon",
            "Pennsylvania",
            "Rhode Island",
            "South Carolina",
            "South Dakota",
            "Tennessee",
            "Texas",
            "Utah",
            "Vermont",
            "Virginia",
            "Washington",
            "West Virginia",
            "Wisconsin",
            "Wyoming"
           ],
           "locationmode": "USA-states",
           "locations": [
            "AL",
            "AK",
            "AZ",
            "AR",
            "CA",
            "CO",
            "CT",
            "DE",
            "DC",
            "FL",
            "GA",
            "HI",
            "ID",
            "IL",
            "IN",
            "IA",
            "KS",
            "KY",
            "LA",
            "ME",
            "MD",
            "MA",
            "MI",
            "MN",
            "MS",
            "MO",
            "MT",
            "NE",
            "NV",
            "NH",
            "NJ",
            "NM",
            "NY",
            "NC",
            "ND",
            "OH",
            "OK",
            "OR",
            "PA",
            "RI",
            "SC",
            "SD",
            "TN",
            "TX",
            "UT",
            "VT",
            "VA",
            "WA",
            "WV",
            "WI",
            "WY"
           ],
           "name": "",
           "type": "choropleth",
           "z": [
            2.6,
            3.72,
            3.74,
            2.46,
            7.19,
            4.84,
            3.45,
            3.97,
            7.03,
            4.1,
            3.11,
            8.5,
            3.7,
            3.03,
            2.33,
            2.26,
            2.45,
            2.58,
            3.79,
            4.22,
            3.67,
            5.41,
            2.58,
            3.19,
            2.7,
            2.63,
            4.29,
            2.69,
            4.41,
            3.51,
            4.37,
            3.85,
            4.5,
            3.63,
            3.86,
            2.25,
            2.24,
            5.19,
            2.84,
            4.14,
            3.2,
            3.41,
            3.06,
            3.25,
            4.19,
            3.75,
            3.72,
            4.66,
            2.27,
            2.72,
            4
           ]
          }
         ],
         "name": "2017"
        },
        {
         "data": [
          {
           "coloraxis": "coloraxis",
           "customdata": [
            [
             138818.25,
             51113
            ],
            [
             270301.58,
             72231
            ],
            [
             246023,
             61125
            ],
            [
             125388.83,
             48829
            ],
            [
             541072.92,
             69759
            ],
            [
             386961.33,
             74172
            ],
            [
             257977.67,
             72780
            ],
            [
             256844.83,
             62318
            ],
            [
             608188.75,
             83382
            ],
            [
             235672.75,
             53681
            ],
            [
             192610.17,
             57016
            ],
            [
             652439.25,
             73575
            ],
            [
             250502.83,
             60208
            ],
            [
             203535.33,
             64609
            ],
            [
             146838.17,
             58873
            ],
            [
             148746.5,
             63481
            ],
            [
             149163.42,
             57872
            ],
            [
             140041.58,
             51348
            ],
            [
             170439.42,
             43903
            ],
            [
             231217.5,
             51664
            ],
            [
             308787.75,
             81084
            ],
            [
             419536.25,
             73227
            ],
            [
             161384.42,
             57700
            ],
            [
             245382.33,
             71920
            ],
            [
             121318.17,
             43441
            ],
            [
             158645.83,
             56885
            ],
            [
             268141.92,
             59087
            ],
            [
             171270.75,
             59619
            ],
            [
             286444.42,
             56550
            ],
            [
             279451.08,
             74801
            ],
            [
             332765.25,
             72997
            ],
            [
             191673.67,
             47855
            ],
            [
             297204.67,
             62447
            ],
            [
             194792.42,
             50343
            ],
            [
             232211,
             59886
            ],
            [
             143435.08,
             59768
            ],
            [
             126860.83,
             55006
            ],
            [
             357260.92,
             64610
            ],
            [
             189277.92,
             63173
            ],
            [
             294113,
             66390
            ],
            [
             186089.92,
             54971
            ],
            [
             203420.17,
             56894
            ],
            [
             181729,
             55240
            ],
            [
             204280.17,
             59295
            ],
            [
             327432.08,
             71319
            ],
            [
             249590.17,
             63805
            ],
            [
             274899.92,
             71293
            ],
            [
             388630.5,
             75418
            ],
            [
             106796.58,
             45392
            ],
            [
             184842.42,
             63451
            ],
            [
             239582,
             57837
            ]
           ],
           "geo": "geo",
           "hovertemplate": "<b>%{hovertext}</b><br><br>Year=2018<br>StateName=%{location}<br>Average House Price=%{customdata[0]}<br>Median Income=%{customdata[1]}<br>Ratio=%{z}<extra></extra>",
           "hovertext": [
            "Alabama",
            "Alaska",
            "Arizona",
            "Arkansas",
            "California",
            "Colorado",
            "Connecticut",
            "Delaware",
            "District of Columbia",
            "Florida",
            "Georgia",
            "Hawaii",
            "Idaho",
            "Illinois",
            "Indiana",
            "Iowa",
            "Kansas",
            "Kentucky",
            "Louisiana",
            "Maine",
            "Maryland",
            "Massachusetts",
            "Michigan",
            "Minnesota",
            "Mississippi",
            "Missouri",
            "Montana",
            "Nebraska",
            "Nevada",
            "New Hampshire",
            "New Jersey",
            "New Mexico",
            "New York",
            "North Carolina",
            "North Dakota",
            "Ohio",
            "Oklahoma",
            "Oregon",
            "Pennsylvania",
            "Rhode Island",
            "South Carolina",
            "South Dakota",
            "Tennessee",
            "Texas",
            "Utah",
            "Vermont",
            "Virginia",
            "Washington",
            "West Virginia",
            "Wisconsin",
            "Wyoming"
           ],
           "locationmode": "USA-states",
           "locations": [
            "AL",
            "AK",
            "AZ",
            "AR",
            "CA",
            "CO",
            "CT",
            "DE",
            "DC",
            "FL",
            "GA",
            "HI",
            "ID",
            "IL",
            "IN",
            "IA",
            "KS",
            "KY",
            "LA",
            "ME",
            "MD",
            "MA",
            "MI",
            "MN",
            "MS",
            "MO",
            "MT",
            "NE",
            "NV",
            "NH",
            "NJ",
            "NM",
            "NY",
            "NC",
            "ND",
            "OH",
            "OK",
            "OR",
            "PA",
            "RI",
            "SC",
            "SD",
            "TN",
            "TX",
            "UT",
            "VT",
            "VA",
            "WA",
            "WV",
            "WI",
            "WY"
           ],
           "name": "",
           "type": "choropleth",
           "z": [
            2.72,
            3.74,
            4.02,
            2.57,
            7.76,
            5.22,
            3.54,
            4.12,
            7.29,
            4.39,
            3.38,
            8.87,
            4.16,
            3.15,
            2.49,
            2.34,
            2.58,
            2.73,
            3.88,
            4.48,
            3.81,
            5.73,
            2.8,
            3.41,
            2.79,
            2.79,
            4.54,
            2.87,
            5.07,
            3.74,
            4.56,
            4.01,
            4.76,
            3.87,
            3.88,
            2.4,
            2.31,
            5.53,
            3,
            4.43,
            3.39,
            3.58,
            3.29,
            3.45,
            4.59,
            3.91,
            3.86,
            5.15,
            2.35,
            2.91,
            4.14
           ]
          }
         ],
         "name": "2018"
        },
        {
         "data": [
          {
           "coloraxis": "coloraxis",
           "customdata": [
            [
             145619.08,
             56200
            ],
            [
             285764.36,
             78394
            ],
            [
             261280.17,
             70674
            ],
            [
             130634,
             54539
            ],
            [
             551136,
             78105
            ],
            [
             403891.83,
             72499
            ],
            [
             261088,
             87291
            ],
            [
             263923.92,
             74194
            ],
            [
             633390.25,
             93111
            ],
            [
             246813.33,
             58368
            ],
            [
             205353.33,
             56628
            ],
            [
             663214.92,
             88006
            ],
            [
             280418.83,
             65988
            ],
            [
             207681.08,
             74399
            ],
            [
             156597.83,
             66693
            ],
            [
             154165,
             66054
            ],
            [
             155594.25,
             73151
            ],
            [
             146649.42,
             55662
            ],
            [
             171424.83,
             51707
            ],
            [
             241352.58,
             66546
            ],
            [
             315937.5,
             95572
            ],
            [
             429795.08,
             87707
            ],
            [
             171455.58,
             64119
            ],
            [
             257142.5,
             81426
            ],
            [
             126346.17,
             44787
            ],
            [
             166635.67,
             60597
            ],
            [
             283306.92,
             60195
            ],
            [
             180590.83,
             73071
            ],
            [
             303540.5,
             70906
            ],
            [
             291649.92,
             86900
            ],
            [
             340583.75,
             87726
            ],
            [
             202535.83,
             53113
            ],
            [
             309581.33,
             71855
            ],
            [
             206379.58,
             61159
            ],
            [
             234315.83,
             70031
            ],
            [
             151973.58,
             64663
            ],
            [
             131472.08,
             59397
            ],
            [
             370676.67,
             74413
            ],
            [
             197445.67,
             70582
            ],
            [
             302629.42,
             70151
            ],
            [
             195225.25,
             62028
            ],
            [
             213246.92,
             64255
            ],
            [
             192795.08,
             56627
            ],
            [
             214064,
             67444
            ],
            [
             353006.75,
             84523
            ],
            [
             257780.25,
             74305
            ],
            [
             285608.5,
             81313
            ],
            [
             405174.25,
             82454
            ],
            [
             110180.5,
             53706
            ],
            [
             194918.83,
             67355
            ],
            [
             251059.75,
             65134
            ]
           ],
           "geo": "geo",
           "hovertemplate": "<b>%{hovertext}</b><br><br>Year=2019<br>StateName=%{location}<br>Average House Price=%{customdata[0]}<br>Median Income=%{customdata[1]}<br>Ratio=%{z}<extra></extra>",
           "hovertext": [
            "Alabama",
            "Alaska",
            "Arizona",
            "Arkansas",
            "California",
            "Colorado",
            "Connecticut",
            "Delaware",
            "District of Columbia",
            "Florida",
            "Georgia",
            "Hawaii",
            "Idaho",
            "Illinois",
            "Indiana",
            "Iowa",
            "Kansas",
            "Kentucky",
            "Louisiana",
            "Maine",
            "Maryland",
            "Massachusetts",
            "Michigan",
            "Minnesota",
            "Mississippi",
            "Missouri",
            "Montana",
            "Nebraska",
            "Nevada",
            "New Hampshire",
            "New Jersey",
            "New Mexico",
            "New York",
            "North Carolina",
            "North Dakota",
            "Ohio",
            "Oklahoma",
            "Oregon",
            "Pennsylvania",
            "Rhode Island",
            "South Carolina",
            "South Dakota",
            "Tennessee",
            "Texas",
            "Utah",
            "Vermont",
            "Virginia",
            "Washington",
            "West Virginia",
            "Wisconsin",
            "Wyoming"
           ],
           "locationmode": "USA-states",
           "locations": [
            "AL",
            "AK",
            "AZ",
            "AR",
            "CA",
            "CO",
            "CT",
            "DE",
            "DC",
            "FL",
            "GA",
            "HI",
            "ID",
            "IL",
            "IN",
            "IA",
            "KS",
            "KY",
            "LA",
            "ME",
            "MD",
            "MA",
            "MI",
            "MN",
            "MS",
            "MO",
            "MT",
            "NE",
            "NV",
            "NH",
            "NJ",
            "NM",
            "NY",
            "NC",
            "ND",
            "OH",
            "OK",
            "OR",
            "PA",
            "RI",
            "SC",
            "SD",
            "TN",
            "TX",
            "UT",
            "VT",
            "VA",
            "WA",
            "WV",
            "WI",
            "WY"
           ],
           "name": "",
           "type": "choropleth",
           "z": [
            2.59,
            3.65,
            3.7,
            2.4,
            7.06,
            5.57,
            2.99,
            3.56,
            6.8,
            4.23,
            3.63,
            7.54,
            4.25,
            2.79,
            2.35,
            2.33,
            2.13,
            2.63,
            3.32,
            3.63,
            3.31,
            4.9,
            2.67,
            3.16,
            2.82,
            2.75,
            4.71,
            2.47,
            4.28,
            3.36,
            3.88,
            3.81,
            4.31,
            3.37,
            3.35,
            2.35,
            2.21,
            4.98,
            2.8,
            4.31,
            3.15,
            3.32,
            3.4,
            3.17,
            4.18,
            3.47,
            3.51,
            4.91,
            2.05,
            2.89,
            3.85
           ]
          }
         ],
         "name": "2019"
        },
        {
         "data": [
          {
           "coloraxis": "coloraxis",
           "customdata": [
            [
             155009.83,
             54393
            ],
            [
             290507,
             74476
            ],
            [
             286914.5,
             66628
            ],
            [
             136170.92,
             50540
            ],
            [
             580133.83,
             77358
            ],
            [
             422151.33,
             82611
            ],
            [
             270228.2,
             79043
            ],
            [
             272280.08,
             69132
            ],
            [
             649736.42,
             88311
            ],
            [
             258728.67,
             57435
            ],
            [
             216654.25,
             58952
            ],
            [
             670622.08,
             80729
            ],
            [
             311922.67,
             66499
            ],
            [
             212120.58,
             73753
            ],
            [
             166305.25,
             66360
            ],
            [
             158515.25,
             68469
            ],
            [
             162559.82,
             72815
            ],
            [
             154452.08,
             56525
            ],
            [
             176318.92,
             50935
            ],
            [
             260633.42,
             63440
            ],
            [
             326200.58,
             94384
            ],
            [
             450307.5,
             86725
            ],
            [
             181323.83,
             63829
            ],
            [
             269753.75,
             78461
            ],
            [
             130949.42,
             44966
            ],
            [
             175134.17,
             61901
            ],
            [
             300301.42,
             56442
            ],
            [
             189613.42,
             72024
            ],
            [
             314986.75,
             60956
            ],
            [
             310602.92,
             88235
            ],
            [
             354035.67,
             85239
            ],
            [
             216369.58,
             50822
            ],
            [
             320105.42,
             68304
            ],
            [
             218711.58,
             60266
            ],
            [
             238326.5,
             63657
            ],
            [
             161732.75,
             60110
            ],
            [
             139120.17,
             52341
            ],
            [
             389884,
             76554
            ],
            [
             206959.8,
             70117
            ],
            [
             319715.42,
             80012
            ],
            [
             204840.83,
             60097
            ],
            [
             221643.92,
             69787
            ],
            [
             206241.17,
             54665
            ],
            [
             222479.25,
             68093
            ],
            [
             379497.08,
             83670
            ],
            [
             266787.33,
             66902
            ],
            [
             298237.42,
             81947
            ],
            [
             438538.58,
             81083
            ],
            [
             113007.75,
             51615
            ],
            [
             206652,
             67094
            ],
            [
             262022.25,
             65108
            ]
           ],
           "geo": "geo",
           "hovertemplate": "<b>%{hovertext}</b><br><br>Year=2020<br>StateName=%{location}<br>Average House Price=%{customdata[0]}<br>Median Income=%{customdata[1]}<br>Ratio=%{z}<extra></extra>",
           "hovertext": [
            "Alabama",
            "Alaska",
            "Arizona",
            "Arkansas",
            "California",
            "Colorado",
            "Connecticut",
            "Delaware",
            "District of Columbia",
            "Florida",
            "Georgia",
            "Hawaii",
            "Idaho",
            "Illinois",
            "Indiana",
            "Iowa",
            "Kansas",
            "Kentucky",
            "Louisiana",
            "Maine",
            "Maryland",
            "Massachusetts",
            "Michigan",
            "Minnesota",
            "Mississippi",
            "Missouri",
            "Montana",
            "Nebraska",
            "Nevada",
            "New Hampshire",
            "New Jersey",
            "New Mexico",
            "New York",
            "North Carolina",
            "North Dakota",
            "Ohio",
            "Oklahoma",
            "Oregon",
            "Pennsylvania",
            "Rhode Island",
            "South Carolina",
            "South Dakota",
            "Tennessee",
            "Texas",
            "Utah",
            "Vermont",
            "Virginia",
            "Washington",
            "West Virginia",
            "Wisconsin",
            "Wyoming"
           ],
           "locationmode": "USA-states",
           "locations": [
            "AL",
            "AK",
            "AZ",
            "AR",
            "CA",
            "CO",
            "CT",
            "DE",
            "DC",
            "FL",
            "GA",
            "HI",
            "ID",
            "IL",
            "IN",
            "IA",
            "KS",
            "KY",
            "LA",
            "ME",
            "MD",
            "MA",
            "MI",
            "MN",
            "MS",
            "MO",
            "MT",
            "NE",
            "NV",
            "NH",
            "NJ",
            "NM",
            "NY",
            "NC",
            "ND",
            "OH",
            "OK",
            "OR",
            "PA",
            "RI",
            "SC",
            "SD",
            "TN",
            "TX",
            "UT",
            "VT",
            "VA",
            "WA",
            "WV",
            "WI",
            "WY"
           ],
           "name": "",
           "type": "choropleth",
           "z": [
            2.85,
            3.9,
            4.31,
            2.69,
            7.5,
            5.11,
            3.42,
            3.94,
            7.36,
            4.5,
            3.68,
            8.31,
            4.69,
            2.88,
            2.51,
            2.32,
            2.23,
            2.73,
            3.46,
            4.11,
            3.46,
            5.19,
            2.84,
            3.44,
            2.91,
            2.83,
            5.32,
            2.63,
            5.17,
            3.52,
            4.15,
            4.26,
            4.69,
            3.63,
            3.74,
            2.69,
            2.66,
            5.09,
            2.95,
            4,
            3.41,
            3.18,
            3.77,
            3.27,
            4.54,
            3.99,
            3.64,
            5.41,
            2.19,
            3.08,
            4.02
           ]
          }
         ],
         "name": "2020"
        }
       ],
       "layout": {
        "autosize": true,
        "coloraxis": {
         "cmax": 10,
         "cmin": 0,
         "colorbar": {
          "title": {
           "text": "Ratio"
          }
         },
         "colorscale": [
          [
           0,
           "#000004"
          ],
          [
           0.1111111111111111,
           "#1b0c41"
          ],
          [
           0.2222222222222222,
           "#4a0c6b"
          ],
          [
           0.3333333333333333,
           "#781c6d"
          ],
          [
           0.4444444444444444,
           "#a52c60"
          ],
          [
           0.5555555555555556,
           "#cf4446"
          ],
          [
           0.6666666666666666,
           "#ed6925"
          ],
          [
           0.7777777777777778,
           "#fb9b06"
          ],
          [
           0.8888888888888888,
           "#f7d13d"
          ],
          [
           1,
           "#fcffa4"
          ]
         ]
        },
        "geo": {
         "center": {
          "lat": 38.32236809678614,
          "lon": -99.80420986825787
         },
         "domain": {
          "x": [
           0,
           1
          ],
          "y": [
           0,
           1
          ]
         },
         "projection": {
          "scale": 1.0192443785950773
         },
         "scope": "usa"
        },
        "legend": {
         "tracegroupgap": 0
        },
        "sliders": [
         {
          "active": 7,
          "currentvalue": {
           "prefix": "Year="
          },
          "len": 0.9,
          "pad": {
           "b": 10,
           "t": 60
          },
          "steps": [
           {
            "args": [
             [
              "2000"
             ],
             {
              "frame": {
               "duration": 0,
               "redraw": true
              },
              "fromcurrent": true,
              "mode": "immediate",
              "transition": {
               "duration": 0,
               "easing": "linear"
              }
             }
            ],
            "label": "2000",
            "method": "animate"
           },
           {
            "args": [
             [
              "2001"
             ],
             {
              "frame": {
               "duration": 0,
               "redraw": true
              },
              "fromcurrent": true,
              "mode": "immediate",
              "transition": {
               "duration": 0,
               "easing": "linear"
              }
             }
            ],
            "label": "2001",
            "method": "animate"
           },
           {
            "args": [
             [
              "2002"
             ],
             {
              "frame": {
               "duration": 0,
               "redraw": true
              },
              "fromcurrent": true,
              "mode": "immediate",
              "transition": {
               "duration": 0,
               "easing": "linear"
              }
             }
            ],
            "label": "2002",
            "method": "animate"
           },
           {
            "args": [
             [
              "2003"
             ],
             {
              "frame": {
               "duration": 0,
               "redraw": true
              },
              "fromcurrent": true,
              "mode": "immediate",
              "transition": {
               "duration": 0,
               "easing": "linear"
              }
             }
            ],
            "label": "2003",
            "method": "animate"
           },
           {
            "args": [
             [
              "2004"
             ],
             {
              "frame": {
               "duration": 0,
               "redraw": true
              },
              "fromcurrent": true,
              "mode": "immediate",
              "transition": {
               "duration": 0,
               "easing": "linear"
              }
             }
            ],
            "label": "2004",
            "method": "animate"
           },
           {
            "args": [
             [
              "2005"
             ],
             {
              "frame": {
               "duration": 0,
               "redraw": true
              },
              "fromcurrent": true,
              "mode": "immediate",
              "transition": {
               "duration": 0,
               "easing": "linear"
              }
             }
            ],
            "label": "2005",
            "method": "animate"
           },
           {
            "args": [
             [
              "2006"
             ],
             {
              "frame": {
               "duration": 0,
               "redraw": true
              },
              "fromcurrent": true,
              "mode": "immediate",
              "transition": {
               "duration": 0,
               "easing": "linear"
              }
             }
            ],
            "label": "2006",
            "method": "animate"
           },
           {
            "args": [
             [
              "2007"
             ],
             {
              "frame": {
               "duration": 0,
               "redraw": true
              },
              "fromcurrent": true,
              "mode": "immediate",
              "transition": {
               "duration": 0,
               "easing": "linear"
              }
             }
            ],
            "label": "2007",
            "method": "animate"
           },
           {
            "args": [
             [
              "2008"
             ],
             {
              "frame": {
               "duration": 0,
               "redraw": true
              },
              "fromcurrent": true,
              "mode": "immediate",
              "transition": {
               "duration": 0,
               "easing": "linear"
              }
             }
            ],
            "label": "2008",
            "method": "animate"
           },
           {
            "args": [
             [
              "2009"
             ],
             {
              "frame": {
               "duration": 0,
               "redraw": true
              },
              "fromcurrent": true,
              "mode": "immediate",
              "transition": {
               "duration": 0,
               "easing": "linear"
              }
             }
            ],
            "label": "2009",
            "method": "animate"
           },
           {
            "args": [
             [
              "2010"
             ],
             {
              "frame": {
               "duration": 0,
               "redraw": true
              },
              "fromcurrent": true,
              "mode": "immediate",
              "transition": {
               "duration": 0,
               "easing": "linear"
              }
             }
            ],
            "label": "2010",
            "method": "animate"
           },
           {
            "args": [
             [
              "2011"
             ],
             {
              "frame": {
               "duration": 0,
               "redraw": true
              },
              "fromcurrent": true,
              "mode": "immediate",
              "transition": {
               "duration": 0,
               "easing": "linear"
              }
             }
            ],
            "label": "2011",
            "method": "animate"
           },
           {
            "args": [
             [
              "2012"
             ],
             {
              "frame": {
               "duration": 0,
               "redraw": true
              },
              "fromcurrent": true,
              "mode": "immediate",
              "transition": {
               "duration": 0,
               "easing": "linear"
              }
             }
            ],
            "label": "2012",
            "method": "animate"
           },
           {
            "args": [
             [
              "2013"
             ],
             {
              "frame": {
               "duration": 0,
               "redraw": true
              },
              "fromcurrent": true,
              "mode": "immediate",
              "transition": {
               "duration": 0,
               "easing": "linear"
              }
             }
            ],
            "label": "2013",
            "method": "animate"
           },
           {
            "args": [
             [
              "2014"
             ],
             {
              "frame": {
               "duration": 0,
               "redraw": true
              },
              "fromcurrent": true,
              "mode": "immediate",
              "transition": {
               "duration": 0,
               "easing": "linear"
              }
             }
            ],
            "label": "2014",
            "method": "animate"
           },
           {
            "args": [
             [
              "2015"
             ],
             {
              "frame": {
               "duration": 0,
               "redraw": true
              },
              "fromcurrent": true,
              "mode": "immediate",
              "transition": {
               "duration": 0,
               "easing": "linear"
              }
             }
            ],
            "label": "2015",
            "method": "animate"
           },
           {
            "args": [
             [
              "2016"
             ],
             {
              "frame": {
               "duration": 0,
               "redraw": true
              },
              "fromcurrent": true,
              "mode": "immediate",
              "transition": {
               "duration": 0,
               "easing": "linear"
              }
             }
            ],
            "label": "2016",
            "method": "animate"
           },
           {
            "args": [
             [
              "2017"
             ],
             {
              "frame": {
               "duration": 0,
               "redraw": true
              },
              "fromcurrent": true,
              "mode": "immediate",
              "transition": {
               "duration": 0,
               "easing": "linear"
              }
             }
            ],
            "label": "2017",
            "method": "animate"
           },
           {
            "args": [
             [
              "2018"
             ],
             {
              "frame": {
               "duration": 0,
               "redraw": true
              },
              "fromcurrent": true,
              "mode": "immediate",
              "transition": {
               "duration": 0,
               "easing": "linear"
              }
             }
            ],
            "label": "2018",
            "method": "animate"
           },
           {
            "args": [
             [
              "2019"
             ],
             {
              "frame": {
               "duration": 0,
               "redraw": true
              },
              "fromcurrent": true,
              "mode": "immediate",
              "transition": {
               "duration": 0,
               "easing": "linear"
              }
             }
            ],
            "label": "2019",
            "method": "animate"
           },
           {
            "args": [
             [
              "2020"
             ],
             {
              "frame": {
               "duration": 0,
               "redraw": true
              },
              "fromcurrent": true,
              "mode": "immediate",
              "transition": {
               "duration": 0,
               "easing": "linear"
              }
             }
            ],
            "label": "2020",
            "method": "animate"
           }
          ],
          "x": 0.1,
          "xanchor": "left",
          "y": 0,
          "yanchor": "top"
         }
        ],
        "template": {
         "data": {
          "bar": [
           {
            "error_x": {
             "color": "#2a3f5f"
            },
            "error_y": {
             "color": "#2a3f5f"
            },
            "marker": {
             "line": {
              "color": "#E5ECF6",
              "width": 0.5
             },
             "pattern": {
              "fillmode": "overlay",
              "size": 10,
              "solidity": 0.2
             }
            },
            "type": "bar"
           }
          ],
          "barpolar": [
           {
            "marker": {
             "line": {
              "color": "#E5ECF6",
              "width": 0.5
             },
             "pattern": {
              "fillmode": "overlay",
              "size": 10,
              "solidity": 0.2
             }
            },
            "type": "barpolar"
           }
          ],
          "carpet": [
           {
            "aaxis": {
             "endlinecolor": "#2a3f5f",
             "gridcolor": "white",
             "linecolor": "white",
             "minorgridcolor": "white",
             "startlinecolor": "#2a3f5f"
            },
            "baxis": {
             "endlinecolor": "#2a3f5f",
             "gridcolor": "white",
             "linecolor": "white",
             "minorgridcolor": "white",
             "startlinecolor": "#2a3f5f"
            },
            "type": "carpet"
           }
          ],
          "choropleth": [
           {
            "colorbar": {
             "outlinewidth": 0,
             "ticks": ""
            },
            "type": "choropleth"
           }
          ],
          "contour": [
           {
            "colorbar": {
             "outlinewidth": 0,
             "ticks": ""
            },
            "colorscale": [
             [
              0,
              "#0d0887"
             ],
             [
              0.1111111111111111,
              "#46039f"
             ],
             [
              0.2222222222222222,
              "#7201a8"
             ],
             [
              0.3333333333333333,
              "#9c179e"
             ],
             [
              0.4444444444444444,
              "#bd3786"
             ],
             [
              0.5555555555555556,
              "#d8576b"
             ],
             [
              0.6666666666666666,
              "#ed7953"
             ],
             [
              0.7777777777777778,
              "#fb9f3a"
             ],
             [
              0.8888888888888888,
              "#fdca26"
             ],
             [
              1,
              "#f0f921"
             ]
            ],
            "type": "contour"
           }
          ],
          "contourcarpet": [
           {
            "colorbar": {
             "outlinewidth": 0,
             "ticks": ""
            },
            "type": "contourcarpet"
           }
          ],
          "heatmap": [
           {
            "colorbar": {
             "outlinewidth": 0,
             "ticks": ""
            },
            "colorscale": [
             [
              0,
              "#0d0887"
             ],
             [
              0.1111111111111111,
              "#46039f"
             ],
             [
              0.2222222222222222,
              "#7201a8"
             ],
             [
              0.3333333333333333,
              "#9c179e"
             ],
             [
              0.4444444444444444,
              "#bd3786"
             ],
             [
              0.5555555555555556,
              "#d8576b"
             ],
             [
              0.6666666666666666,
              "#ed7953"
             ],
             [
              0.7777777777777778,
              "#fb9f3a"
             ],
             [
              0.8888888888888888,
              "#fdca26"
             ],
             [
              1,
              "#f0f921"
             ]
            ],
            "type": "heatmap"
           }
          ],
          "heatmapgl": [
           {
            "colorbar": {
             "outlinewidth": 0,
             "ticks": ""
            },
            "colorscale": [
             [
              0,
              "#0d0887"
             ],
             [
              0.1111111111111111,
              "#46039f"
             ],
             [
              0.2222222222222222,
              "#7201a8"
             ],
             [
              0.3333333333333333,
              "#9c179e"
             ],
             [
              0.4444444444444444,
              "#bd3786"
             ],
             [
              0.5555555555555556,
              "#d8576b"
             ],
             [
              0.6666666666666666,
              "#ed7953"
             ],
             [
              0.7777777777777778,
              "#fb9f3a"
             ],
             [
              0.8888888888888888,
              "#fdca26"
             ],
             [
              1,
              "#f0f921"
             ]
            ],
            "type": "heatmapgl"
           }
          ],
          "histogram": [
           {
            "marker": {
             "pattern": {
              "fillmode": "overlay",
              "size": 10,
              "solidity": 0.2
             }
            },
            "type": "histogram"
           }
          ],
          "histogram2d": [
           {
            "colorbar": {
             "outlinewidth": 0,
             "ticks": ""
            },
            "colorscale": [
             [
              0,
              "#0d0887"
             ],
             [
              0.1111111111111111,
              "#46039f"
             ],
             [
              0.2222222222222222,
              "#7201a8"
             ],
             [
              0.3333333333333333,
              "#9c179e"
             ],
             [
              0.4444444444444444,
              "#bd3786"
             ],
             [
              0.5555555555555556,
              "#d8576b"
             ],
             [
              0.6666666666666666,
              "#ed7953"
             ],
             [
              0.7777777777777778,
              "#fb9f3a"
             ],
             [
              0.8888888888888888,
              "#fdca26"
             ],
             [
              1,
              "#f0f921"
             ]
            ],
            "type": "histogram2d"
           }
          ],
          "histogram2dcontour": [
           {
            "colorbar": {
             "outlinewidth": 0,
             "ticks": ""
            },
            "colorscale": [
             [
              0,
              "#0d0887"
             ],
             [
              0.1111111111111111,
              "#46039f"
             ],
             [
              0.2222222222222222,
              "#7201a8"
             ],
             [
              0.3333333333333333,
              "#9c179e"
             ],
             [
              0.4444444444444444,
              "#bd3786"
             ],
             [
              0.5555555555555556,
              "#d8576b"
             ],
             [
              0.6666666666666666,
              "#ed7953"
             ],
             [
              0.7777777777777778,
              "#fb9f3a"
             ],
             [
              0.8888888888888888,
              "#fdca26"
             ],
             [
              1,
              "#f0f921"
             ]
            ],
            "type": "histogram2dcontour"
           }
          ],
          "mesh3d": [
           {
            "colorbar": {
             "outlinewidth": 0,
             "ticks": ""
            },
            "type": "mesh3d"
           }
          ],
          "parcoords": [
           {
            "line": {
             "colorbar": {
              "outlinewidth": 0,
              "ticks": ""
             }
            },
            "type": "parcoords"
           }
          ],
          "pie": [
           {
            "automargin": true,
            "type": "pie"
           }
          ],
          "scatter": [
           {
            "marker": {
             "colorbar": {
              "outlinewidth": 0,
              "ticks": ""
             }
            },
            "type": "scatter"
           }
          ],
          "scatter3d": [
           {
            "line": {
             "colorbar": {
              "outlinewidth": 0,
              "ticks": ""
             }
            },
            "marker": {
             "colorbar": {
              "outlinewidth": 0,
              "ticks": ""
             }
            },
            "type": "scatter3d"
           }
          ],
          "scattercarpet": [
           {
            "marker": {
             "colorbar": {
              "outlinewidth": 0,
              "ticks": ""
             }
            },
            "type": "scattercarpet"
           }
          ],
          "scattergeo": [
           {
            "marker": {
             "colorbar": {
              "outlinewidth": 0,
              "ticks": ""
             }
            },
            "type": "scattergeo"
           }
          ],
          "scattergl": [
           {
            "marker": {
             "colorbar": {
              "outlinewidth": 0,
              "ticks": ""
             }
            },
            "type": "scattergl"
           }
          ],
          "scattermapbox": [
           {
            "marker": {
             "colorbar": {
              "outlinewidth": 0,
              "ticks": ""
             }
            },
            "type": "scattermapbox"
           }
          ],
          "scatterpolar": [
           {
            "marker": {
             "colorbar": {
              "outlinewidth": 0,
              "ticks": ""
             }
            },
            "type": "scatterpolar"
           }
          ],
          "scatterpolargl": [
           {
            "marker": {
             "colorbar": {
              "outlinewidth": 0,
              "ticks": ""
             }
            },
            "type": "scatterpolargl"
           }
          ],
          "scatterternary": [
           {
            "marker": {
             "colorbar": {
              "outlinewidth": 0,
              "ticks": ""
             }
            },
            "type": "scatterternary"
           }
          ],
          "surface": [
           {
            "colorbar": {
             "outlinewidth": 0,
             "ticks": ""
            },
            "colorscale": [
             [
              0,
              "#0d0887"
             ],
             [
              0.1111111111111111,
              "#46039f"
             ],
             [
              0.2222222222222222,
              "#7201a8"
             ],
             [
              0.3333333333333333,
              "#9c179e"
             ],
             [
              0.4444444444444444,
              "#bd3786"
             ],
             [
              0.5555555555555556,
              "#d8576b"
             ],
             [
              0.6666666666666666,
              "#ed7953"
             ],
             [
              0.7777777777777778,
              "#fb9f3a"
             ],
             [
              0.8888888888888888,
              "#fdca26"
             ],
             [
              1,
              "#f0f921"
             ]
            ],
            "type": "surface"
           }
          ],
          "table": [
           {
            "cells": {
             "fill": {
              "color": "#EBF0F8"
             },
             "line": {
              "color": "white"
             }
            },
            "header": {
             "fill": {
              "color": "#C8D4E3"
             },
             "line": {
              "color": "white"
             }
            },
            "type": "table"
           }
          ]
         },
         "layout": {
          "annotationdefaults": {
           "arrowcolor": "#2a3f5f",
           "arrowhead": 0,
           "arrowwidth": 1
          },
          "autotypenumbers": "strict",
          "coloraxis": {
           "colorbar": {
            "outlinewidth": 0,
            "ticks": ""
           }
          },
          "colorscale": {
           "diverging": [
            [
             0,
             "#8e0152"
            ],
            [
             0.1,
             "#c51b7d"
            ],
            [
             0.2,
             "#de77ae"
            ],
            [
             0.3,
             "#f1b6da"
            ],
            [
             0.4,
             "#fde0ef"
            ],
            [
             0.5,
             "#f7f7f7"
            ],
            [
             0.6,
             "#e6f5d0"
            ],
            [
             0.7,
             "#b8e186"
            ],
            [
             0.8,
             "#7fbc41"
            ],
            [
             0.9,
             "#4d9221"
            ],
            [
             1,
             "#276419"
            ]
           ],
           "sequential": [
            [
             0,
             "#0d0887"
            ],
            [
             0.1111111111111111,
             "#46039f"
            ],
            [
             0.2222222222222222,
             "#7201a8"
            ],
            [
             0.3333333333333333,
             "#9c179e"
            ],
            [
             0.4444444444444444,
             "#bd3786"
            ],
            [
             0.5555555555555556,
             "#d8576b"
            ],
            [
             0.6666666666666666,
             "#ed7953"
            ],
            [
             0.7777777777777778,
             "#fb9f3a"
            ],
            [
             0.8888888888888888,
             "#fdca26"
            ],
            [
             1,
             "#f0f921"
            ]
           ],
           "sequentialminus": [
            [
             0,
             "#0d0887"
            ],
            [
             0.1111111111111111,
             "#46039f"
            ],
            [
             0.2222222222222222,
             "#7201a8"
            ],
            [
             0.3333333333333333,
             "#9c179e"
            ],
            [
             0.4444444444444444,
             "#bd3786"
            ],
            [
             0.5555555555555556,
             "#d8576b"
            ],
            [
             0.6666666666666666,
             "#ed7953"
            ],
            [
             0.7777777777777778,
             "#fb9f3a"
            ],
            [
             0.8888888888888888,
             "#fdca26"
            ],
            [
             1,
             "#f0f921"
            ]
           ]
          },
          "colorway": [
           "#636efa",
           "#EF553B",
           "#00cc96",
           "#ab63fa",
           "#FFA15A",
           "#19d3f3",
           "#FF6692",
           "#B6E880",
           "#FF97FF",
           "#FECB52"
          ],
          "font": {
           "color": "#2a3f5f"
          },
          "geo": {
           "bgcolor": "white",
           "lakecolor": "white",
           "landcolor": "#E5ECF6",
           "showlakes": true,
           "showland": true,
           "subunitcolor": "white"
          },
          "hoverlabel": {
           "align": "left"
          },
          "hovermode": "closest",
          "mapbox": {
           "style": "light"
          },
          "paper_bgcolor": "white",
          "plot_bgcolor": "#E5ECF6",
          "polar": {
           "angularaxis": {
            "gridcolor": "white",
            "linecolor": "white",
            "ticks": ""
           },
           "bgcolor": "#E5ECF6",
           "radialaxis": {
            "gridcolor": "white",
            "linecolor": "white",
            "ticks": ""
           }
          },
          "scene": {
           "xaxis": {
            "backgroundcolor": "#E5ECF6",
            "gridcolor": "white",
            "gridwidth": 2,
            "linecolor": "white",
            "showbackground": true,
            "ticks": "",
            "zerolinecolor": "white"
           },
           "yaxis": {
            "backgroundcolor": "#E5ECF6",
            "gridcolor": "white",
            "gridwidth": 2,
            "linecolor": "white",
            "showbackground": true,
            "ticks": "",
            "zerolinecolor": "white"
           },
           "zaxis": {
            "backgroundcolor": "#E5ECF6",
            "gridcolor": "white",
            "gridwidth": 2,
            "linecolor": "white",
            "showbackground": true,
            "ticks": "",
            "zerolinecolor": "white"
           }
          },
          "shapedefaults": {
           "line": {
            "color": "#2a3f5f"
           }
          },
          "ternary": {
           "aaxis": {
            "gridcolor": "white",
            "linecolor": "white",
            "ticks": ""
           },
           "baxis": {
            "gridcolor": "white",
            "linecolor": "white",
            "ticks": ""
           },
           "bgcolor": "#E5ECF6",
           "caxis": {
            "gridcolor": "white",
            "linecolor": "white",
            "ticks": ""
           }
          },
          "title": {
           "x": 0.05
          },
          "xaxis": {
           "automargin": true,
           "gridcolor": "white",
           "linecolor": "white",
           "ticks": "",
           "title": {
            "standoff": 15
           },
           "zerolinecolor": "white",
           "zerolinewidth": 2
          },
          "yaxis": {
           "automargin": true,
           "gridcolor": "white",
           "linecolor": "white",
           "ticks": "",
           "title": {
            "standoff": 15
           },
           "zerolinecolor": "white",
           "zerolinewidth": 2
          }
         }
        },
        "title": {
         "text": "Price-to-Income Ratio by State"
        },
        "updatemenus": [
         {
          "active": 1,
          "buttons": [
           {
            "args": [
             null,
             {
              "frame": {
               "duration": 500,
               "redraw": true
              },
              "fromcurrent": true,
              "mode": "immediate",
              "transition": {
               "duration": 500,
               "easing": "linear"
              }
             }
            ],
            "label": "&#9654;",
            "method": "animate"
           },
           {
            "args": [
             [
              null
             ],
             {
              "frame": {
               "duration": 0,
               "redraw": true
              },
              "fromcurrent": true,
              "mode": "immediate",
              "transition": {
               "duration": 0,
               "easing": "linear"
              }
             }
            ],
            "label": "&#9724;",
            "method": "animate"
           }
          ],
          "direction": "left",
          "pad": {
           "r": 10,
           "t": 70
          },
          "showactive": false,
          "type": "buttons",
          "x": 0.1,
          "xanchor": "right",
          "y": 0,
          "yanchor": "top"
         }
        ]
       }
      },
      "image/png": "[encoded data removed]",
      "text/html": [
       "<div>                            <div id=\"a652fbb1-af13-4e12-a184-2c0bfc543682\" class=\"plotly-graph-div\" style=\"height:600px; width:100%;\"></div>            <script type=\"text/javascript\">                require([\"plotly\"], function(Plotly) {                    window.PLOTLYENV=window.PLOTLYENV || {};                                    if (document.getElementById(\"a652fbb1-af13-4e12-a184-2c0bfc543682\")) {                    Plotly.newPlot(                        \"a652fbb1-af13-4e12-a184-2c0bfc543682\",                        [{\"coloraxis\":\"coloraxis\",\"customdata\":[[103148.75,35424.0],[131953.67,52847.0],[140373.58,39783.0],[80881.67,29697.0],[213105.42,46816.0],[195650.17,48240.0],[180053.0,50172.0],[156262.0,50365.0],[201678.5,41222.0],[119305.33,38856.0],[135797.33,41901.0],[228851.08,51546.0],[126867.17,37611.0],[152867.5,46064.0],[103960.5,40865.0],[96463.25,40991.0],[95515.5,41059.0],[93669.67,36265.0],[107814.25,30718.0],[120643.67,37266.0],[166774.0,54535.0],[219922.83,46753.0],[126816.25,45512.0],[142719.08,54251.0],[85235.33,34299.0],[103562.08,45097.0],[null,32777.0],[118929.25,41750.0],[167406.08,45758.0],[147343.17,50926.0],[193474.17,50405.0],[null,35093.0],[155873.33,40744.0],[137401.33,38317.0],[null,35996.0],[113323.08,42962.0],[81179.08,32432.0],[164983.25,42499.0],[108924.0,42176.0],[151552.33,42197.0],[125804.25,37570.0],[115283.42,36475.0],[115592.42,34096.0],[115486.5,38609.0],[184213.08,47550.0],[130625.08,39594.0],[139729.92,47163.0],[179606.08,42525.0],[69740.17,29411.0],[121000.92,45088.0],[null,39629.0]],\"geo\":\"geo\",\"hovertemplate\":\"<b>%{hovertext}</b><br><br>Year=2000<br>StateName=%{location}<br>Average House Price=%{customdata[0]}<br>Median Income=%{customdata[1]}<br>Ratio=%{z}<extra></extra>\",\"hovertext\":[\"Alabama\",\"Alaska\",\"Arizona\",\"Arkansas\",\"California\",\"Colorado\",\"Connecticut\",\"Delaware\",\"District of Columbia\",\"Florida\",\"Georgia\",\"Hawaii\",\"Idaho\",\"Illinois\",\"Indiana\",\"Iowa\",\"Kansas\",\"Kentucky\",\"Louisiana\",\"Maine\",\"Maryland\",\"Massachusetts\",\"Michigan\",\"Minnesota\",\"Mississippi\",\"Missouri\",\"Montana\",\"Nebraska\",\"Nevada\",\"New Hampshire\",\"New Jersey\",\"New Mexico\",\"New York\",\"North Carolina\",\"North Dakota\",\"Ohio\",\"Oklahoma\",\"Oregon\",\"Pennsylvania\",\"Rhode Island\",\"South Carolina\",\"South Dakota\",\"Tennessee\",\"Texas\",\"Utah\",\"Vermont\",\"Virginia\",\"Washington\",\"West Virginia\",\"Wisconsin\",\"Wyoming\"],\"locationmode\":\"USA-states\",\"locations\":[\"AL\",\"AK\",\"AZ\",\"AR\",\"CA\",\"CO\",\"CT\",\"DE\",\"DC\",\"FL\",\"GA\",\"HI\",\"ID\",\"IL\",\"IN\",\"IA\",\"KS\",\"KY\",\"LA\",\"ME\",\"MD\",\"MA\",\"MI\",\"MN\",\"MS\",\"MO\",\"MT\",\"NE\",\"NV\",\"NH\",\"NJ\",\"NM\",\"NY\",\"NC\",\"ND\",\"OH\",\"OK\",\"OR\",\"PA\",\"RI\",\"SC\",\"SD\",\"TN\",\"TX\",\"UT\",\"VT\",\"VA\",\"WA\",\"WV\",\"WI\",\"WY\"],\"name\":\"\",\"z\":[2.91,2.5,3.53,2.72,4.55,4.06,3.59,3.1,4.89,3.07,3.24,4.44,3.37,3.32,2.54,2.35,2.33,2.58,3.51,3.24,3.06,4.7,2.79,2.63,2.49,2.3,null,2.85,3.66,2.89,3.84,null,3.83,3.59,null,2.64,2.5,3.88,2.58,3.59,3.35,3.16,3.39,2.99,3.87,3.3,2.96,4.22,2.37,2.68,null],\"type\":\"choropleth\"}],                        {\"template\":{\"data\":{\"bar\":[{\"error_x\":{\"color\":\"#2a3f5f\"},\"error_y\":{\"color\":\"#2a3f5f\"},\"marker\":{\"line\":{\"color\":\"#E5ECF6\",\"width\":0.5},\"pattern\":{\"fillmode\":\"overlay\",\"size\":10,\"solidity\":0.2}},\"type\":\"bar\"}],\"barpolar\":[{\"marker\":{\"line\":{\"color\":\"#E5ECF6\",\"width\":0.5},\"pattern\":{\"fillmode\":\"overlay\",\"size\":10,\"solidity\":0.2}},\"type\":\"barpolar\"}],\"carpet\":[{\"aaxis\":{\"endlinecolor\":\"#2a3f5f\",\"gridcolor\":\"white\",\"linecolor\":\"white\",\"minorgridcolor\":\"white\",\"startlinecolor\":\"#2a3f5f\"},\"baxis\":{\"endlinecolor\":\"#2a3f5f\",\"gridcolor\":\"white\",\"linecolor\":\"white\",\"minorgridcolor\":\"white\",\"startlinecolor\":\"#2a3f5f\"},\"type\":\"carpet\"}],\"choropleth\":[{\"colorbar\":{\"outlinewidth\":0,\"ticks\":\"\"},\"type\":\"choropleth\"}],\"contour\":[{\"colorbar\":{\"outlinewidth\":0,\"ticks\":\"\"},\"colorscale\":[[0.0,\"#0d0887\"],[0.1111111111111111,\"#46039f\"],[0.2222222222222222,\"#7201a8\"],[0.3333333333333333,\"#9c179e\"],[0.4444444444444444,\"#bd3786\"],[0.5555555555555556,\"#d8576b\"],[0.6666666666666666,\"#ed7953\"],[0.7777777777777778,\"#fb9f3a\"],[0.8888888888888888,\"#fdca26\"],[1.0,\"#f0f921\"]],\"type\":\"contour\"}],\"contourcarpet\":[{\"colorbar\":{\"outlinewidth\":0,\"ticks\":\"\"},\"type\":\"contourcarpet\"}],\"heatmap\":[{\"colorbar\":{\"outlinewidth\":0,\"ticks\":\"\"},\"colorscale\":[[0.0,\"#0d0887\"],[0.1111111111111111,\"#46039f\"],[0.2222222222222222,\"#7201a8\"],[0.3333333333333333,\"#9c179e\"],[0.4444444444444444,\"#bd3786\"],[0.5555555555555556,\"#d8576b\"],[0.6666666666666666,\"#ed7953\"],[0.7777777777777778,\"#fb9f3a\"],[0.8888888888888888,\"#fdca26\"],[1.0,\"#f0f921\"]],\"type\":\"heatmap\"}],\"heatmapgl\":[{\"colorbar\":{\"outlinewidth\":0,\"ticks\":\"\"},\"colorscale\":[[0.0,\"#0d0887\"],[0.1111111111111111,\"#46039f\"],[0.2222222222222222,\"#7201a8\"],[0.3333333333333333,\"#9c179e\"],[0.4444444444444444,\"#bd3786\"],[0.5555555555555556,\"#d8576b\"],[0.6666666666666666,\"#ed7953\"],[0.7777777777777778,\"#fb9f3a\"],[0.8888888888888888,\"#fdca26\"],[1.0,\"#f0f921\"]],\"type\":\"heatmapgl\"}],\"histogram\":[{\"marker\":{\"pattern\":{\"fillmode\":\"overlay\",\"size\":10,\"solidity\":0.2}},\"type\":\"histogram\"}],\"histogram2d\":[{\"colorbar\":{\"outlinewidth\":0,\"ticks\":\"\"},\"colorscale\":[[0.0,\"#0d0887\"],[0.1111111111111111,\"#46039f\"],[0.2222222222222222,\"#7201a8\"],[0.3333333333333333,\"#9c179e\"],[0.4444444444444444,\"#bd3786\"],[0.5555555555555556,\"#d8576b\"],[0.6666666666666666,\"#ed7953\"],[0.7777777777777778,\"#fb9f3a\"],[0.8888888888888888,\"#fdca26\"],[1.0,\"#f0f921\"]],\"type\":\"histogram2d\"}],\"histogram2dcontour\":[{\"colorbar\":{\"outlinewidth\":0,\"ticks\":\"\"},\"colorscale\":[[0.0,\"#0d0887\"],[0.1111111111111111,\"#46039f\"],[0.2222222222222222,\"#7201a8\"],[0.3333333333333333,\"#9c179e\"],[0.4444444444444444,\"#bd3786\"],[0.5555555555555556,\"#d8576b\"],[0.6666666666666666,\"#ed7953\"],[0.7777777777777778,\"#fb9f3a\"],[0.8888888888888888,\"#fdca26\"],[1.0,\"#f0f921\"]],\"type\":\"histogram2dcontour\"}],\"mesh3d\":[{\"colorbar\":{\"outlinewidth\":0,\"ticks\":\"\"},\"type\":\"mesh3d\"}],\"parcoords\":[{\"line\":{\"colorbar\":{\"outlinewidth\":0,\"ticks\":\"\"}},\"type\":\"parcoords\"}],\"pie\":[{\"automargin\":true,\"type\":\"pie\"}],\"scatter\":[{\"marker\":{\"colorbar\":{\"outlinewidth\":0,\"ticks\":\"\"}},\"type\":\"scatter\"}],\"scatter3d\":[{\"line\":{\"colorbar\":{\"outlinewidth\":0,\"ticks\":\"\"}},\"marker\":{\"colorbar\":{\"outlinewidth\":0,\"ticks\":\"\"}},\"type\":\"scatter3d\"}],\"scattercarpet\":[{\"marker\":{\"colorbar\":{\"outlinewidth\":0,\"ticks\":\"\"}},\"type\":\"scattercarpet\"}],\"scattergeo\":[{\"marker\":{\"colorbar\":{\"outlinewidth\":0,\"ticks\":\"\"}},\"type\":\"scattergeo\"}],\"scattergl\":[{\"marker\":{\"colorbar\":{\"outlinewidth\":0,\"ticks\":\"\"}},\"type\":\"scattergl\"}],\"scattermapbox\":[{\"marker\":{\"colorbar\":{\"outlinewidth\":0,\"ticks\":\"\"}},\"type\":\"scattermapbox\"}],\"scatterpolar\":[{\"marker\":{\"colorbar\":{\"outlinewidth\":0,\"ticks\":\"\"}},\"type\":\"scatterpolar\"}],\"scatterpolargl\":[{\"marker\":{\"colorbar\":{\"outlinewidth\":0,\"ticks\":\"\"}},\"type\":\"scatterpolargl\"}],\"scatterternary\":[{\"marker\":{\"colorbar\":{\"outlinewidth\":0,\"ticks\":\"\"}},\"type\":\"scatterternary\"}],\"surface\":[{\"colorbar\":{\"outlinewidth\":0,\"ticks\":\"\"},\"colorscale\":[[0.0,\"#0d0887\"],[0.1111111111111111,\"#46039f\"],[0.2222222222222222,\"#7201a8\"],[0.3333333333333333,\"#9c179e\"],[0.4444444444444444,\"#bd3786\"],[0.5555555555555556,\"#d8576b\"],[0.6666666666666666,\"#ed7953\"],[0.7777777777777778,\"#fb9f3a\"],[0.8888888888888888,\"#fdca26\"],[1.0,\"#f0f921\"]],\"type\":\"surface\"}],\"table\":[{\"cells\":{\"fill\":{\"color\":\"#EBF0F8\"},\"line\":{\"color\":\"white\"}},\"header\":{\"fill\":{\"color\":\"#C8D4E3\"},\"line\":{\"color\":\"white\"}},\"type\":\"table\"}]},\"layout\":{\"annotationdefaults\":{\"arrowcolor\":\"#2a3f5f\",\"arrowhead\":0,\"arrowwidth\":1},\"autotypenumbers\":\"strict\",\"coloraxis\":{\"colorbar\":{\"outlinewidth\":0,\"ticks\":\"\"}},\"colorscale\":{\"diverging\":[[0,\"#8e0152\"],[0.1,\"#c51b7d\"],[0.2,\"#de77ae\"],[0.3,\"#f1b6da\"],[0.4,\"#fde0ef\"],[0.5,\"#f7f7f7\"],[0.6,\"#e6f5d0\"],[0.7,\"#b8e186\"],[0.8,\"#7fbc41\"],[0.9,\"#4d9221\"],[1,\"#276419\"]],\"sequential\":[[0.0,\"#0d0887\"],[0.1111111111111111,\"#46039f\"],[0.2222222222222222,\"#7201a8\"],[0.3333333333333333,\"#9c179e\"],[0.4444444444444444,\"#bd3786\"],[0.5555555555555556,\"#d8576b\"],[0.6666666666666666,\"#ed7953\"],[0.7777777777777778,\"#fb9f3a\"],[0.8888888888888888,\"#fdca26\"],[1.0,\"#f0f921\"]],\"sequentialminus\":[[0.0,\"#0d0887\"],[0.1111111111111111,\"#46039f\"],[0.2222222222222222,\"#7201a8\"],[0.3333333333333333,\"#9c179e\"],[0.4444444444444444,\"#bd3786\"],[0.5555555555555556,\"#d8576b\"],[0.6666666666666666,\"#ed7953\"],[0.7777777777777778,\"#fb9f3a\"],[0.8888888888888888,\"#fdca26\"],[1.0,\"#f0f921\"]]},\"colorway\":[\"#636efa\",\"#EF553B\",\"#00cc96\",\"#ab63fa\",\"#FFA15A\",\"#19d3f3\",\"#FF6692\",\"#B6E880\",\"#FF97FF\",\"#FECB52\"],\"font\":{\"color\":\"#2a3f5f\"},\"geo\":{\"bgcolor\":\"white\",\"lakecolor\":\"white\",\"landcolor\":\"#E5ECF6\",\"showlakes\":true,\"showland\":true,\"subunitcolor\":\"white\"},\"hoverlabel\":{\"align\":\"left\"},\"hovermode\":\"closest\",\"mapbox\":{\"style\":\"light\"},\"paper_bgcolor\":\"white\",\"plot_bgcolor\":\"#E5ECF6\",\"polar\":{\"angularaxis\":{\"gridcolor\":\"white\",\"linecolor\":\"white\",\"ticks\":\"\"},\"bgcolor\":\"#E5ECF6\",\"radialaxis\":{\"gridcolor\":\"white\",\"linecolor\":\"white\",\"ticks\":\"\"}},\"scene\":{\"xaxis\":{\"backgroundcolor\":\"#E5ECF6\",\"gridcolor\":\"white\",\"gridwidth\":2,\"linecolor\":\"white\",\"showbackground\":true,\"ticks\":\"\",\"zerolinecolor\":\"white\"},\"yaxis\":{\"backgroundcolor\":\"#E5ECF6\",\"gridcolor\":\"white\",\"gridwidth\":2,\"linecolor\":\"white\",\"showbackground\":true,\"ticks\":\"\",\"zerolinecolor\":\"white\"},\"zaxis\":{\"backgroundcolor\":\"#E5ECF6\",\"gridcolor\":\"white\",\"gridwidth\":2,\"linecolor\":\"white\",\"showbackground\":true,\"ticks\":\"\",\"zerolinecolor\":\"white\"}},\"shapedefaults\":{\"line\":{\"color\":\"#2a3f5f\"}},\"ternary\":{\"aaxis\":{\"gridcolor\":\"white\",\"linecolor\":\"white\",\"ticks\":\"\"},\"baxis\":{\"gridcolor\":\"white\",\"linecolor\":\"white\",\"ticks\":\"\"},\"bgcolor\":\"#E5ECF6\",\"caxis\":{\"gridcolor\":\"white\",\"linecolor\":\"white\",\"ticks\":\"\"}},\"title\":{\"x\":0.05},\"xaxis\":{\"automargin\":true,\"gridcolor\":\"white\",\"linecolor\":\"white\",\"ticks\":\"\",\"title\":{\"standoff\":15},\"zerolinecolor\":\"white\",\"zerolinewidth\":2},\"yaxis\":{\"automargin\":true,\"gridcolor\":\"white\",\"linecolor\":\"white\",\"ticks\":\"\",\"title\":{\"standoff\":15},\"zerolinecolor\":\"white\",\"zerolinewidth\":2}}},\"geo\":{\"domain\":{\"x\":[0.0,1.0],\"y\":[0.0,1.0]},\"center\":{},\"scope\":\"usa\"},\"coloraxis\":{\"colorbar\":{\"title\":{\"text\":\"Ratio\"}},\"colorscale\":[[0.0,\"#000004\"],[0.1111111111111111,\"#1b0c41\"],[0.2222222222222222,\"#4a0c6b\"],[0.3333333333333333,\"#781c6d\"],[0.4444444444444444,\"#a52c60\"],[0.5555555555555556,\"#cf4446\"],[0.6666666666666666,\"#ed6925\"],[0.7777777777777778,\"#fb9b06\"],[0.8888888888888888,\"#f7d13d\"],[1.0,\"#fcffa4\"]],\"cmin\":0,\"cmax\":10},\"legend\":{\"tracegroupgap\":0},\"title\":{\"text\":\"Price-to-Income Ratio by State\"},\"height\":600,\"updatemenus\":[{\"buttons\":[{\"args\":[null,{\"frame\":{\"duration\":500,\"redraw\":true},\"mode\":\"immediate\",\"fromcurrent\":true,\"transition\":{\"duration\":500,\"easing\":\"linear\"}}],\"label\":\"&#9654;\",\"method\":\"animate\"},{\"args\":[[null],{\"frame\":{\"duration\":0,\"redraw\":true},\"mode\":\"immediate\",\"fromcurrent\":true,\"transition\":{\"duration\":0,\"easing\":\"linear\"}}],\"label\":\"&#9724;\",\"method\":\"animate\"}],\"direction\":\"left\",\"pad\":{\"r\":10,\"t\":70},\"showactive\":false,\"type\":\"buttons\",\"x\":0.1,\"xanchor\":\"right\",\"y\":0,\"yanchor\":\"top\"}],\"sliders\":[{\"active\":0,\"currentvalue\":{\"prefix\":\"Year=\"},\"len\":0.9,\"pad\":{\"b\":10,\"t\":60},\"steps\":[{\"args\":[[\"2000\"],{\"frame\":{\"duration\":0,\"redraw\":true},\"mode\":\"immediate\",\"fromcurrent\":true,\"transition\":{\"duration\":0,\"easing\":\"linear\"}}],\"label\":\"2000\",\"method\":\"animate\"},{\"args\":[[\"2001\"],{\"frame\":{\"duration\":0,\"redraw\":true},\"mode\":\"immediate\",\"fromcurrent\":true,\"transition\":{\"duration\":0,\"easing\":\"linear\"}}],\"label\":\"2001\",\"method\":\"animate\"},{\"args\":[[\"2002\"],{\"frame\":{\"duration\":0,\"redraw\":true},\"mode\":\"immediate\",\"fromcurrent\":true,\"transition\":{\"duration\":0,\"easing\":\"linear\"}}],\"label\":\"2002\",\"method\":\"animate\"},{\"args\":[[\"2003\"],{\"frame\":{\"duration\":0,\"redraw\":true},\"mode\":\"immediate\",\"fromcurrent\":true,\"transition\":{\"duration\":0,\"easing\":\"linear\"}}],\"label\":\"2003\",\"method\":\"animate\"},{\"args\":[[\"2004\"],{\"frame\":{\"duration\":0,\"redraw\":true},\"mode\":\"immediate\",\"fromcurrent\":true,\"transition\":{\"duration\":0,\"easing\":\"linear\"}}],\"label\":\"2004\",\"method\":\"animate\"},{\"args\":[[\"2005\"],{\"frame\":{\"duration\":0,\"redraw\":true},\"mode\":\"immediate\",\"fromcurrent\":true,\"transition\":{\"duration\":0,\"easing\":\"linear\"}}],\"label\":\"2005\",\"method\":\"animate\"},{\"args\":[[\"2006\"],{\"frame\":{\"duration\":0,\"redraw\":true},\"mode\":\"immediate\",\"fromcurrent\":true,\"transition\":{\"duration\":0,\"easing\":\"linear\"}}],\"label\":\"2006\",\"method\":\"animate\"},{\"args\":[[\"2007\"],{\"frame\":{\"duration\":0,\"redraw\":true},\"mode\":\"immediate\",\"fromcurrent\":true,\"transition\":{\"duration\":0,\"easing\":\"linear\"}}],\"label\":\"2007\",\"method\":\"animate\"},{\"args\":[[\"2008\"],{\"frame\":{\"duration\":0,\"redraw\":true},\"mode\":\"immediate\",\"fromcurrent\":true,\"transition\":{\"duration\":0,\"easing\":\"linear\"}}],\"label\":\"2008\",\"method\":\"animate\"},{\"args\":[[\"2009\"],{\"frame\":{\"duration\":0,\"redraw\":true},\"mode\":\"immediate\",\"fromcurrent\":true,\"transition\":{\"duration\":0,\"easing\":\"linear\"}}],\"label\":\"2009\",\"method\":\"animate\"},{\"args\":[[\"2010\"],{\"frame\":{\"duration\":0,\"redraw\":true},\"mode\":\"immediate\",\"fromcurrent\":true,\"transition\":{\"duration\":0,\"easing\":\"linear\"}}],\"label\":\"2010\",\"method\":\"animate\"},{\"args\":[[\"2011\"],{\"frame\":{\"duration\":0,\"redraw\":true},\"mode\":\"immediate\",\"fromcurrent\":true,\"transition\":{\"duration\":0,\"easing\":\"linear\"}}],\"label\":\"2011\",\"method\":\"animate\"},{\"args\":[[\"2012\"],{\"frame\":{\"duration\":0,\"redraw\":true},\"mode\":\"immediate\",\"fromcurrent\":true,\"transition\":{\"duration\":0,\"easing\":\"linear\"}}],\"label\":\"2012\",\"method\":\"animate\"},{\"args\":[[\"2013\"],{\"frame\":{\"duration\":0,\"redraw\":true},\"mode\":\"immediate\",\"fromcurrent\":true,\"transition\":{\"duration\":0,\"easing\":\"linear\"}}],\"label\":\"2013\",\"method\":\"animate\"},{\"args\":[[\"2014\"],{\"frame\":{\"duration\":0,\"redraw\":true},\"mode\":\"immediate\",\"fromcurrent\":true,\"transition\":{\"duration\":0,\"easing\":\"linear\"}}],\"label\":\"2014\",\"method\":\"animate\"},{\"args\":[[\"2015\"],{\"frame\":{\"duration\":0,\"redraw\":true},\"mode\":\"immediate\",\"fromcurrent\":true,\"transition\":{\"duration\":0,\"easing\":\"linear\"}}],\"label\":\"2015\",\"method\":\"animate\"},{\"args\":[[\"2016\"],{\"frame\":{\"duration\":0,\"redraw\":true},\"mode\":\"immediate\",\"fromcurrent\":true,\"transition\":{\"duration\":0,\"easing\":\"linear\"}}],\"label\":\"2016\",\"method\":\"animate\"},{\"args\":[[\"2017\"],{\"frame\":{\"duration\":0,\"redraw\":true},\"mode\":\"immediate\",\"fromcurrent\":true,\"transition\":{\"duration\":0,\"easing\":\"linear\"}}],\"label\":\"2017\",\"method\":\"animate\"},{\"args\":[[\"2018\"],{\"frame\":{\"duration\":0,\"redraw\":true},\"mode\":\"immediate\",\"fromcurrent\":true,\"transition\":{\"duration\":0,\"easing\":\"linear\"}}],\"label\":\"2018\",\"method\":\"animate\"},{\"args\":[[\"2019\"],{\"frame\":{\"duration\":0,\"redraw\":true},\"mode\":\"immediate\",\"fromcurrent\":true,\"transition\":{\"duration\":0,\"easing\":\"linear\"}}],\"label\":\"2019\",\"method\":\"animate\"},{\"args\":[[\"2020\"],{\"frame\":{\"duration\":0,\"redraw\":true},\"mode\":\"immediate\",\"fromcurrent\":true,\"transition\":{\"duration\":0,\"easing\":\"linear\"}}],\"label\":\"2020\",\"method\":\"animate\"}],\"x\":0.1,\"xanchor\":\"left\",\"y\":0,\"yanchor\":\"top\"}]},                        {\"responsive\": true}                    ).then(function(){\n",
       "                            Plotly.addFrames('a652fbb1-af13-4e12-a184-2c0bfc543682', [{\"data\":[{\"coloraxis\":\"coloraxis\",\"customdata\":[[103148.75,35424.0],[131953.67,52847.0],[140373.58,39783.0],[80881.67,29697.0],[213105.42,46816.0],[195650.17,48240.0],[180053.0,50172.0],[156262.0,50365.0],[201678.5,41222.0],[119305.33,38856.0],[135797.33,41901.0],[228851.08,51546.0],[126867.17,37611.0],[152867.5,46064.0],[103960.5,40865.0],[96463.25,40991.0],[95515.5,41059.0],[93669.67,36265.0],[107814.25,30718.0],[120643.67,37266.0],[166774.0,54535.0],[219922.83,46753.0],[126816.25,45512.0],[142719.08,54251.0],[85235.33,34299.0],[103562.08,45097.0],[null,32777.0],[118929.25,41750.0],[167406.08,45758.0],[147343.17,50926.0],[193474.17,50405.0],[null,35093.0],[155873.33,40744.0],[137401.33,38317.0],[null,35996.0],[113323.08,42962.0],[81179.08,32432.0],[164983.25,42499.0],[108924.0,42176.0],[151552.33,42197.0],[125804.25,37570.0],[115283.42,36475.0],[115592.42,34096.0],[115486.5,38609.0],[184213.08,47550.0],[130625.08,39594.0],[139729.92,47163.0],[179606.08,42525.0],[69740.17,29411.0],[121000.92,45088.0],[null,39629.0]],\"geo\":\"geo\",\"hovertemplate\":\"<b>%{hovertext}</b><br><br>Year=2000<br>StateName=%{location}<br>Average House Price=%{customdata[0]}<br>Median Income=%{customdata[1]}<br>Ratio=%{z}<extra></extra>\",\"hovertext\":[\"Alabama\",\"Alaska\",\"Arizona\",\"Arkansas\",\"California\",\"Colorado\",\"Connecticut\",\"Delaware\",\"District of Columbia\",\"Florida\",\"Georgia\",\"Hawaii\",\"Idaho\",\"Illinois\",\"Indiana\",\"Iowa\",\"Kansas\",\"Kentucky\",\"Louisiana\",\"Maine\",\"Maryland\",\"Massachusetts\",\"Michigan\",\"Minnesota\",\"Mississippi\",\"Missouri\",\"Montana\",\"Nebraska\",\"Nevada\",\"New Hampshire\",\"New Jersey\",\"New Mexico\",\"New York\",\"North Carolina\",\"North Dakota\",\"Ohio\",\"Oklahoma\",\"Oregon\",\"Pennsylvania\",\"Rhode Island\",\"South Carolina\",\"South Dakota\",\"Tennessee\",\"Texas\",\"Utah\",\"Vermont\",\"Virginia\",\"Washington\",\"West Virginia\",\"Wisconsin\",\"Wyoming\"],\"locationmode\":\"USA-states\",\"locations\":[\"AL\",\"AK\",\"AZ\",\"AR\",\"CA\",\"CO\",\"CT\",\"DE\",\"DC\",\"FL\",\"GA\",\"HI\",\"ID\",\"IL\",\"IN\",\"IA\",\"KS\",\"KY\",\"LA\",\"ME\",\"MD\",\"MA\",\"MI\",\"MN\",\"MS\",\"MO\",\"MT\",\"NE\",\"NV\",\"NH\",\"NJ\",\"NM\",\"NY\",\"NC\",\"ND\",\"OH\",\"OK\",\"OR\",\"PA\",\"RI\",\"SC\",\"SD\",\"TN\",\"TX\",\"UT\",\"VT\",\"VA\",\"WA\",\"WV\",\"WI\",\"WY\"],\"name\":\"\",\"z\":[2.91,2.5,3.53,2.72,4.55,4.06,3.59,3.1,4.89,3.07,3.24,4.44,3.37,3.32,2.54,2.35,2.33,2.58,3.51,3.24,3.06,4.7,2.79,2.63,2.49,2.3,null,2.85,3.66,2.89,3.84,null,3.83,3.59,null,2.64,2.5,3.88,2.58,3.59,3.35,3.16,3.39,2.99,3.87,3.3,2.96,4.22,2.37,2.68,null],\"type\":\"choropleth\"}],\"name\":\"2000\"},{\"data\":[{\"coloraxis\":\"coloraxis\",\"customdata\":[[107313.58,35160.0],[152513.67,57363.0],[148184.33,42704.0],[84591.75,33339.0],[243172.0,47262.0],[218944.0,49397.0],[195869.92,53347.0],[165562.42,49602.0],[220088.92,41169.0],[129241.0,36421.0],[145643.75,42576.0],[242283.33,47439.0],[131585.33,38241.0],[164887.58,46171.0],[107560.33,40379.0],[100926.83,40976.0],[101356.17,41415.0],[98720.0,38437.0],[113514.17,33322.0],[133916.08,36612.0],[177185.0,53530.0],[253743.92,52253.0],[135210.42,45047.0],[161917.42,52681.0],[89611.25,30161.0],[110852.17,41339.0],[null,32126.0],[113272.83,43611.0],[176802.25,45403.0],[168828.17,51331.0],[213905.75,51771.0],[null,33124.0],[168666.0,42114.0],[142788.25,38162.0],[null,35793.0],[118341.83,41785.0],[85268.75,35609.0],[171096.92,41273.0],[114737.42,43499.0],[167871.25,45723.0],[131546.17,37736.0],[117191.17,39671.0],[119505.58,35783.0],[117017.5,40860.0],[189955.08,47342.0],[141208.5,40794.0],[151469.0,50241.0],[188802.0,42490.0],[73644.42,29673.0],[127737.25,45346.0],[null,39719.0]],\"geo\":\"geo\",\"hovertemplate\":\"<b>%{hovertext}</b><br><br>Year=2001<br>StateName=%{location}<br>Average House Price=%{customdata[0]}<br>Median Income=%{customdata[1]}<br>Ratio=%{z}<extra></extra>\",\"hovertext\":[\"Alabama\",\"Alaska\",\"Arizona\",\"Arkansas\",\"California\",\"Colorado\",\"Connecticut\",\"Delaware\",\"District of Columbia\",\"Florida\",\"Georgia\",\"Hawaii\",\"Idaho\",\"Illinois\",\"Indiana\",\"Iowa\",\"Kansas\",\"Kentucky\",\"Louisiana\",\"Maine\",\"Maryland\",\"Massachusetts\",\"Michigan\",\"Minnesota\",\"Mississippi\",\"Missouri\",\"Montana\",\"Nebraska\",\"Nevada\",\"New Hampshire\",\"New Jersey\",\"New Mexico\",\"New York\",\"North Carolina\",\"North Dakota\",\"Ohio\",\"Oklahoma\",\"Oregon\",\"Pennsylvania\",\"Rhode Island\",\"South Carolina\",\"South Dakota\",\"Tennessee\",\"Texas\",\"Utah\",\"Vermont\",\"Virginia\",\"Washington\",\"West Virginia\",\"Wisconsin\",\"Wyoming\"],\"locationmode\":\"USA-states\",\"locations\":[\"AL\",\"AK\",\"AZ\",\"AR\",\"CA\",\"CO\",\"CT\",\"DE\",\"DC\",\"FL\",\"GA\",\"HI\",\"ID\",\"IL\",\"IN\",\"IA\",\"KS\",\"KY\",\"LA\",\"ME\",\"MD\",\"MA\",\"MI\",\"MN\",\"MS\",\"MO\",\"MT\",\"NE\",\"NV\",\"NH\",\"NJ\",\"NM\",\"NY\",\"NC\",\"ND\",\"OH\",\"OK\",\"OR\",\"PA\",\"RI\",\"SC\",\"SD\",\"TN\",\"TX\",\"UT\",\"VT\",\"VA\",\"WA\",\"WV\",\"WI\",\"WY\"],\"name\":\"\",\"z\":[3.05,2.66,3.47,2.54,5.15,4.43,3.67,3.34,5.35,3.55,3.42,5.11,3.44,3.57,2.66,2.46,2.45,2.57,3.41,3.66,3.31,4.86,3.0,3.07,2.97,2.68,null,2.6,3.89,3.29,4.13,null,4.0,3.74,null,2.83,2.39,4.15,2.64,3.67,3.49,2.95,3.34,2.86,4.01,3.46,3.01,4.44,2.48,2.82,null],\"type\":\"choropleth\"}],\"name\":\"2001\"},{\"data\":[{\"coloraxis\":\"coloraxis\",\"customdata\":[[110083.0,37603.0],[165039.0,52774.0],[155758.42,39734.0],[87109.0,32387.0],[273818.67,47437.0],[230830.67,48294.0],[216505.83,53387.0],[176987.83,49650.0],[252758.08,39070.0],[142425.0,38024.0],[152479.0,42939.0],[261020.5,47303.0],[135494.83,37715.0],[177309.0,42710.0],[109275.17,41047.0],[105124.42,41049.0],[105152.92,42619.0],[102118.08,36762.0],[118512.27,34008.0],[149892.83,36853.0],[195079.42,56407.0],[288843.17,49855.0],[141178.25,42715.0],[178937.33,54622.0],[92161.08,30882.0],[118373.67,42776.0],[null,34835.0],[113904.5,42796.0],[188103.42,44958.0],[191303.5,55321.0],[240954.08,54568.0],[139290.89,35457.0],[183997.33,41966.0],[145845.42,36515.0],[null,36200.0],[122199.67,42684.0],[88466.92,36458.0],[178406.33,41802.0],[121856.92,42498.0],[195377.83,42417.0],[135081.33,37812.0],[120688.42,37873.0],[122323.08,37030.0],[119713.0,40149.0],[191196.25,47861.0],[153341.58,42999.0],[165995.75,49631.0],[196842.58,45183.0],[76084.5,29359.0],[134758.42,45903.0],[144591.22,39763.0]],\"geo\":\"geo\",\"hovertemplate\":\"<b>%{hovertext}</b><br><br>Year=2002<br>StateName=%{location}<br>Average House Price=%{customdata[0]}<br>Median Income=%{customdata[1]}<br>Ratio=%{z}<extra></extra>\",\"hovertext\":[\"Alabama\",\"Alaska\",\"Arizona\",\"Arkansas\",\"California\",\"Colorado\",\"Connecticut\",\"Delaware\",\"District of Columbia\",\"Florida\",\"Georgia\",\"Hawaii\",\"Idaho\",\"Illinois\",\"Indiana\",\"Iowa\",\"Kansas\",\"Kentucky\",\"Louisiana\",\"Maine\",\"Maryland\",\"Massachusetts\",\"Michigan\",\"Minnesota\",\"Mississippi\",\"Missouri\",\"Montana\",\"Nebraska\",\"Nevada\",\"New Hampshire\",\"New Jersey\",\"New Mexico\",\"New York\",\"North Carolina\",\"North Dakota\",\"Ohio\",\"Oklahoma\",\"Oregon\",\"Pennsylvania\",\"Rhode Island\",\"South Carolina\",\"South Dakota\",\"Tennessee\",\"Texas\",\"Utah\",\"Vermont\",\"Virginia\",\"Washington\",\"West Virginia\",\"Wisconsin\",\"Wyoming\"],\"locationmode\":\"USA-states\",\"locations\":[\"AL\",\"AK\",\"AZ\",\"AR\",\"CA\",\"CO\",\"CT\",\"DE\",\"DC\",\"FL\",\"GA\",\"HI\",\"ID\",\"IL\",\"IN\",\"IA\",\"KS\",\"KY\",\"LA\",\"ME\",\"MD\",\"MA\",\"MI\",\"MN\",\"MS\",\"MO\",\"MT\",\"NE\",\"NV\",\"NH\",\"NJ\",\"NM\",\"NY\",\"NC\",\"ND\",\"OH\",\"OK\",\"OR\",\"PA\",\"RI\",\"SC\",\"SD\",\"TN\",\"TX\",\"UT\",\"VT\",\"VA\",\"WA\",\"WV\",\"WI\",\"WY\"],\"name\":\"\",\"z\":[2.93,3.13,3.92,2.69,5.77,4.78,4.06,3.56,6.47,3.75,3.55,5.52,3.59,4.15,2.66,2.56,2.47,2.78,3.48,4.07,3.46,5.79,3.31,3.28,2.98,2.77,null,2.66,4.18,3.46,4.42,3.93,4.38,3.99,null,2.86,2.43,4.27,2.87,4.61,3.57,3.19,3.3,2.98,3.99,3.57,3.34,4.36,2.59,2.94,3.64],\"type\":\"choropleth\"}],\"name\":\"2002\"},{\"data\":[{\"coloraxis\":\"coloraxis\",\"customdata\":[[113333.92,37255.0],[173473.42,51837.0],[164762.08,41166.0],[90835.58,32002.0],[319345.17,49300.0],[235327.92,49940.0],[242775.17,54965.0],[193704.17,49019.0],[295910.92,45044.0],[158976.58,38972.0],[157010.42,42438.0],[298025.0,51834.0],[138987.58,42372.0],[190191.42,45153.0],[111030.08,42425.0],[109430.5,41384.0],[107798.58,44232.0],[105377.42,36936.0],[122719.92,33507.0],[167175.58,37113.0],[221672.33,52314.0],[327722.75,50955.0],[145827.08,45022.0],[194384.17,52823.0],[94940.92,32728.0],[125719.83,43762.0],[null,34108.0],[118823.42,43974.0],[204747.25,45184.0],[217110.42,55567.0],[278151.75,56045.0],[142932.75,35105.0],[203462.83,42788.0],[148639.25,37279.0],[null,40410.0],[126495.25,43520.0],[91570.42,35902.0],[187855.83,41638.0],[131762.92,42933.0],[234613.42,44711.0],[139262.83,38479.0],[125625.58,39522.0],[125319.58,37523.0],[123280.75,39271.0],[191223.83,49275.0],[165671.73,43261.0],[184091.42,54783.0],[206249.08,47508.0],[79216.5,32763.0],[143043.5,46269.0],[149626.92,42555.0]],\"geo\":\"geo\",\"hovertemplate\":\"<b>%{hovertext}</b><br><br>Year=2003<br>StateName=%{location}<br>Average House Price=%{customdata[0]}<br>Median Income=%{customdata[1]}<br>Ratio=%{z}<extra></extra>\",\"hovertext\":[\"Alabama\",\"Alaska\",\"Arizona\",\"Arkansas\",\"California\",\"Colorado\",\"Connecticut\",\"Delaware\",\"District of Columbia\",\"Florida\",\"Georgia\",\"Hawaii\",\"Idaho\",\"Illinois\",\"Indiana\",\"Iowa\",\"Kansas\",\"Kentucky\",\"Louisiana\",\"Maine\",\"Maryland\",\"Massachusetts\",\"Michigan\",\"Minnesota\",\"Mississippi\",\"Missouri\",\"Montana\",\"Nebraska\",\"Nevada\",\"New Hampshire\",\"New Jersey\",\"New Mexico\",\"New York\",\"North Carolina\",\"North Dakota\",\"Ohio\",\"Oklahoma\",\"Oregon\",\"Pennsylvania\",\"Rhode Island\",\"South Carolina\",\"South Dakota\",\"Tennessee\",\"Texas\",\"Utah\",\"Vermont\",\"Virginia\",\"Washington\",\"West Virginia\",\"Wisconsin\",\"Wyoming\"],\"locationmode\":\"USA-states\",\"locations\":[\"AL\",\"AK\",\"AZ\",\"AR\",\"CA\",\"CO\",\"CT\",\"DE\",\"DC\",\"FL\",\"GA\",\"HI\",\"ID\",\"IL\",\"IN\",\"IA\",\"KS\",\"KY\",\"LA\",\"ME\",\"MD\",\"MA\",\"MI\",\"MN\",\"MS\",\"MO\",\"MT\",\"NE\",\"NV\",\"NH\",\"NJ\",\"NM\",\"NY\",\"NC\",\"ND\",\"OH\",\"OK\",\"OR\",\"PA\",\"RI\",\"SC\",\"SD\",\"TN\",\"TX\",\"UT\",\"VT\",\"VA\",\"WA\",\"WV\",\"WI\",\"WY\"],\"name\":\"\",\"z\":[3.04,3.35,4.0,2.84,6.48,4.71,4.42,3.95,6.57,4.08,3.7,5.75,3.28,4.21,2.62,2.64,2.44,2.85,3.66,4.5,4.24,6.43,3.24,3.68,2.9,2.87,null,2.7,4.53,3.91,4.96,4.07,4.76,3.99,null,2.91,2.55,4.51,3.07,5.25,3.62,3.18,3.34,3.14,3.88,3.83,3.36,4.34,2.42,3.09,3.52],\"type\":\"choropleth\"}],\"name\":\"2003\"},{\"data\":[{\"coloraxis\":\"coloraxis\",\"customdata\":[[117334.08,36629.0],[186998.58,55063.0],[179821.3,43846.0],[95861.33,34984.0],[388737.75,49222.0],[240208.08,50886.0],[271638.17,55100.0],[216564.42,48049.0],[347268.08,43451.0],[182024.42,40535.0],[161659.67,40984.0],[363216.33,56242.0],[145110.5,44358.0],[204729.75,46077.0],[113999.0,42329.0],[113858.75,43391.0],[112930.58,41066.0],[108727.08,35610.0],[128536.08,36429.0],[190437.25,41329.0],[259075.17,57103.0],[360629.83,52019.0],[151207.08,42256.0],[209862.67,56104.0],[98112.33,34755.0],[132588.08,42137.0],[null,33956.0],[124865.75,43786.0],[263106.45,47204.0],[241538.08,56815.0],[316605.75,55275.0],[150704.08,39562.0],[225102.25,44649.0],[152554.0,40238.0],[null,39220.0],[131054.17,43055.0],[94853.83,39614.0],[203150.17,40994.0],[144327.5,44106.0],[276505.75,47935.0],[145668.08,38691.0],[132892.42,41107.0],[129685.75,38072.0],[130863.0,41397.0],[194052.58,50871.0],[184663.58,47329.0],[213888.08,51141.0],[224387.33,49922.0],[84158.25,33373.0],[154837.42,45732.0],[159879.5,45397.0]],\"geo\":\"geo\",\"hovertemplate\":\"<b>%{hovertext}</b><br><br>Year=2004<br>StateName=%{location}<br>Average House Price=%{customdata[0]}<br>Median Income=%{customdata[1]}<br>Ratio=%{z}<extra></extra>\",\"hovertext\":[\"Alabama\",\"Alaska\",\"Arizona\",\"Arkansas\",\"California\",\"Colorado\",\"Connecticut\",\"Delaware\",\"District of Columbia\",\"Florida\",\"Georgia\",\"Hawaii\",\"Idaho\",\"Illinois\",\"Indiana\",\"Iowa\",\"Kansas\",\"Kentucky\",\"Louisiana\",\"Maine\",\"Maryland\",\"Massachusetts\",\"Michigan\",\"Minnesota\",\"Mississippi\",\"Missouri\",\"Montana\",\"Nebraska\",\"Nevada\",\"New Hampshire\",\"New Jersey\",\"New Mexico\",\"New York\",\"North Carolina\",\"North Dakota\",\"Ohio\",\"Oklahoma\",\"Oregon\",\"Pennsylvania\",\"Rhode Island\",\"South Carolina\",\"South Dakota\",\"Tennessee\",\"Texas\",\"Utah\",\"Vermont\",\"Virginia\",\"Washington\",\"West Virginia\",\"Wisconsin\",\"Wyoming\"],\"locationmode\":\"USA-states\",\"locations\":[\"AL\",\"AK\",\"AZ\",\"AR\",\"CA\",\"CO\",\"CT\",\"DE\",\"DC\",\"FL\",\"GA\",\"HI\",\"ID\",\"IL\",\"IN\",\"IA\",\"KS\",\"KY\",\"LA\",\"ME\",\"MD\",\"MA\",\"MI\",\"MN\",\"MS\",\"MO\",\"MT\",\"NE\",\"NV\",\"NH\",\"NJ\",\"NM\",\"NY\",\"NC\",\"ND\",\"OH\",\"OK\",\"OR\",\"PA\",\"RI\",\"SC\",\"SD\",\"TN\",\"TX\",\"UT\",\"VT\",\"VA\",\"WA\",\"WV\",\"WI\",\"WY\"],\"name\":\"\",\"z\":[3.2,3.4,4.1,2.74,7.9,4.72,4.93,4.51,7.99,4.49,3.94,6.46,3.27,4.44,2.69,2.62,2.75,3.05,3.53,4.61,4.54,6.93,3.58,3.74,2.82,3.15,null,2.85,5.57,4.25,5.73,3.81,5.04,3.79,null,3.04,2.39,4.96,3.27,5.77,3.76,3.23,3.41,3.16,3.81,3.9,4.18,4.49,2.52,3.39,3.52],\"type\":\"choropleth\"}],\"name\":\"2004\"},{\"data\":[{\"coloraxis\":\"coloraxis\",\"customdata\":[[123117.75,37150.0],[204210.42,55891.0],[233848.83,45245.0],[102936.75,36658.0],[473192.08,51755.0],[247158.33,50449.0],[305325.92,56835.0],[250274.0,51235.0],[419007.5,44993.0],[225158.83,42990.0],[167669.75,45926.0],[456680.58,59586.0],[158592.89,44176.0],[221655.17,48398.0],[120271.83,42437.0],[119143.08,46500.0],[119324.5,42027.0],[113148.67,36699.0],[135818.83,37236.0],[213073.58,43923.0],[314597.83,60512.0],[390991.58,56017.0],[155357.92,45933.0],[224472.25,54215.0],[103601.33,32875.0],[139135.08,42986.0],[187845.27,37313.0],[130034.92,47923.0],[333338.83,48209.0],[265181.25,56984.0],[363194.17,63368.0],[161819.75,38947.0],[250789.17,47176.0],[158877.25,42056.0],[null,42192.0],[135157.5,44203.0],[98887.08,37645.0],[232804.33,44159.0],[160592.83,46300.0],[314090.75,49484.0],[156392.33,40230.0],[142214.67,43151.0],[137122.92,39406.0],[136393.42,41422.0],[199129.92,54813.0],[207235.5,50704.0],[259482.83,51914.0],[257862.67,50646.0],[90870.58,36445.0],[166423.0,44650.0],[173462.0,44718.0]],\"geo\":\"geo\",\"hovertemplate\":\"<b>%{hovertext}</b><br><br>Year=2005<br>StateName=%{location}<br>Average House Price=%{customdata[0]}<br>Median Income=%{customdata[1]}<br>Ratio=%{z}<extra></extra>\",\"hovertext\":[\"Alabama\",\"Alaska\",\"Arizona\",\"Arkansas\",\"California\",\"Colorado\",\"Connecticut\",\"Delaware\",\"District of Columbia\",\"Florida\",\"Georgia\",\"Hawaii\",\"Idaho\",\"Illinois\",\"Indiana\",\"Iowa\",\"Kansas\",\"Kentucky\",\"Louisiana\",\"Maine\",\"Maryland\",\"Massachusetts\",\"Michigan\",\"Minnesota\",\"Mississippi\",\"Missouri\",\"Montana\",\"Nebraska\",\"Nevada\",\"New Hampshire\",\"New Jersey\",\"New Mexico\",\"New York\",\"North Carolina\",\"North Dakota\",\"Ohio\",\"Oklahoma\",\"Oregon\",\"Pennsylvania\",\"Rhode Island\",\"South Carolina\",\"South Dakota\",\"Tennessee\",\"Texas\",\"Utah\",\"Vermont\",\"Virginia\",\"Washington\",\"West Virginia\",\"Wisconsin\",\"Wyoming\"],\"locationmode\":\"USA-states\",\"locations\":[\"AL\",\"AK\",\"AZ\",\"AR\",\"CA\",\"CO\",\"CT\",\"DE\",\"DC\",\"FL\",\"GA\",\"HI\",\"ID\",\"IL\",\"IN\",\"IA\",\"KS\",\"KY\",\"LA\",\"ME\",\"MD\",\"MA\",\"MI\",\"MN\",\"MS\",\"MO\",\"MT\",\"NE\",\"NV\",\"NH\",\"NJ\",\"NM\",\"NY\",\"NC\",\"ND\",\"OH\",\"OK\",\"OR\",\"PA\",\"RI\",\"SC\",\"SD\",\"TN\",\"TX\",\"UT\",\"VT\",\"VA\",\"WA\",\"WV\",\"WI\",\"WY\"],\"name\":\"\",\"z\":[3.31,3.65,5.17,2.81,9.14,4.9,5.37,4.88,9.31,5.24,3.65,7.66,3.59,4.58,2.83,2.56,2.84,3.08,3.65,4.85,5.2,6.98,3.38,4.14,3.15,3.24,5.03,2.71,6.91,4.65,5.73,4.15,5.32,3.78,null,3.06,2.63,5.27,3.47,6.35,3.89,3.3,3.48,3.29,3.63,4.09,5.0,5.09,2.49,3.73,3.88],\"type\":\"choropleth\"}],\"name\":\"2005\"},{\"data\":[{\"coloraxis\":\"coloraxis\",\"customdata\":[[132692.92,37952.0],[221970.25,56418.0],[284848.0,46657.0],[109915.17,37057.0],[519554.25,55319.0],[252850.5,55697.0],[327796.75,62404.0],[277211.0,52438.0],[464395.92,48477.0],[271346.08,45676.0],[174462.67,49344.0],[538959.5,60470.0],[194257.25,46213.0],[236094.75,48671.0],[123293.42,45407.0],[123651.5,48126.0],[122874.92,45552.0],[117020.25,39485.0],[148819.0,36488.0],[220516.17,45642.0],[361657.08,63668.0],[390820.42,55330.0],[155937.92,48647.0],[230919.67,56211.0],[112064.5,34733.0],[144899.75,44579.0],[203764.75,41105.0],[134062.42,48145.0],[353784.42,52282.0],[274325.08,61970.0],[399062.83,68059.0],[183561.08,40028.0],[272224.58,48222.0],[168553.58,39797.0],[null,41047.0],[137625.5,45900.0],[103384.42,38838.0],[276281.67,47091.0],[175038.83,48477.0],[327749.08,53736.0],[170051.08,39617.0],[148912.67,45427.0],[146431.92,40693.0],[141107.42,43307.0],[220998.0,54628.0],[227145.5,51981.0],[290125.83,57119.0],[301116.83,54723.0],[95029.08,38419.0],[173335.08,51692.0],[189454.75,47041.0]],\"geo\":\"geo\",\"hovertemplate\":\"<b>%{hovertext}</b><br><br>Year=2006<br>StateName=%{location}<br>Average House Price=%{customdata[0]}<br>Median Income=%{customdata[1]}<br>Ratio=%{z}<extra></extra>\",\"hovertext\":[\"Alabama\",\"Alaska\",\"Arizona\",\"Arkansas\",\"California\",\"Colorado\",\"Connecticut\",\"Delaware\",\"District of Columbia\",\"Florida\",\"Georgia\",\"Hawaii\",\"Idaho\",\"Illinois\",\"Indiana\",\"Iowa\",\"Kansas\",\"Kentucky\",\"Louisiana\",\"Maine\",\"Maryland\",\"Massachusetts\",\"Michigan\",\"Minnesota\",\"Mississippi\",\"Missouri\",\"Montana\",\"Nebraska\",\"Nevada\",\"New Hampshire\",\"New Jersey\",\"New Mexico\",\"New York\",\"North Carolina\",\"North Dakota\",\"Ohio\",\"Oklahoma\",\"Oregon\",\"Pennsylvania\",\"Rhode Island\",\"South Carolina\",\"South Dakota\",\"Tennessee\",\"Texas\",\"Utah\",\"Vermont\",\"Virginia\",\"Washington\",\"West Virginia\",\"Wisconsin\",\"Wyoming\"],\"locationmode\":\"USA-states\",\"locations\":[\"AL\",\"AK\",\"AZ\",\"AR\",\"CA\",\"CO\",\"CT\",\"DE\",\"DC\",\"FL\",\"GA\",\"HI\",\"ID\",\"IL\",\"IN\",\"IA\",\"KS\",\"KY\",\"LA\",\"ME\",\"MD\",\"MA\",\"MI\",\"MN\",\"MS\",\"MO\",\"MT\",\"NE\",\"NV\",\"NH\",\"NJ\",\"NM\",\"NY\",\"NC\",\"ND\",\"OH\",\"OK\",\"OR\",\"PA\",\"RI\",\"SC\",\"SD\",\"TN\",\"TX\",\"UT\",\"VT\",\"VA\",\"WA\",\"WV\",\"WI\",\"WY\"],\"name\":\"\",\"z\":[3.5,3.93,6.11,2.97,9.39,4.54,5.25,5.29,9.58,5.94,3.54,8.91,4.2,4.85,2.72,2.57,2.7,2.96,4.08,4.83,5.68,7.06,3.21,4.11,3.23,3.25,4.96,2.78,6.77,4.43,5.86,4.59,5.65,4.24,null,3.0,2.66,5.87,3.61,6.1,4.29,3.28,3.6,3.26,4.05,4.37,5.08,5.5,2.47,3.35,4.03],\"type\":\"choropleth\"}],\"name\":\"2006\"},{\"data\":[{\"coloraxis\":\"coloraxis\",\"customdata\":[[138655.42,42212.0],[235107.33,62993.0],[272677.92,47215.0],[112757.83,40795.0],[498823.17,55734.0],[253418.33,61141.0],[325662.5,64141.0],[283683.58,54589.0],[463933.08,50783.0],[262601.08,45794.0],[178411.0,48641.0],[549959.08,64022.0],[204226.92,49184.0],[238439.08,52506.0],[125086.5,47453.0],[126239.08,48908.0],[126848.0,48497.0],[118885.83,39452.0],[155667.25,41313.0],[219672.33,47894.0],[366450.17,65630.0],[372606.5,58463.0],[148450.67,49370.0],[227096.08,58058.0],[118050.58,37279.0],[146971.58,46005.0],[216148.0,43655.0],[135131.42,49174.0],[334647.58,54058.0],[266328.5,67576.0],[394057.75,60508.0],[197701.33,44356.0],[276864.5,48944.0],[176950.75,43513.0],[null,47205.0],[136271.25,49099.0],[106851.33,43216.0],[294814.58,50236.0],[180936.42,48437.0],[313092.42,54210.0],[176731.33,44213.0],[153511.17,46418.0],[152629.67,41195.0],[146515.58,46053.0],[255252.5,53529.0],[237486.67,47390.0],[288529.92,59161.0],[321395.75,58080.0],[97233.67,42091.0],[174956.08,51277.0],[204358.92,48744.0]],\"geo\":\"geo\",\"hovertemplate\":\"<b>%{hovertext}</b><br><br>Year=2007<br>StateName=%{location}<br>Average House Price=%{customdata[0]}<br>Median Income=%{customdata[1]}<br>Ratio=%{z}<extra></extra>\",\"hovertext\":[\"Alabama\",\"Alaska\",\"Arizona\",\"Arkansas\",\"California\",\"Colorado\",\"Connecticut\",\"Delaware\",\"District of Columbia\",\"Florida\",\"Georgia\",\"Hawaii\",\"Idaho\",\"Illinois\",\"Indiana\",\"Iowa\",\"Kansas\",\"Kentucky\",\"Louisiana\",\"Maine\",\"Maryland\",\"Massachusetts\",\"Michigan\",\"Minnesota\",\"Mississippi\",\"Missouri\",\"Montana\",\"Nebraska\",\"Nevada\",\"New Hampshire\",\"New Jersey\",\"New Mexico\",\"New York\",\"North Carolina\",\"North Dakota\",\"Ohio\",\"Oklahoma\",\"Oregon\",\"Pennsylvania\",\"Rhode Island\",\"South Carolina\",\"South Dakota\",\"Tennessee\",\"Texas\",\"Utah\",\"Vermont\",\"Virginia\",\"Washington\",\"West Virginia\",\"Wisconsin\",\"Wyoming\"],\"locationmode\":\"USA-states\",\"locations\":[\"AL\",\"AK\",\"AZ\",\"AR\",\"CA\",\"CO\",\"CT\",\"DE\",\"DC\",\"FL\",\"GA\",\"HI\",\"ID\",\"IL\",\"IN\",\"IA\",\"KS\",\"KY\",\"LA\",\"ME\",\"MD\",\"MA\",\"MI\",\"MN\",\"MS\",\"MO\",\"MT\",\"NE\",\"NV\",\"NH\",\"NJ\",\"NM\",\"NY\",\"NC\",\"ND\",\"OH\",\"OK\",\"OR\",\"PA\",\"RI\",\"SC\",\"SD\",\"TN\",\"TX\",\"UT\",\"VT\",\"VA\",\"WA\",\"WV\",\"WI\",\"WY\"],\"name\":\"\",\"z\":[3.28,3.73,5.78,2.76,8.95,4.14,5.08,5.2,9.14,5.73,3.67,8.59,4.15,4.54,2.64,2.58,2.62,3.01,3.77,4.59,5.58,6.37,3.01,3.91,3.17,3.19,4.95,2.75,6.19,3.94,6.51,4.46,5.66,4.07,null,2.78,2.47,5.87,3.74,5.78,4.0,3.31,3.71,3.18,4.77,5.01,4.88,5.53,2.31,3.41,4.19],\"type\":\"choropleth\"}],\"name\":\"2007\"},{\"data\":[{\"coloraxis\":\"coloraxis\",\"customdata\":[[137758.92,44476.0],[239729.83,63989.0],[226473.83,46914.0],[112393.25,39586.0],[408819.42,57014.0],[245439.92,60943.0],[306444.67,64682.0],[272809.92,50702.0],[451857.33,55590.0],[217620.25,44857.0],[171488.75,46227.0],[537777.08,61521.0],[202128.42,47420.0],[222402.11,53254.0],[124678.92,46520.0],[126531.75,50142.0],[128092.5,47877.0],[118531.67,41148.0],[156621.92,39563.0],[214052.08,47228.0],[336595.33,63711.0],[349953.25,60320.0],[133160.92,49788.0],[210599.33,54925.0],[116635.0,36446.0],[143741.75,46038.0],[220297.33,42900.0],[131684.25,50728.0],[259145.17,54744.0],[250725.67,66176.0],[369847.75,65306.0],[195850.75,42102.0],[273134.75,50461.0],[178163.0,42930.0],[null,49631.0],[131794.5,46934.0],[108215.83,46111.0],[282115.67,51727.0],[179743.17,51402.0],[289741.0,53241.0],[174206.0,42155.0],[157588.25,51600.0],[150550.0,39702.0],[146113.83,46490.0],[258210.58,62537.0],[238284.08,50706.0],[268095.67,61985.0],[306075.75,56631.0],[97989.5,37994.0],[170799.0,51200.0],[207966.0,53337.0]],\"geo\":\"geo\",\"hovertemplate\":\"<b>%{hovertext}</b><br><br>Year=2008<br>StateName=%{location}<br>Average House Price=%{customdata[0]}<br>Median Income=%{customdata[1]}<br>Ratio=%{z}<extra></extra>\",\"hovertext\":[\"Alabama\",\"Alaska\",\"Arizona\",\"Arkansas\",\"California\",\"Colorado\",\"Connecticut\",\"Delaware\",\"District of Columbia\",\"Florida\",\"Georgia\",\"Hawaii\",\"Idaho\",\"Illinois\",\"Indiana\",\"Iowa\",\"Kansas\",\"Kentucky\",\"Louisiana\",\"Maine\",\"Maryland\",\"Massachusetts\",\"Michigan\",\"Minnesota\",\"Mississippi\",\"Missouri\",\"Montana\",\"Nebraska\",\"Nevada\",\"New Hampshire\",\"New Jersey\",\"New Mexico\",\"New York\",\"North Carolina\",\"North Dakota\",\"Ohio\",\"Oklahoma\",\"Oregon\",\"Pennsylvania\",\"Rhode Island\",\"South Carolina\",\"South Dakota\",\"Tennessee\",\"Texas\",\"Utah\",\"Vermont\",\"Virginia\",\"Washington\",\"West Virginia\",\"Wisconsin\",\"Wyoming\"],\"locationmode\":\"USA-states\",\"locations\":[\"AL\",\"AK\",\"AZ\",\"AR\",\"CA\",\"CO\",\"CT\",\"DE\",\"DC\",\"FL\",\"GA\",\"HI\",\"ID\",\"IL\",\"IN\",\"IA\",\"KS\",\"KY\",\"LA\",\"ME\",\"MD\",\"MA\",\"MI\",\"MN\",\"MS\",\"MO\",\"MT\",\"NE\",\"NV\",\"NH\",\"NJ\",\"NM\",\"NY\",\"NC\",\"ND\",\"OH\",\"OK\",\"OR\",\"PA\",\"RI\",\"SC\",\"SD\",\"TN\",\"TX\",\"UT\",\"VT\",\"VA\",\"WA\",\"WV\",\"WI\",\"WY\"],\"name\":\"\",\"z\":[3.1,3.75,4.83,2.84,7.17,4.03,4.74,5.38,8.13,4.85,3.71,8.74,4.26,4.18,2.68,2.52,2.68,2.88,3.96,4.53,5.28,5.8,2.67,3.83,3.2,3.12,5.14,2.6,4.73,3.79,5.66,4.65,5.41,4.15,null,2.81,2.35,5.45,3.5,5.44,4.13,3.05,3.79,3.14,4.13,4.7,4.33,5.4,2.58,3.34,3.9],\"type\":\"choropleth\"}],\"name\":\"2008\"},{\"data\":[{\"coloraxis\":\"coloraxis\",\"customdata\":[[132370.33,39980.0],[239287.67,61604.0],[175837.08,45739.0],[108670.17,36538.0],[333510.25,56134.0],[238108.25,55930.0],[282713.42,64851.0],[254126.25,52114.0],[428320.67,53141.0],[173159.0,45631.0],[153815.0,43340.0],[491091.75,55649.0],[180232.5,46778.0],[198749.92,52870.0],[121290.08,44305.0],[124936.08,50721.0],[127441.25,44717.0],[117244.92,42664.0],[155211.0,45433.0],[199502.17,47502.0],[294867.67,64186.0],[327105.75,59373.0],[112816.08,45994.0],[191948.08,56090.0],[112711.08,35078.0],[137901.5,48769.0],[216098.83,40437.0],[129900.83,49595.0],[183827.08,51434.0],[232624.25,64131.0],[338827.42,64777.0],[185889.75,43542.0],[258844.25,50216.0],[170846.92,41906.0],[167975.5,50075.0],[125184.0,45879.0],[107951.58,45878.0],[253967.67,49098.0],[173547.42,48172.0],[255127.92,51634.0],[164262.5,41101.0],[157106.58,45826.0],[144528.67,40517.0],[142695.33,47475.0],[233774.08,58491.0],[232469.67,52318.0],[246992.75,60501.0],[273602.42,60392.0],[95376.17,40490.0],[161311.67,51237.0],[204223.17,52470.0]],\"geo\":\"geo\",\"hovertemplate\":\"<b>%{hovertext}</b><br><br>Year=2009<br>StateName=%{location}<br>Average House Price=%{customdata[0]}<br>Median Income=%{customdata[1]}<br>Ratio=%{z}<extra></extra>\",\"hovertext\":[\"Alabama\",\"Alaska\",\"Arizona\",\"Arkansas\",\"California\",\"Colorado\",\"Connecticut\",\"Delaware\",\"District of Columbia\",\"Florida\",\"Georgia\",\"Hawaii\",\"Idaho\",\"Illinois\",\"Indiana\",\"Iowa\",\"Kansas\",\"Kentucky\",\"Louisiana\",\"Maine\",\"Maryland\",\"Massachusetts\",\"Michigan\",\"Minnesota\",\"Mississippi\",\"Missouri\",\"Montana\",\"Nebraska\",\"Nevada\",\"New Hampshire\",\"New Jersey\",\"New Mexico\",\"New York\",\"North Carolina\",\"North Dakota\",\"Ohio\",\"Oklahoma\",\"Oregon\",\"Pennsylvania\",\"Rhode Island\",\"South Carolina\",\"South Dakota\",\"Tennessee\",\"Texas\",\"Utah\",\"Vermont\",\"Virginia\",\"Washington\",\"West Virginia\",\"Wisconsin\",\"Wyoming\"],\"locationmode\":\"USA-states\",\"locations\":[\"AL\",\"AK\",\"AZ\",\"AR\",\"CA\",\"CO\",\"CT\",\"DE\",\"DC\",\"FL\",\"GA\",\"HI\",\"ID\",\"IL\",\"IN\",\"IA\",\"KS\",\"KY\",\"LA\",\"ME\",\"MD\",\"MA\",\"MI\",\"MN\",\"MS\",\"MO\",\"MT\",\"NE\",\"NV\",\"NH\",\"NJ\",\"NM\",\"NY\",\"NC\",\"ND\",\"OH\",\"OK\",\"OR\",\"PA\",\"RI\",\"SC\",\"SD\",\"TN\",\"TX\",\"UT\",\"VT\",\"VA\",\"WA\",\"WV\",\"WI\",\"WY\"],\"name\":\"\",\"z\":[3.31,3.88,3.84,2.97,5.94,4.26,4.36,4.88,8.06,3.79,3.55,8.82,3.85,3.76,2.74,2.46,2.85,2.75,3.42,4.2,4.59,5.51,2.45,3.42,3.21,2.83,5.34,2.62,3.57,3.63,5.23,4.27,5.15,4.08,3.35,2.73,2.35,5.17,3.6,4.94,4.0,3.43,3.57,3.01,4.0,4.44,4.08,4.53,2.36,3.15,3.89],\"type\":\"choropleth\"}],\"name\":\"2009\"},{\"data\":[{\"coloraxis\":\"coloraxis\",\"customdata\":[[126989.75,40933.0],[240032.83,57848.0],[158891.58,46896.0],[107048.33,38587.0],[330661.92,54283.0],[236130.67,60233.0],[271251.33,65998.0],[245521.25,55214.0],[427800.83,56928.0],[156990.25,44066.0],[143086.92,44117.0],[483500.75,59539.0],[163501.75,47050.0],[185622.58,50728.0],[119746.0,46139.0],[124349.25,49016.0],[126855.5,46054.0],[116313.83,41104.0],[154509.58,39300.0],[193897.5,47931.0],[278846.42,64201.0],[328520.08,60934.0],[104353.83,46276.0],[186363.33,52321.0],[109721.83,38160.0],[134729.42,45817.0],[209666.75,41280.0],[131288.67,52504.0],[157244.33,51200.0],[225753.83,66633.0],[326745.83,62968.0],[179679.42,45134.0],[254776.92,49781.0],[164942.75,43830.0],[168544.92,51006.0],[121995.0,45886.0],[108858.5,43103.0],[239057.83,50602.0],[172663.25,48314.0],[251173.33,51623.0],[158645.33,41698.0],[155983.42,45352.0],[141423.83,38591.0],[141916.67,47266.0],[219522.08,56701.0],[229221.75,55928.0],[242445.92,60367.0],[257982.08,56163.0],[93407.25,42777.0],[157191.75,50351.0],[201025.58,52201.0]],\"geo\":\"geo\",\"hovertemplate\":\"<b>%{hovertext}</b><br><br>Year=2010<br>StateName=%{location}<br>Average House Price=%{customdata[0]}<br>Median Income=%{customdata[1]}<br>Ratio=%{z}<extra></extra>\",\"hovertext\":[\"Alabama\",\"Alaska\",\"Arizona\",\"Arkansas\",\"California\",\"Colorado\",\"Connecticut\",\"Delaware\",\"District of Columbia\",\"Florida\",\"Georgia\",\"Hawaii\",\"Idaho\",\"Illinois\",\"Indiana\",\"Iowa\",\"Kansas\",\"Kentucky\",\"Louisiana\",\"Maine\",\"Maryland\",\"Massachusetts\",\"Michigan\",\"Minnesota\",\"Mississippi\",\"Missouri\",\"Montana\",\"Nebraska\",\"Nevada\",\"New Hampshire\",\"New Jersey\",\"New Mexico\",\"New York\",\"North Carolina\",\"North Dakota\",\"Ohio\",\"Oklahoma\",\"Oregon\",\"Pennsylvania\",\"Rhode Island\",\"South Carolina\",\"South Dakota\",\"Tennessee\",\"Texas\",\"Utah\",\"Vermont\",\"Virginia\",\"Washington\",\"West Virginia\",\"Wisconsin\",\"Wyoming\"],\"locationmode\":\"USA-states\",\"locations\":[\"AL\",\"AK\",\"AZ\",\"AR\",\"CA\",\"CO\",\"CT\",\"DE\",\"DC\",\"FL\",\"GA\",\"HI\",\"ID\",\"IL\",\"IN\",\"IA\",\"KS\",\"KY\",\"LA\",\"ME\",\"MD\",\"MA\",\"MI\",\"MN\",\"MS\",\"MO\",\"MT\",\"NE\",\"NV\",\"NH\",\"NJ\",\"NM\",\"NY\",\"NC\",\"ND\",\"OH\",\"OK\",\"OR\",\"PA\",\"RI\",\"SC\",\"SD\",\"TN\",\"TX\",\"UT\",\"VT\",\"VA\",\"WA\",\"WV\",\"WI\",\"WY\"],\"name\":\"\",\"z\":[3.1,4.15,3.39,2.77,6.09,3.92,4.11,4.45,7.51,3.56,3.24,8.12,3.48,3.66,2.6,2.54,2.75,2.83,3.93,4.05,4.34,5.39,2.26,3.56,2.88,2.94,5.08,2.5,3.07,3.39,5.19,3.98,5.12,3.76,3.3,2.66,2.53,4.72,3.57,4.87,3.8,3.44,3.66,3.0,3.87,4.1,4.02,4.59,2.18,3.12,3.85],\"type\":\"choropleth\"}],\"name\":\"2010\"},{\"data\":[{\"coloraxis\":\"coloraxis\",\"customdata\":[[121019.25,42590.0],[237051.08,57431.0],[140843.25,48621.0],[104010.5,41302.0],[312302.42,53367.0],[227008.75,58629.0],[255717.67,65415.0],[229646.92,54660.0],[423699.42,55251.0],[142541.75,45105.0],[129445.75,45973.0],[482555.75,59047.0],[147370.5,47459.0],[169315.42,50637.0],[116256.92,44445.0],[121388.33,50219.0],[122733.75,46147.0],[112732.25,39856.0],[150027.42,40658.0],[189687.83,49693.0],[262651.0,68876.0],[316036.25,63313.0],[97816.75,48879.0],[170751.42,57820.0],[107349.75,41090.0],[126809.0,45774.0],[202895.83,40277.0],[127302.58,55616.0],[141608.17,47043.0],[218613.75,65880.0],[305741.75,62338.0],[169593.67,41982.0],[248178.17,50636.0],[157296.58,45206.0],[170622.17,56361.0],[115976.5,44648.0],[106100.33,48455.0],[219014.17,51526.0],[165300.25,49910.0],[238065.33,49033.0],[150072.67,40084.0],[155326.17,47223.0],[136410.33,42279.0],[137394.5,49047.0],[203002.83,55493.0],[228836.08,51862.0],[234321.17,62616.0],[234233.25,56850.0],[92060.75,41821.0],[146517.83,52058.0],[199124.5,54509.0]],\"geo\":\"geo\",\"hovertemplate\":\"<b>%{hovertext}</b><br><br>Year=2011<br>StateName=%{location}<br>Average House Price=%{customdata[0]}<br>Median Income=%{customdata[1]}<br>Ratio=%{z}<extra></extra>\",\"hovertext\":[\"Alabama\",\"Alaska\",\"Arizona\",\"Arkansas\",\"California\",\"Colorado\",\"Connecticut\",\"Delaware\",\"District of Columbia\",\"Florida\",\"Georgia\",\"Hawaii\",\"Idaho\",\"Illinois\",\"Indiana\",\"Iowa\",\"Kansas\",\"Kentucky\",\"Louisiana\",\"Maine\",\"Maryland\",\"Massachusetts\",\"Michigan\",\"Minnesota\",\"Mississippi\",\"Missouri\",\"Montana\",\"Nebraska\",\"Nevada\",\"New Hampshire\",\"New Jersey\",\"New Mexico\",\"New York\",\"North Carolina\",\"North Dakota\",\"Ohio\",\"Oklahoma\",\"Oregon\",\"Pennsylvania\",\"Rhode Island\",\"South Carolina\",\"South Dakota\",\"Tennessee\",\"Texas\",\"Utah\",\"Vermont\",\"Virginia\",\"Washington\",\"West Virginia\",\"Wisconsin\",\"Wyoming\"],\"locationmode\":\"USA-states\",\"locations\":[\"AL\",\"AK\",\"AZ\",\"AR\",\"CA\",\"CO\",\"CT\",\"DE\",\"DC\",\"FL\",\"GA\",\"HI\",\"ID\",\"IL\",\"IN\",\"IA\",\"KS\",\"KY\",\"LA\",\"ME\",\"MD\",\"MA\",\"MI\",\"MN\",\"MS\",\"MO\",\"MT\",\"NE\",\"NV\",\"NH\",\"NJ\",\"NM\",\"NY\",\"NC\",\"ND\",\"OH\",\"OK\",\"OR\",\"PA\",\"RI\",\"SC\",\"SD\",\"TN\",\"TX\",\"UT\",\"VT\",\"VA\",\"WA\",\"WV\",\"WI\",\"WY\"],\"name\":\"\",\"z\":[2.84,4.13,2.9,2.52,5.85,3.87,3.91,4.2,7.67,3.16,2.82,8.17,3.11,3.34,2.62,2.42,2.66,2.83,3.69,3.82,3.81,4.99,2.0,2.95,2.61,2.77,5.04,2.29,3.01,3.32,4.9,4.04,4.9,3.48,3.03,2.6,2.19,4.25,3.31,4.86,3.74,3.29,3.23,2.8,3.66,4.41,3.74,4.12,2.2,2.81,3.65],\"type\":\"choropleth\"}],\"name\":\"2011\"},{\"data\":[{\"coloraxis\":\"coloraxis\",\"customdata\":[[118921.67,43464.0],[240389.42,63648.0],[150278.5,47044.0],[104882.92,39018.0],[310043.5,57020.0],[231041.5,57255.0],[240683.5,64247.0],[217454.58,48972.0],[433393.92,65246.0],[142134.92,46071.0],[125422.67,48121.0],[480758.58,56263.0],[152180.67,47922.0],[158638.17,51738.0],[115587.25,46158.0],[121741.58,53442.0],[121742.33,50003.0],[112036.08,41086.0],[149259.42,39085.0],[186799.08,49158.0],[256455.5,71836.0],[308652.42,63656.0],[98776.17,50015.0],[167876.0,61795.0],[106158.42,36641.0],[123931.58,49764.0],[205341.75,45088.0],[127598.42,52196.0],[139204.5,47333.0],[213424.67,67819.0],[289680.58,66692.0],[165923.17,43424.0],[243598.92,47680.0],[153133.67,41553.0],[176634.17,55766.0],[112818.92,44375.0],[106129.08,48407.0],[215687.25,51775.0],[161605.5,51904.0],[225003.42,56065.0],[147229.42,44401.0],[156524.92,49415.0],[134757.08,42995.0],[138078.33,51926.0],[204713.92,58341.0],[228057.0,55582.0],[233170.17,64632.0],[225901.83,62187.0],[92224.0,43553.0],[142350.25,53079.0],[202674.58,57512.0]],\"geo\":\"geo\",\"hovertemplate\":\"<b>%{hovertext}</b><br><br>Year=2012<br>StateName=%{location}<br>Average House Price=%{customdata[0]}<br>Median Income=%{customdata[1]}<br>Ratio=%{z}<extra></extra>\",\"hovertext\":[\"Alabama\",\"Alaska\",\"Arizona\",\"Arkansas\",\"California\",\"Colorado\",\"Connecticut\",\"Delaware\",\"District of Columbia\",\"Florida\",\"Georgia\",\"Hawaii\",\"Idaho\",\"Illinois\",\"Indiana\",\"Iowa\",\"Kansas\",\"Kentucky\",\"Louisiana\",\"Maine\",\"Maryland\",\"Massachusetts\",\"Michigan\",\"Minnesota\",\"Mississippi\",\"Missouri\",\"Montana\",\"Nebraska\",\"Nevada\",\"New Hampshire\",\"New Jersey\",\"New Mexico\",\"New York\",\"North Carolina\",\"North Dakota\",\"Ohio\",\"Oklahoma\",\"Oregon\",\"Pennsylvania\",\"Rhode Island\",\"South Carolina\",\"South Dakota\",\"Tennessee\",\"Texas\",\"Utah\",\"Vermont\",\"Virginia\",\"Washington\",\"West Virginia\",\"Wisconsin\",\"Wyoming\"],\"locationmode\":\"USA-states\",\"locations\":[\"AL\",\"AK\",\"AZ\",\"AR\",\"CA\",\"CO\",\"CT\",\"DE\",\"DC\",\"FL\",\"GA\",\"HI\",\"ID\",\"IL\",\"IN\",\"IA\",\"KS\",\"KY\",\"LA\",\"ME\",\"MD\",\"MA\",\"MI\",\"MN\",\"MS\",\"MO\",\"MT\",\"NE\",\"NV\",\"NH\",\"NJ\",\"NM\",\"NY\",\"NC\",\"ND\",\"OH\",\"OK\",\"OR\",\"PA\",\"RI\",\"SC\",\"SD\",\"TN\",\"TX\",\"UT\",\"VT\",\"VA\",\"WA\",\"WV\",\"WI\",\"WY\"],\"name\":\"\",\"z\":[2.74,3.78,3.19,2.69,5.44,4.04,3.75,4.44,6.64,3.09,2.61,8.54,3.18,3.07,2.5,2.28,2.43,2.73,3.82,3.8,3.57,4.85,1.97,2.72,2.9,2.49,4.55,2.44,2.94,3.15,4.34,3.82,5.11,3.69,3.17,2.54,2.19,4.17,3.11,4.01,3.32,3.17,3.13,2.66,3.51,4.1,3.61,3.63,2.12,2.68,3.52],\"type\":\"choropleth\"}],\"name\":\"2012\"},{\"data\":[{\"coloraxis\":\"coloraxis\",\"customdata\":[[120395.5,41381.0],[246822.5,61137.0],[177180.75,50602.0],[107292.25,39919.0],[368782.08,57528.0],[249773.67,63371.0],[244972.92,67781.0],[216818.42,52219.0],[479473.83,60675.0],[158766.92,47886.0],[135215.08,47439.0],[506550.08,61408.0],[170849.33,51767.0],[164188.33,57196.0],[117248.67,50553.0],[125125.92,54855.0],[123461.67,51485.0],[113559.67,42158.0],[151269.08,39622.0],[190324.33,50121.0],[269005.58,65262.0],[327257.42,62963.0],[109666.25,48801.0],[182580.75,60907.0],[105386.33,40850.0],[126695.17,50311.0],[214591.92,44132.0],[133072.33,53774.0],[172059.0,45369.0],[220932.17,71322.0],[293956.17,61782.0],[168139.25,42127.0],[248124.92,53843.0],[155602.33,41208.0],[194011.5,52888.0],[114566.33,46398.0],[108519.08,43777.0],[236969.42,56307.0],[163286.92,53952.0],[232438.0,57812.0],[149641.75,43749.0],[161847.92,54453.0],[138018.5,42499.0],[145782.83,53027.0],[227338.17,62967.0],[228138.58,54842.0],[241964.42,67620.0],[246829.33,60106.0],[93926.33,40241.0],[145022.25,55258.0],[209674.25,55700.0]],\"geo\":\"geo\",\"hovertemplate\":\"<b>%{hovertext}</b><br><br>Year=2013<br>StateName=%{location}<br>Average House Price=%{customdata[0]}<br>Median Income=%{customdata[1]}<br>Ratio=%{z}<extra></extra>\",\"hovertext\":[\"Alabama\",\"Alaska\",\"Arizona\",\"Arkansas\",\"California\",\"Colorado\",\"Connecticut\",\"Delaware\",\"District of Columbia\",\"Florida\",\"Georgia\",\"Hawaii\",\"Idaho\",\"Illinois\",\"Indiana\",\"Iowa\",\"Kansas\",\"Kentucky\",\"Louisiana\",\"Maine\",\"Maryland\",\"Massachusetts\",\"Michigan\",\"Minnesota\",\"Mississippi\",\"Missouri\",\"Montana\",\"Nebraska\",\"Nevada\",\"New Hampshire\",\"New Jersey\",\"New Mexico\",\"New York\",\"North Carolina\",\"North Dakota\",\"Ohio\",\"Oklahoma\",\"Oregon\",\"Pennsylvania\",\"Rhode Island\",\"South Carolina\",\"South Dakota\",\"Tennessee\",\"Texas\",\"Utah\",\"Vermont\",\"Virginia\",\"Washington\",\"West Virginia\",\"Wisconsin\",\"Wyoming\"],\"locationmode\":\"USA-states\",\"locations\":[\"AL\",\"AK\",\"AZ\",\"AR\",\"CA\",\"CO\",\"CT\",\"DE\",\"DC\",\"FL\",\"GA\",\"HI\",\"ID\",\"IL\",\"IN\",\"IA\",\"KS\",\"KY\",\"LA\",\"ME\",\"MD\",\"MA\",\"MI\",\"MN\",\"MS\",\"MO\",\"MT\",\"NE\",\"NV\",\"NH\",\"NJ\",\"NM\",\"NY\",\"NC\",\"ND\",\"OH\",\"OK\",\"OR\",\"PA\",\"RI\",\"SC\",\"SD\",\"TN\",\"TX\",\"UT\",\"VT\",\"VA\",\"WA\",\"WV\",\"WI\",\"WY\"],\"name\":\"\",\"z\":[2.91,4.04,3.5,2.69,6.41,3.94,3.61,4.15,7.9,3.32,2.85,8.25,3.3,2.87,2.32,2.28,2.4,2.69,3.82,3.8,4.12,5.2,2.25,3.0,2.58,2.52,4.86,2.47,3.79,3.1,4.76,3.99,4.61,3.78,3.67,2.47,2.48,4.21,3.03,4.02,3.42,2.97,3.25,2.75,3.61,4.16,3.58,4.11,2.33,2.62,3.76],\"type\":\"choropleth\"}],\"name\":\"2013\"},{\"data\":[{\"coloraxis\":\"coloraxis\",\"customdata\":[[122718.5,42278.0],[254359.25,67629.0],[192510.67,49254.0],[108914.42,44922.0],[416937.33,60487.0],[269449.33,60940.0],[247212.33,70161.0],[226379.83,57522.0],[528392.17,68277.0],[177283.33,46140.0],[148376.75,49555.0],[546862.92,71223.0],[180629.58,53438.0],[174398.0,54916.0],[121254.67,48060.0],[128559.25,57810.0],[125785.0,53444.0],[116183.17,42786.0],[154641.58,42406.0],[191780.42,51710.0],[281132.58,76165.0],[345016.42,63151.0],[122477.75,52005.0],[196782.75,67244.0],[106407.42,35521.0],[130582.17,56630.0],[225155.25,51102.0],[137189.25,56870.0],[199759.83,49875.0],[229723.42,73397.0],[305611.33,65243.0],[172554.92,46686.0],[255865.58,54310.0],[160501.33,46784.0],[208682.33,60730.0],[117160.17,49644.0],[111665.25,47199.0],[257670.0,58875.0],[166190.5,55173.0],[242730.0,58633.0],[155123.0,44929.0],[167396.42,53053.0],[143614.92,43716.0],[157042.42,53875.0],[241173.17,63383.0],[228344.92,60708.0],[249371.42,66155.0],[265904.25,59068.0],[96202.5,39552.0],[151256.33,58080.0],[216853.08,55690.0]],\"geo\":\"geo\",\"hovertemplate\":\"<b>%{hovertext}</b><br><br>Year=2014<br>StateName=%{location}<br>Average House Price=%{customdata[0]}<br>Median Income=%{customdata[1]}<br>Ratio=%{z}<extra></extra>\",\"hovertext\":[\"Alabama\",\"Alaska\",\"Arizona\",\"Arkansas\",\"California\",\"Colorado\",\"Connecticut\",\"Delaware\",\"District of Columbia\",\"Florida\",\"Georgia\",\"Hawaii\",\"Idaho\",\"Illinois\",\"Indiana\",\"Iowa\",\"Kansas\",\"Kentucky\",\"Louisiana\",\"Maine\",\"Maryland\",\"Massachusetts\",\"Michigan\",\"Minnesota\",\"Mississippi\",\"Missouri\",\"Montana\",\"Nebraska\",\"Nevada\",\"New Hampshire\",\"New Jersey\",\"New Mexico\",\"New York\",\"North Carolina\",\"North Dakota\",\"Ohio\",\"Oklahoma\",\"Oregon\",\"Pennsylvania\",\"Rhode Island\",\"South Carolina\",\"South Dakota\",\"Tennessee\",\"Texas\",\"Utah\",\"Vermont\",\"Virginia\",\"Washington\",\"West Virginia\",\"Wisconsin\",\"Wyoming\"],\"locationmode\":\"USA-states\",\"locations\":[\"AL\",\"AK\",\"AZ\",\"AR\",\"CA\",\"CO\",\"CT\",\"DE\",\"DC\",\"FL\",\"GA\",\"HI\",\"ID\",\"IL\",\"IN\",\"IA\",\"KS\",\"KY\",\"LA\",\"ME\",\"MD\",\"MA\",\"MI\",\"MN\",\"MS\",\"MO\",\"MT\",\"NE\",\"NV\",\"NH\",\"NJ\",\"NM\",\"NY\",\"NC\",\"ND\",\"OH\",\"OK\",\"OR\",\"PA\",\"RI\",\"SC\",\"SD\",\"TN\",\"TX\",\"UT\",\"VT\",\"VA\",\"WA\",\"WV\",\"WI\",\"WY\"],\"name\":\"\",\"z\":[2.9,3.76,3.91,2.42,6.89,4.42,3.52,3.94,7.74,3.84,2.99,7.68,3.38,3.18,2.52,2.22,2.35,2.72,3.65,3.71,3.69,5.46,2.36,2.93,3.0,2.31,4.41,2.41,4.01,3.13,4.68,3.7,4.71,3.43,3.44,2.36,2.37,4.38,3.01,4.14,3.45,3.16,3.29,2.91,3.81,3.76,3.77,4.5,2.43,2.6,3.89],\"type\":\"choropleth\"}],\"name\":\"2014\"},{\"data\":[{\"coloraxis\":\"coloraxis\",\"customdata\":[[125482.33,44509.0],[262664.67,75112.0],[201532.25,52248.0],[111501.67,42798.0],[439917.58,63636.0],[298142.67,66596.0],[245333.42,72889.0],[233140.75,57756.0],[536182.42,70071.0],[189781.83,48825.0],[157256.33,50768.0],[567588.0,64514.0],[189291.83,51624.0],[179720.42,60413.0],[124929.25,51983.0],[132385.5,60855.0],[130222.25,54865.0],[119952.17,42387.0],[158273.83,45922.0],[196285.42,50756.0],[282484.92,73594.0],[357485.42,67861.0],[129525.42,54203.0],[203690.42,68730.0],[110859.67,40037.0],[134944.75,59196.0],[234738.17,51395.0],[143610.5,60474.0],[214371.33,52008.0],[238270.75,75675.0],[307914.33,68357.0],[174087.33,45119.0],[261299.5,58005.0],[165376.33,50797.0],[222575.67,57415.0],[121491.67,53301.0],[115688.83,47077.0],[277686.0,60834.0],[168720.17,60389.0],[246830.67,55701.0],[160409.75,46360.0],[174426.92,55065.0],[149165.0,47330.0],[169239.5,56473.0],[253595.75,66258.0],[230268.83,59494.0],[252191.42,61486.0],[286327.83,67243.0],[98644.08,42824.0],[155267.17,55425.0],[225163.17,60925.0]],\"geo\":\"geo\",\"hovertemplate\":\"<b>%{hovertext}</b><br><br>Year=2015<br>StateName=%{location}<br>Average House Price=%{customdata[0]}<br>Median Income=%{customdata[1]}<br>Ratio=%{z}<extra></extra>\",\"hovertext\":[\"Alabama\",\"Alaska\",\"Arizona\",\"Arkansas\",\"California\",\"Colorado\",\"Connecticut\",\"Delaware\",\"District of Columbia\",\"Florida\",\"Georgia\",\"Hawaii\",\"Idaho\",\"Illinois\",\"Indiana\",\"Iowa\",\"Kansas\",\"Kentucky\",\"Louisiana\",\"Maine\",\"Maryland\",\"Massachusetts\",\"Michigan\",\"Minnesota\",\"Mississippi\",\"Missouri\",\"Montana\",\"Nebraska\",\"Nevada\",\"New Hampshire\",\"New Jersey\",\"New Mexico\",\"New York\",\"North Carolina\",\"North Dakota\",\"Ohio\",\"Oklahoma\",\"Oregon\",\"Pennsylvania\",\"Rhode Island\",\"South Carolina\",\"South Dakota\",\"Tennessee\",\"Texas\",\"Utah\",\"Vermont\",\"Virginia\",\"Washington\",\"West Virginia\",\"Wisconsin\",\"Wyoming\"],\"locationmode\":\"USA-states\",\"locations\":[\"AL\",\"AK\",\"AZ\",\"AR\",\"CA\",\"CO\",\"CT\",\"DE\",\"DC\",\"FL\",\"GA\",\"HI\",\"ID\",\"IL\",\"IN\",\"IA\",\"KS\",\"KY\",\"LA\",\"ME\",\"MD\",\"MA\",\"MI\",\"MN\",\"MS\",\"MO\",\"MT\",\"NE\",\"NV\",\"NH\",\"NJ\",\"NM\",\"NY\",\"NC\",\"ND\",\"OH\",\"OK\",\"OR\",\"PA\",\"RI\",\"SC\",\"SD\",\"TN\",\"TX\",\"UT\",\"VT\",\"VA\",\"WA\",\"WV\",\"WI\",\"WY\"],\"name\":\"\",\"z\":[2.82,3.5,3.86,2.61,6.91,4.48,3.37,4.04,7.65,3.89,3.1,8.8,3.67,2.97,2.4,2.18,2.37,2.83,3.45,3.87,3.84,5.27,2.39,2.96,2.77,2.28,4.57,2.37,4.12,3.15,4.5,3.86,4.5,3.26,3.88,2.28,2.46,4.56,2.79,4.43,3.46,3.17,3.15,3.0,3.83,3.87,4.1,4.26,2.3,2.8,3.7],\"type\":\"choropleth\"}],\"name\":\"2015\"},{\"data\":[{\"coloraxis\":\"coloraxis\",\"customdata\":[[128569.42,47221.0],[267407.92,75723.0],[214525.25,57100.0],[115201.67,45907.0],[470662.92,66637.0],[330176.75,70566.0],[245276.33,75923.0],[240982.17,58046.0],[559512.17,70982.0],[205088.25,51176.0],[166632.67,53527.0],[590813.92,72133.0],[204469.92,56564.0],[186358.58,61386.0],[129598.75,56094.0],[137352.75,59094.0],[135390.0,56810.0],[125226.67,45369.0],[162215.67,42196.0],[205459.58,50856.0],[287715.58,73760.0],[374454.5,72266.0],[137770.08,57091.0],[215400.33,70218.0],[113634.08,41099.0],[141375.17,55016.0],[242321.17,57075.0],[150250.17,59374.0],[230417.42,55431.0],[247305.58,76260.0],[310401.17,68468.0],[178259.67,48451.0],[268919.0,61437.0],[172381.92,53764.0],[229435.67,60184.0],[126831.17,53985.0],[118851.5,50943.0],[307654.25,59135.0],[172854.08,60979.0],[259252.08,61528.0],[167487.92,54336.0],[183273.33,57450.0],[157779.75,51344.0],[181008.83,58146.0],[274004.08,67481.0],[232349.67,60837.0],[256546.42,66451.0],[316218.08,70310.0],[101045.17,44354.0],[162098.67,59817.0],[229972.83,57829.0]],\"geo\":\"geo\",\"hovertemplate\":\"<b>%{hovertext}</b><br><br>Year=2016<br>StateName=%{location}<br>Average House Price=%{customdata[0]}<br>Median Income=%{customdata[1]}<br>Ratio=%{z}<extra></extra>\",\"hovertext\":[\"Alabama\",\"Alaska\",\"Arizona\",\"Arkansas\",\"California\",\"Colorado\",\"Connecticut\",\"Delaware\",\"District of Columbia\",\"Florida\",\"Georgia\",\"Hawaii\",\"Idaho\",\"Illinois\",\"Indiana\",\"Iowa\",\"Kansas\",\"Kentucky\",\"Louisiana\",\"Maine\",\"Maryland\",\"Massachusetts\",\"Michigan\",\"Minnesota\",\"Mississippi\",\"Missouri\",\"Montana\",\"Nebraska\",\"Nevada\",\"New Hampshire\",\"New Jersey\",\"New Mexico\",\"New York\",\"North Carolina\",\"North Dakota\",\"Ohio\",\"Oklahoma\",\"Oregon\",\"Pennsylvania\",\"Rhode Island\",\"South Carolina\",\"South Dakota\",\"Tennessee\",\"Texas\",\"Utah\",\"Vermont\",\"Virginia\",\"Washington\",\"West Virginia\",\"Wisconsin\",\"Wyoming\"],\"locationmode\":\"USA-states\",\"locations\":[\"AL\",\"AK\",\"AZ\",\"AR\",\"CA\",\"CO\",\"CT\",\"DE\",\"DC\",\"FL\",\"GA\",\"HI\",\"ID\",\"IL\",\"IN\",\"IA\",\"KS\",\"KY\",\"LA\",\"ME\",\"MD\",\"MA\",\"MI\",\"MN\",\"MS\",\"MO\",\"MT\",\"NE\",\"NV\",\"NH\",\"NJ\",\"NM\",\"NY\",\"NC\",\"ND\",\"OH\",\"OK\",\"OR\",\"PA\",\"RI\",\"SC\",\"SD\",\"TN\",\"TX\",\"UT\",\"VT\",\"VA\",\"WA\",\"WV\",\"WI\",\"WY\"],\"name\":\"\",\"z\":[2.72,3.53,3.76,2.51,7.06,4.68,3.23,4.15,7.88,4.01,3.11,8.19,3.61,3.04,2.31,2.32,2.38,2.76,3.84,4.04,3.9,5.18,2.41,3.07,2.76,2.57,4.25,2.53,4.16,3.24,4.53,3.68,4.38,3.21,3.81,2.35,2.33,5.2,2.83,4.21,3.08,3.19,3.07,3.11,4.06,3.82,3.86,4.5,2.28,2.71,3.98],\"type\":\"choropleth\"}],\"name\":\"2016\"},{\"data\":[{\"coloraxis\":\"coloraxis\",\"customdata\":[[132678.0,51113.0],[268502.5,72231.0],[228748.75,61125.0],[119884.08,48829.0],[501841.92,69759.0],[359251.0,74172.0],[251242.33,72780.0],[247470.92,62318.0],[586267.17,83382.0],[220356.67,53681.0],[177260.33,57016.0],[625122.0,73575.0],[222564.75,60208.0],[195813.67,64609.0],[137043.75,58873.0],[143215.67,63481.0],[141772.33,57872.0],[132466.83,51348.0],[166403.67,43903.0],[217891.17,51664.0],[297915.75,81084.0],[395852.42,73227.0],[148964.75,57700.0],[229685.75,71920.0],[117099.42,43441.0],[149654.42,56885.0],[253757.5,59087.0],[160456.0,59619.0],[249321.67,56550.0],[262376.92,74801.0],[318810.42,72997.0],[184282.08,47855.0],[281231.0,62447.0],[182703.92,50343.0],[231290.83,59886.0],[134556.67,59768.0],[122949.58,55006.0],[335245.92,64610.0],[179466.83,63173.0],[274961.58,66390.0],[175827.83,54971.0],[193987.08,56894.0],[169021.42,55240.0],[192894.83,59295.0],[298568.33,71319.0],[239348.25,63805.0],[265470.08,71293.0],[351542.33,75418.0],[103094.67,45392.0],[172845.42,63451.0],[231480.92,57837.0]],\"geo\":\"geo\",\"hovertemplate\":\"<b>%{hovertext}</b><br><br>Year=2017<br>StateName=%{location}<br>Average House Price=%{customdata[0]}<br>Median Income=%{customdata[1]}<br>Ratio=%{z}<extra></extra>\",\"hovertext\":[\"Alabama\",\"Alaska\",\"Arizona\",\"Arkansas\",\"California\",\"Colorado\",\"Connecticut\",\"Delaware\",\"District of Columbia\",\"Florida\",\"Georgia\",\"Hawaii\",\"Idaho\",\"Illinois\",\"Indiana\",\"Iowa\",\"Kansas\",\"Kentucky\",\"Louisiana\",\"Maine\",\"Maryland\",\"Massachusetts\",\"Michigan\",\"Minnesota\",\"Mississippi\",\"Missouri\",\"Montana\",\"Nebraska\",\"Nevada\",\"New Hampshire\",\"New Jersey\",\"New Mexico\",\"New York\",\"North Carolina\",\"North Dakota\",\"Ohio\",\"Oklahoma\",\"Oregon\",\"Pennsylvania\",\"Rhode Island\",\"South Carolina\",\"South Dakota\",\"Tennessee\",\"Texas\",\"Utah\",\"Vermont\",\"Virginia\",\"Washington\",\"West Virginia\",\"Wisconsin\",\"Wyoming\"],\"locationmode\":\"USA-states\",\"locations\":[\"AL\",\"AK\",\"AZ\",\"AR\",\"CA\",\"CO\",\"CT\",\"DE\",\"DC\",\"FL\",\"GA\",\"HI\",\"ID\",\"IL\",\"IN\",\"IA\",\"KS\",\"KY\",\"LA\",\"ME\",\"MD\",\"MA\",\"MI\",\"MN\",\"MS\",\"MO\",\"MT\",\"NE\",\"NV\",\"NH\",\"NJ\",\"NM\",\"NY\",\"NC\",\"ND\",\"OH\",\"OK\",\"OR\",\"PA\",\"RI\",\"SC\",\"SD\",\"TN\",\"TX\",\"UT\",\"VT\",\"VA\",\"WA\",\"WV\",\"WI\",\"WY\"],\"name\":\"\",\"z\":[2.6,3.72,3.74,2.46,7.19,4.84,3.45,3.97,7.03,4.1,3.11,8.5,3.7,3.03,2.33,2.26,2.45,2.58,3.79,4.22,3.67,5.41,2.58,3.19,2.7,2.63,4.29,2.69,4.41,3.51,4.37,3.85,4.5,3.63,3.86,2.25,2.24,5.19,2.84,4.14,3.2,3.41,3.06,3.25,4.19,3.75,3.72,4.66,2.27,2.72,4.0],\"type\":\"choropleth\"}],\"name\":\"2017\"},{\"data\":[{\"coloraxis\":\"coloraxis\",\"customdata\":[[138818.25,51113.0],[270301.58,72231.0],[246023.0,61125.0],[125388.83,48829.0],[541072.92,69759.0],[386961.33,74172.0],[257977.67,72780.0],[256844.83,62318.0],[608188.75,83382.0],[235672.75,53681.0],[192610.17,57016.0],[652439.25,73575.0],[250502.83,60208.0],[203535.33,64609.0],[146838.17,58873.0],[148746.5,63481.0],[149163.42,57872.0],[140041.58,51348.0],[170439.42,43903.0],[231217.5,51664.0],[308787.75,81084.0],[419536.25,73227.0],[161384.42,57700.0],[245382.33,71920.0],[121318.17,43441.0],[158645.83,56885.0],[268141.92,59087.0],[171270.75,59619.0],[286444.42,56550.0],[279451.08,74801.0],[332765.25,72997.0],[191673.67,47855.0],[297204.67,62447.0],[194792.42,50343.0],[232211.0,59886.0],[143435.08,59768.0],[126860.83,55006.0],[357260.92,64610.0],[189277.92,63173.0],[294113.0,66390.0],[186089.92,54971.0],[203420.17,56894.0],[181729.0,55240.0],[204280.17,59295.0],[327432.08,71319.0],[249590.17,63805.0],[274899.92,71293.0],[388630.5,75418.0],[106796.58,45392.0],[184842.42,63451.0],[239582.0,57837.0]],\"geo\":\"geo\",\"hovertemplate\":\"<b>%{hovertext}</b><br><br>Year=2018<br>StateName=%{location}<br>Average House Price=%{customdata[0]}<br>Median Income=%{customdata[1]}<br>Ratio=%{z}<extra></extra>\",\"hovertext\":[\"Alabama\",\"Alaska\",\"Arizona\",\"Arkansas\",\"California\",\"Colorado\",\"Connecticut\",\"Delaware\",\"District of Columbia\",\"Florida\",\"Georgia\",\"Hawaii\",\"Idaho\",\"Illinois\",\"Indiana\",\"Iowa\",\"Kansas\",\"Kentucky\",\"Louisiana\",\"Maine\",\"Maryland\",\"Massachusetts\",\"Michigan\",\"Minnesota\",\"Mississippi\",\"Missouri\",\"Montana\",\"Nebraska\",\"Nevada\",\"New Hampshire\",\"New Jersey\",\"New Mexico\",\"New York\",\"North Carolina\",\"North Dakota\",\"Ohio\",\"Oklahoma\",\"Oregon\",\"Pennsylvania\",\"Rhode Island\",\"South Carolina\",\"South Dakota\",\"Tennessee\",\"Texas\",\"Utah\",\"Vermont\",\"Virginia\",\"Washington\",\"West Virginia\",\"Wisconsin\",\"Wyoming\"],\"locationmode\":\"USA-states\",\"locations\":[\"AL\",\"AK\",\"AZ\",\"AR\",\"CA\",\"CO\",\"CT\",\"DE\",\"DC\",\"FL\",\"GA\",\"HI\",\"ID\",\"IL\",\"IN\",\"IA\",\"KS\",\"KY\",\"LA\",\"ME\",\"MD\",\"MA\",\"MI\",\"MN\",\"MS\",\"MO\",\"MT\",\"NE\",\"NV\",\"NH\",\"NJ\",\"NM\",\"NY\",\"NC\",\"ND\",\"OH\",\"OK\",\"OR\",\"PA\",\"RI\",\"SC\",\"SD\",\"TN\",\"TX\",\"UT\",\"VT\",\"VA\",\"WA\",\"WV\",\"WI\",\"WY\"],\"name\":\"\",\"z\":[2.72,3.74,4.02,2.57,7.76,5.22,3.54,4.12,7.29,4.39,3.38,8.87,4.16,3.15,2.49,2.34,2.58,2.73,3.88,4.48,3.81,5.73,2.8,3.41,2.79,2.79,4.54,2.87,5.07,3.74,4.56,4.01,4.76,3.87,3.88,2.4,2.31,5.53,3.0,4.43,3.39,3.58,3.29,3.45,4.59,3.91,3.86,5.15,2.35,2.91,4.14],\"type\":\"choropleth\"}],\"name\":\"2018\"},{\"data\":[{\"coloraxis\":\"coloraxis\",\"customdata\":[[145619.08,56200.0],[285764.36,78394.0],[261280.17,70674.0],[130634.0,54539.0],[551136.0,78105.0],[403891.83,72499.0],[261088.0,87291.0],[263923.92,74194.0],[633390.25,93111.0],[246813.33,58368.0],[205353.33,56628.0],[663214.92,88006.0],[280418.83,65988.0],[207681.08,74399.0],[156597.83,66693.0],[154165.0,66054.0],[155594.25,73151.0],[146649.42,55662.0],[171424.83,51707.0],[241352.58,66546.0],[315937.5,95572.0],[429795.08,87707.0],[171455.58,64119.0],[257142.5,81426.0],[126346.17,44787.0],[166635.67,60597.0],[283306.92,60195.0],[180590.83,73071.0],[303540.5,70906.0],[291649.92,86900.0],[340583.75,87726.0],[202535.83,53113.0],[309581.33,71855.0],[206379.58,61159.0],[234315.83,70031.0],[151973.58,64663.0],[131472.08,59397.0],[370676.67,74413.0],[197445.67,70582.0],[302629.42,70151.0],[195225.25,62028.0],[213246.92,64255.0],[192795.08,56627.0],[214064.0,67444.0],[353006.75,84523.0],[257780.25,74305.0],[285608.5,81313.0],[405174.25,82454.0],[110180.5,53706.0],[194918.83,67355.0],[251059.75,65134.0]],\"geo\":\"geo\",\"hovertemplate\":\"<b>%{hovertext}</b><br><br>Year=2019<br>StateName=%{location}<br>Average House Price=%{customdata[0]}<br>Median Income=%{customdata[1]}<br>Ratio=%{z}<extra></extra>\",\"hovertext\":[\"Alabama\",\"Alaska\",\"Arizona\",\"Arkansas\",\"California\",\"Colorado\",\"Connecticut\",\"Delaware\",\"District of Columbia\",\"Florida\",\"Georgia\",\"Hawaii\",\"Idaho\",\"Illinois\",\"Indiana\",\"Iowa\",\"Kansas\",\"Kentucky\",\"Louisiana\",\"Maine\",\"Maryland\",\"Massachusetts\",\"Michigan\",\"Minnesota\",\"Mississippi\",\"Missouri\",\"Montana\",\"Nebraska\",\"Nevada\",\"New Hampshire\",\"New Jersey\",\"New Mexico\",\"New York\",\"North Carolina\",\"North Dakota\",\"Ohio\",\"Oklahoma\",\"Oregon\",\"Pennsylvania\",\"Rhode Island\",\"South Carolina\",\"South Dakota\",\"Tennessee\",\"Texas\",\"Utah\",\"Vermont\",\"Virginia\",\"Washington\",\"West Virginia\",\"Wisconsin\",\"Wyoming\"],\"locationmode\":\"USA-states\",\"locations\":[\"AL\",\"AK\",\"AZ\",\"AR\",\"CA\",\"CO\",\"CT\",\"DE\",\"DC\",\"FL\",\"GA\",\"HI\",\"ID\",\"IL\",\"IN\",\"IA\",\"KS\",\"KY\",\"LA\",\"ME\",\"MD\",\"MA\",\"MI\",\"MN\",\"MS\",\"MO\",\"MT\",\"NE\",\"NV\",\"NH\",\"NJ\",\"NM\",\"NY\",\"NC\",\"ND\",\"OH\",\"OK\",\"OR\",\"PA\",\"RI\",\"SC\",\"SD\",\"TN\",\"TX\",\"UT\",\"VT\",\"VA\",\"WA\",\"WV\",\"WI\",\"WY\"],\"name\":\"\",\"z\":[2.59,3.65,3.7,2.4,7.06,5.57,2.99,3.56,6.8,4.23,3.63,7.54,4.25,2.79,2.35,2.33,2.13,2.63,3.32,3.63,3.31,4.9,2.67,3.16,2.82,2.75,4.71,2.47,4.28,3.36,3.88,3.81,4.31,3.37,3.35,2.35,2.21,4.98,2.8,4.31,3.15,3.32,3.4,3.17,4.18,3.47,3.51,4.91,2.05,2.89,3.85],\"type\":\"choropleth\"}],\"name\":\"2019\"},{\"data\":[{\"coloraxis\":\"coloraxis\",\"customdata\":[[155009.83,54393.0],[290507.0,74476.0],[286914.5,66628.0],[136170.92,50540.0],[580133.83,77358.0],[422151.33,82611.0],[270228.2,79043.0],[272280.08,69132.0],[649736.42,88311.0],[258728.67,57435.0],[216654.25,58952.0],[670622.08,80729.0],[311922.67,66499.0],[212120.58,73753.0],[166305.25,66360.0],[158515.25,68469.0],[162559.82,72815.0],[154452.08,56525.0],[176318.92,50935.0],[260633.42,63440.0],[326200.58,94384.0],[450307.5,86725.0],[181323.83,63829.0],[269753.75,78461.0],[130949.42,44966.0],[175134.17,61901.0],[300301.42,56442.0],[189613.42,72024.0],[314986.75,60956.0],[310602.92,88235.0],[354035.67,85239.0],[216369.58,50822.0],[320105.42,68304.0],[218711.58,60266.0],[238326.5,63657.0],[161732.75,60110.0],[139120.17,52341.0],[389884.0,76554.0],[206959.8,70117.0],[319715.42,80012.0],[204840.83,60097.0],[221643.92,69787.0],[206241.17,54665.0],[222479.25,68093.0],[379497.08,83670.0],[266787.33,66902.0],[298237.42,81947.0],[438538.58,81083.0],[113007.75,51615.0],[206652.0,67094.0],[262022.25,65108.0]],\"geo\":\"geo\",\"hovertemplate\":\"<b>%{hovertext}</b><br><br>Year=2020<br>StateName=%{location}<br>Average House Price=%{customdata[0]}<br>Median Income=%{customdata[1]}<br>Ratio=%{z}<extra></extra>\",\"hovertext\":[\"Alabama\",\"Alaska\",\"Arizona\",\"Arkansas\",\"California\",\"Colorado\",\"Connecticut\",\"Delaware\",\"District of Columbia\",\"Florida\",\"Georgia\",\"Hawaii\",\"Idaho\",\"Illinois\",\"Indiana\",\"Iowa\",\"Kansas\",\"Kentucky\",\"Louisiana\",\"Maine\",\"Maryland\",\"Massachusetts\",\"Michigan\",\"Minnesota\",\"Mississippi\",\"Missouri\",\"Montana\",\"Nebraska\",\"Nevada\",\"New Hampshire\",\"New Jersey\",\"New Mexico\",\"New York\",\"North Carolina\",\"North Dakota\",\"Ohio\",\"Oklahoma\",\"Oregon\",\"Pennsylvania\",\"Rhode Island\",\"South Carolina\",\"South Dakota\",\"Tennessee\",\"Texas\",\"Utah\",\"Vermont\",\"Virginia\",\"Washington\",\"West Virginia\",\"Wisconsin\",\"Wyoming\"],\"locationmode\":\"USA-states\",\"locations\":[\"AL\",\"AK\",\"AZ\",\"AR\",\"CA\",\"CO\",\"CT\",\"DE\",\"DC\",\"FL\",\"GA\",\"HI\",\"ID\",\"IL\",\"IN\",\"IA\",\"KS\",\"KY\",\"LA\",\"ME\",\"MD\",\"MA\",\"MI\",\"MN\",\"MS\",\"MO\",\"MT\",\"NE\",\"NV\",\"NH\",\"NJ\",\"NM\",\"NY\",\"NC\",\"ND\",\"OH\",\"OK\",\"OR\",\"PA\",\"RI\",\"SC\",\"SD\",\"TN\",\"TX\",\"UT\",\"VT\",\"VA\",\"WA\",\"WV\",\"WI\",\"WY\"],\"name\":\"\",\"z\":[2.85,3.9,4.31,2.69,7.5,5.11,3.42,3.94,7.36,4.5,3.68,8.31,4.69,2.88,2.51,2.32,2.23,2.73,3.46,4.11,3.46,5.19,2.84,3.44,2.91,2.83,5.32,2.63,5.17,3.52,4.15,4.26,4.69,3.63,3.74,2.69,2.66,5.09,2.95,4.0,3.41,3.18,3.77,3.27,4.54,3.99,3.64,5.41,2.19,3.08,4.02],\"type\":\"choropleth\"}],\"name\":\"2020\"}]);\n",
       "                        }).then(function(){\n",
       "                            \n",
       "var gd = document.getElementById('a652fbb1-af13-4e12-a184-2c0bfc543682');\n",
       "var x = new MutationObserver(function (mutations, observer) {{\n",
       "        var display = window.getComputedStyle(gd).display;\n",
       "        if (!display || display === 'none') {{\n",
       "            console.log([gd, 'removed!']);\n",
       "            Plotly.purge(gd);\n",
       "            observer.disconnect();\n",
       "        }}\n",
       "}});\n",
       "\n",
       "// Listen for the removal of the full notebook cells\n",
       "var notebookContainer = gd.closest('#notebook-container');\n",
       "if (notebookContainer) {{\n",
       "    x.observe(notebookContainer, {childList: true});\n",
       "}}\n",
       "\n",
       "// Listen for the clearing of the current output cell\n",
       "var outputEl = gd.closest('.output');\n",
       "if (outputEl) {{\n",
       "    x.observe(outputEl, {childList: true});\n",
       "}}\n",
       "\n",
       "                        })                };                });            </script>        </div>"
      ]
     },
     "metadata": {},
     "output_type": "display_data"
    }
   ],
   "source": [
    "px.choropleth(df, \n",
    "              locations = 'StateName',\n",
    "              hover_name='RegionName',\n",
    "              hover_data=['Average House Price','Median Income'],\n",
    "              color=\"Ratio\", \n",
    "              animation_frame=\"Year\",\n",
    "              color_continuous_scale=\"Inferno\",\n",
    "              locationmode='USA-states',\n",
    "              scope=\"usa\",\n",
    "              range_color=(0, 10),\n",
    "              title='Price-to-Income Ratio by State',\n",
    "              height=600\n",
    "             )"
   ]
  },
  {
   "cell_type": "markdown",
   "id": "2101e473-86ed-46c5-b2d4-d14d63073769",
   "metadata": {},
   "source": [
    "The ratio of house prices to earnings influences the demand.As house prices rise relative to income you would expect fewer people to be able to afford. We all are familar with the saying \"Location Location Location\"!A home is located in a physical location and surrounded by a neighborhood which is something that transforms to some key aspects thus affecting both- you and your lifestyle. If a location is very close to commercial or market areas, then the house prices are higher as compared to counter parts in the resisdential areas.\n",
    "\n",
    "The process of retaining a property after the costs have been incurred by the owner is referred to as affordability. To put more simply, it is described as the relationship between the house prices, interest rates and wages.Comparable nearby properties or recently transacted house prices has long been used as a benchmark against your home potential price.\n",
    "\n",
    "We can see in this graph that the average house price of outer states of United States are much more higher than the inner one's because Top 50 metro-cities were mostly located into those areas this leads to increase in house prices."
   ]
  },
  {
   "cell_type": "code",
   "execution_count": null,
   "id": "3de0e520-d1ae-4f65-8b3e-74c1db4f03b5",
   "metadata": {},
   "outputs": [],
   "source": []
  }
 ],
 "metadata": {
  "kernelspec": {
   "display_name": "Python 3 (ipykernel)",
   "language": "python",
   "name": "python3"
  },
  "language_info": {
   "codemirror_mode": {
    "name": "ipython",
    "version": 3
   },
   "file_extension": ".py",
   "mimetype": "text/x-python",
   "name": "python",
   "nbconvert_exporter": "python",
   "pygments_lexer": "ipython3",
   "version": "3.9.12"
  }
 },
 "nbformat": 4,
 "nbformat_minor": 5
}
